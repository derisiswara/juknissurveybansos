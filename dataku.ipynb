{
 "cells": [
  {
   "cell_type": "code",
   "execution_count": 175,
   "id": "26ae1110",
   "metadata": {
    "vscode": {
     "languageId": "r"
    }
   },
   "outputs": [],
   "source": [
    "data <- read.csv(\"bpscode.csv\")"
   ]
  },
  {
   "cell_type": "code",
   "execution_count": 176,
   "id": "2583751c",
   "metadata": {
    "vscode": {
     "languageId": "r"
    }
   },
   "outputs": [
    {
     "data": {
      "text/html": [
       "<table class=\"dataframe\">\n",
       "<caption>A tibble: 6 × 5</caption>\n",
       "<thead>\n",
       "\t<tr><th scope=col>No</th><th scope=col>KPwDN_Koordinator</th><th scope=col>KPwDN</th><th scope=col>Tingkat</th><th scope=col>Pemda</th></tr>\n",
       "\t<tr><th scope=col>&lt;dbl&gt;</th><th scope=col>&lt;chr&gt;</th><th scope=col>&lt;chr&gt;</th><th scope=col>&lt;chr&gt;</th><th scope=col>&lt;chr&gt;</th></tr>\n",
       "</thead>\n",
       "<tbody>\n",
       "\t<tr><td>1</td><td>KPwDN Koordinator Bali</td><td>KPwDN Bali</td><td>Provinsi </td><td>Provinsi Bali     </td></tr>\n",
       "\t<tr><td>2</td><td>KPwDN Koordinator Bali</td><td>KPwDN Bali</td><td>Kota     </td><td>Kota Denpasar     </td></tr>\n",
       "\t<tr><td>3</td><td>KPwDN Koordinator Bali</td><td>KPwDN Bali</td><td>Kabupaten</td><td>Kabupaten Badung  </td></tr>\n",
       "\t<tr><td>4</td><td>KPwDN Koordinator Bali</td><td>KPwDN Bali</td><td>Kabupaten</td><td>Kabupaten Bangli  </td></tr>\n",
       "\t<tr><td>5</td><td>KPwDN Koordinator Bali</td><td>KPwDN Bali</td><td>Kabupaten</td><td>Kabupaten Buleleng</td></tr>\n",
       "\t<tr><td>6</td><td>KPwDN Koordinator Bali</td><td>KPwDN Bali</td><td>Kabupaten</td><td>Kabupaten Gianyar </td></tr>\n",
       "</tbody>\n",
       "</table>\n"
      ],
      "text/latex": [
       "A tibble: 6 × 5\n",
       "\\begin{tabular}{lllll}\n",
       " No & KPwDN\\_Koordinator & KPwDN & Tingkat & Pemda\\\\\n",
       " <dbl> & <chr> & <chr> & <chr> & <chr>\\\\\n",
       "\\hline\n",
       "\t 1 & KPwDN Koordinator Bali & KPwDN Bali & Provinsi  & Provinsi Bali     \\\\\n",
       "\t 2 & KPwDN Koordinator Bali & KPwDN Bali & Kota      & Kota Denpasar     \\\\\n",
       "\t 3 & KPwDN Koordinator Bali & KPwDN Bali & Kabupaten & Kabupaten Badung  \\\\\n",
       "\t 4 & KPwDN Koordinator Bali & KPwDN Bali & Kabupaten & Kabupaten Bangli  \\\\\n",
       "\t 5 & KPwDN Koordinator Bali & KPwDN Bali & Kabupaten & Kabupaten Buleleng\\\\\n",
       "\t 6 & KPwDN Koordinator Bali & KPwDN Bali & Kabupaten & Kabupaten Gianyar \\\\\n",
       "\\end{tabular}\n"
      ],
      "text/markdown": [
       "\n",
       "A tibble: 6 × 5\n",
       "\n",
       "| No &lt;dbl&gt; | KPwDN_Koordinator &lt;chr&gt; | KPwDN &lt;chr&gt; | Tingkat &lt;chr&gt; | Pemda &lt;chr&gt; |\n",
       "|---|---|---|---|---|\n",
       "| 1 | KPwDN Koordinator Bali | KPwDN Bali | Provinsi  | Provinsi Bali      |\n",
       "| 2 | KPwDN Koordinator Bali | KPwDN Bali | Kota      | Kota Denpasar      |\n",
       "| 3 | KPwDN Koordinator Bali | KPwDN Bali | Kabupaten | Kabupaten Badung   |\n",
       "| 4 | KPwDN Koordinator Bali | KPwDN Bali | Kabupaten | Kabupaten Bangli   |\n",
       "| 5 | KPwDN Koordinator Bali | KPwDN Bali | Kabupaten | Kabupaten Buleleng |\n",
       "| 6 | KPwDN Koordinator Bali | KPwDN Bali | Kabupaten | Kabupaten Gianyar  |\n",
       "\n"
      ],
      "text/plain": [
       "  No KPwDN_Koordinator      KPwDN      Tingkat   Pemda             \n",
       "1 1  KPwDN Koordinator Bali KPwDN Bali Provinsi  Provinsi Bali     \n",
       "2 2  KPwDN Koordinator Bali KPwDN Bali Kota      Kota Denpasar     \n",
       "3 3  KPwDN Koordinator Bali KPwDN Bali Kabupaten Kabupaten Badung  \n",
       "4 4  KPwDN Koordinator Bali KPwDN Bali Kabupaten Kabupaten Bangli  \n",
       "5 5  KPwDN Koordinator Bali KPwDN Bali Kabupaten Kabupaten Buleleng\n",
       "6 6  KPwDN Koordinator Bali KPwDN Bali Kabupaten Kabupaten Gianyar "
      ]
     },
     "metadata": {},
     "output_type": "display_data"
    }
   ],
   "source": [
    "library(readxl)\n",
    "dat <- read_excel(\"kwpdn.xlsx\")\n",
    "head(dat)"
   ]
  },
  {
   "cell_type": "code",
   "execution_count": 177,
   "id": "a35c9a2e",
   "metadata": {
    "vscode": {
     "languageId": "r"
    }
   },
   "outputs": [
    {
     "data": {
      "text/html": [
       "46"
      ],
      "text/latex": [
       "46"
      ],
      "text/markdown": [
       "46"
      ],
      "text/plain": [
       "[1] 46"
      ]
     },
     "metadata": {},
     "output_type": "display_data"
    }
   ],
   "source": [
    "sum(length(unique(dat$KPwDN)))"
   ]
  },
  {
   "cell_type": "code",
   "execution_count": 178,
   "id": "61ec7c55",
   "metadata": {
    "vscode": {
     "languageId": "r"
    }
   },
   "outputs": [
    {
     "data": {
      "text/html": [
       "<table class=\"dataframe\">\n",
       "<caption>A tibble: 6 × 6</caption>\n",
       "<thead>\n",
       "\t<tr><th scope=col>No</th><th scope=col>KPwDN_Koordinator</th><th scope=col>KPwDN</th><th scope=col>Tingkat</th><th scope=col>Pemda</th><th scope=col>KPwDN_Code</th></tr>\n",
       "\t<tr><th scope=col>&lt;dbl&gt;</th><th scope=col>&lt;chr&gt;</th><th scope=col>&lt;chr&gt;</th><th scope=col>&lt;chr&gt;</th><th scope=col>&lt;chr&gt;</th><th scope=col>&lt;dbl&gt;</th></tr>\n",
       "</thead>\n",
       "<tbody>\n",
       "\t<tr><td>1</td><td>KPwDN Koordinator Bali</td><td>KPwDN Bali</td><td>Provinsi </td><td>Provinsi Bali     </td><td>2</td></tr>\n",
       "\t<tr><td>2</td><td>KPwDN Koordinator Bali</td><td>KPwDN Bali</td><td>Kota     </td><td>Kota Denpasar     </td><td>2</td></tr>\n",
       "\t<tr><td>3</td><td>KPwDN Koordinator Bali</td><td>KPwDN Bali</td><td>Kabupaten</td><td>Kabupaten Badung  </td><td>2</td></tr>\n",
       "\t<tr><td>4</td><td>KPwDN Koordinator Bali</td><td>KPwDN Bali</td><td>Kabupaten</td><td>Kabupaten Bangli  </td><td>2</td></tr>\n",
       "\t<tr><td>5</td><td>KPwDN Koordinator Bali</td><td>KPwDN Bali</td><td>Kabupaten</td><td>Kabupaten Buleleng</td><td>2</td></tr>\n",
       "\t<tr><td>6</td><td>KPwDN Koordinator Bali</td><td>KPwDN Bali</td><td>Kabupaten</td><td>Kabupaten Gianyar </td><td>2</td></tr>\n",
       "</tbody>\n",
       "</table>\n"
      ],
      "text/latex": [
       "A tibble: 6 × 6\n",
       "\\begin{tabular}{llllll}\n",
       " No & KPwDN\\_Koordinator & KPwDN & Tingkat & Pemda & KPwDN\\_Code\\\\\n",
       " <dbl> & <chr> & <chr> & <chr> & <chr> & <dbl>\\\\\n",
       "\\hline\n",
       "\t 1 & KPwDN Koordinator Bali & KPwDN Bali & Provinsi  & Provinsi Bali      & 2\\\\\n",
       "\t 2 & KPwDN Koordinator Bali & KPwDN Bali & Kota      & Kota Denpasar      & 2\\\\\n",
       "\t 3 & KPwDN Koordinator Bali & KPwDN Bali & Kabupaten & Kabupaten Badung   & 2\\\\\n",
       "\t 4 & KPwDN Koordinator Bali & KPwDN Bali & Kabupaten & Kabupaten Bangli   & 2\\\\\n",
       "\t 5 & KPwDN Koordinator Bali & KPwDN Bali & Kabupaten & Kabupaten Buleleng & 2\\\\\n",
       "\t 6 & KPwDN Koordinator Bali & KPwDN Bali & Kabupaten & Kabupaten Gianyar  & 2\\\\\n",
       "\\end{tabular}\n"
      ],
      "text/markdown": [
       "\n",
       "A tibble: 6 × 6\n",
       "\n",
       "| No &lt;dbl&gt; | KPwDN_Koordinator &lt;chr&gt; | KPwDN &lt;chr&gt; | Tingkat &lt;chr&gt; | Pemda &lt;chr&gt; | KPwDN_Code &lt;dbl&gt; |\n",
       "|---|---|---|---|---|---|\n",
       "| 1 | KPwDN Koordinator Bali | KPwDN Bali | Provinsi  | Provinsi Bali      | 2 |\n",
       "| 2 | KPwDN Koordinator Bali | KPwDN Bali | Kota      | Kota Denpasar      | 2 |\n",
       "| 3 | KPwDN Koordinator Bali | KPwDN Bali | Kabupaten | Kabupaten Badung   | 2 |\n",
       "| 4 | KPwDN Koordinator Bali | KPwDN Bali | Kabupaten | Kabupaten Bangli   | 2 |\n",
       "| 5 | KPwDN Koordinator Bali | KPwDN Bali | Kabupaten | Kabupaten Buleleng | 2 |\n",
       "| 6 | KPwDN Koordinator Bali | KPwDN Bali | Kabupaten | Kabupaten Gianyar  | 2 |\n",
       "\n"
      ],
      "text/plain": [
       "  No KPwDN_Koordinator      KPwDN      Tingkat   Pemda              KPwDN_Code\n",
       "1 1  KPwDN Koordinator Bali KPwDN Bali Provinsi  Provinsi Bali      2         \n",
       "2 2  KPwDN Koordinator Bali KPwDN Bali Kota      Kota Denpasar      2         \n",
       "3 3  KPwDN Koordinator Bali KPwDN Bali Kabupaten Kabupaten Badung   2         \n",
       "4 4  KPwDN Koordinator Bali KPwDN Bali Kabupaten Kabupaten Bangli   2         \n",
       "5 5  KPwDN Koordinator Bali KPwDN Bali Kabupaten Kabupaten Buleleng 2         \n",
       "6 6  KPwDN Koordinator Bali KPwDN Bali Kabupaten Kabupaten Gianyar  2         "
      ]
     },
     "metadata": {},
     "output_type": "display_data"
    }
   ],
   "source": [
    "# # Give unique code to each KPwDN, dat$KPwDN_Code\n",
    "dat$KPwDN_Code <- as.numeric(factor(dat$KPwDN))\n",
    "head(dat)"
   ]
  },
  {
   "cell_type": "code",
   "execution_count": 179,
   "id": "2fedba25",
   "metadata": {
    "vscode": {
     "languageId": "r"
    }
   },
   "outputs": [
    {
     "data": {
      "text/html": [
       "46"
      ],
      "text/latex": [
       "46"
      ],
      "text/markdown": [
       "46"
      ],
      "text/plain": [
       "[1] 46"
      ]
     },
     "metadata": {},
     "output_type": "display_data"
    }
   ],
   "source": [
    "sum(length(unique(dat$KPwDN_Code)))"
   ]
  },
  {
   "cell_type": "code",
   "execution_count": 180,
   "id": "73c59317",
   "metadata": {
    "vscode": {
     "languageId": "r"
    }
   },
   "outputs": [
    {
     "data": {
      "text/html": [
       "<table class=\"dataframe\">\n",
       "<caption>A data.frame: 6 × 2</caption>\n",
       "<thead>\n",
       "\t<tr><th></th><th scope=col>KPwDN_Code</th><th scope=col>KPwDN</th></tr>\n",
       "\t<tr><th></th><th scope=col>&lt;dbl&gt;</th><th scope=col>&lt;chr&gt;</th></tr>\n",
       "</thead>\n",
       "<tbody>\n",
       "\t<tr><th scope=row>383</th><td>1</td><td>KPwDN Aceh</td></tr>\n",
       "\t<tr><th scope=row>384</th><td>1</td><td>KPwDN Aceh</td></tr>\n",
       "\t<tr><th scope=row>385</th><td>1</td><td>KPwDN Aceh</td></tr>\n",
       "\t<tr><th scope=row>386</th><td>1</td><td>KPwDN Aceh</td></tr>\n",
       "\t<tr><th scope=row>387</th><td>1</td><td>KPwDN Aceh</td></tr>\n",
       "\t<tr><th scope=row>388</th><td>1</td><td>KPwDN Aceh</td></tr>\n",
       "</tbody>\n",
       "</table>\n"
      ],
      "text/latex": [
       "A data.frame: 6 × 2\n",
       "\\begin{tabular}{r|ll}\n",
       "  & KPwDN\\_Code & KPwDN\\\\\n",
       "  & <dbl> & <chr>\\\\\n",
       "\\hline\n",
       "\t383 & 1 & KPwDN Aceh\\\\\n",
       "\t384 & 1 & KPwDN Aceh\\\\\n",
       "\t385 & 1 & KPwDN Aceh\\\\\n",
       "\t386 & 1 & KPwDN Aceh\\\\\n",
       "\t387 & 1 & KPwDN Aceh\\\\\n",
       "\t388 & 1 & KPwDN Aceh\\\\\n",
       "\\end{tabular}\n"
      ],
      "text/markdown": [
       "\n",
       "A data.frame: 6 × 2\n",
       "\n",
       "| <!--/--> | KPwDN_Code &lt;dbl&gt; | KPwDN &lt;chr&gt; |\n",
       "|---|---|---|\n",
       "| 383 | 1 | KPwDN Aceh |\n",
       "| 384 | 1 | KPwDN Aceh |\n",
       "| 385 | 1 | KPwDN Aceh |\n",
       "| 386 | 1 | KPwDN Aceh |\n",
       "| 387 | 1 | KPwDN Aceh |\n",
       "| 388 | 1 | KPwDN Aceh |\n",
       "\n"
      ],
      "text/plain": [
       "    KPwDN_Code KPwDN     \n",
       "383 1          KPwDN Aceh\n",
       "384 1          KPwDN Aceh\n",
       "385 1          KPwDN Aceh\n",
       "386 1          KPwDN Aceh\n",
       "387 1          KPwDN Aceh\n",
       "388 1          KPwDN Aceh"
      ]
     },
     "metadata": {},
     "output_type": "display_data"
    }
   ],
   "source": [
    "# KPwDN Code And KPwDN as data frame\n",
    "kpwdn_df <- data.frame(KPwDN_Code = dat$KPwDN_Code, KPwDN = dat$KPwDN)\n",
    "# Order by KPwDN_Code\n",
    "kpwdn_df <- kpwdn_df[order(kpwdn_df$KPwDN_Code), ]\n",
    "# Remove duplicates\n",
    "head(kpwdn_df)"
   ]
  },
  {
   "cell_type": "code",
   "execution_count": 181,
   "id": "c22dc0de",
   "metadata": {
    "vscode": {
     "languageId": "r"
    }
   },
   "outputs": [
    {
     "data": {
      "text/html": [
       "<table class=\"dataframe\">\n",
       "<caption>A data.frame: 6 × 6</caption>\n",
       "<thead>\n",
       "\t<tr><th></th><th scope=col>prov</th><th scope=col>kabkot</th><th scope=col>kecamatan</th><th scope=col>code_prov</th><th scope=col>code_kab</th><th scope=col>code_kec</th></tr>\n",
       "\t<tr><th></th><th scope=col>&lt;chr&gt;</th><th scope=col>&lt;chr&gt;</th><th scope=col>&lt;chr&gt;</th><th scope=col>&lt;int&gt;</th><th scope=col>&lt;int&gt;</th><th scope=col>&lt;int&gt;</th></tr>\n",
       "</thead>\n",
       "<tbody>\n",
       "\t<tr><th scope=row>1</th><td>ACEH</td><td>KAB. SIMEULUE</td><td>ALAFAN         </td><td>11</td><td>1</td><td>51</td></tr>\n",
       "\t<tr><th scope=row>2</th><td>ACEH</td><td>KAB. SIMEULUE</td><td>SALANG         </td><td>11</td><td>1</td><td>40</td></tr>\n",
       "\t<tr><th scope=row>3</th><td>ACEH</td><td>KAB. SIMEULUE</td><td>SIMEULUE BARAT </td><td>11</td><td>1</td><td>50</td></tr>\n",
       "\t<tr><th scope=row>4</th><td>ACEH</td><td>KAB. SIMEULUE</td><td>SIMEULUE CUT   </td><td>11</td><td>1</td><td>32</td></tr>\n",
       "\t<tr><th scope=row>5</th><td>ACEH</td><td>KAB. SIMEULUE</td><td>SIMEULUE TENGAH</td><td>11</td><td>1</td><td>30</td></tr>\n",
       "\t<tr><th scope=row>6</th><td>ACEH</td><td>KAB. SIMEULUE</td><td>SIMEULUE TIMUR </td><td>11</td><td>1</td><td>20</td></tr>\n",
       "</tbody>\n",
       "</table>\n"
      ],
      "text/latex": [
       "A data.frame: 6 × 6\n",
       "\\begin{tabular}{r|llllll}\n",
       "  & prov & kabkot & kecamatan & code\\_prov & code\\_kab & code\\_kec\\\\\n",
       "  & <chr> & <chr> & <chr> & <int> & <int> & <int>\\\\\n",
       "\\hline\n",
       "\t1 & ACEH & KAB. SIMEULUE & ALAFAN          & 11 & 1 & 51\\\\\n",
       "\t2 & ACEH & KAB. SIMEULUE & SALANG          & 11 & 1 & 40\\\\\n",
       "\t3 & ACEH & KAB. SIMEULUE & SIMEULUE BARAT  & 11 & 1 & 50\\\\\n",
       "\t4 & ACEH & KAB. SIMEULUE & SIMEULUE CUT    & 11 & 1 & 32\\\\\n",
       "\t5 & ACEH & KAB. SIMEULUE & SIMEULUE TENGAH & 11 & 1 & 30\\\\\n",
       "\t6 & ACEH & KAB. SIMEULUE & SIMEULUE TIMUR  & 11 & 1 & 20\\\\\n",
       "\\end{tabular}\n"
      ],
      "text/markdown": [
       "\n",
       "A data.frame: 6 × 6\n",
       "\n",
       "| <!--/--> | prov &lt;chr&gt; | kabkot &lt;chr&gt; | kecamatan &lt;chr&gt; | code_prov &lt;int&gt; | code_kab &lt;int&gt; | code_kec &lt;int&gt; |\n",
       "|---|---|---|---|---|---|---|\n",
       "| 1 | ACEH | KAB. SIMEULUE | ALAFAN          | 11 | 1 | 51 |\n",
       "| 2 | ACEH | KAB. SIMEULUE | SALANG          | 11 | 1 | 40 |\n",
       "| 3 | ACEH | KAB. SIMEULUE | SIMEULUE BARAT  | 11 | 1 | 50 |\n",
       "| 4 | ACEH | KAB. SIMEULUE | SIMEULUE CUT    | 11 | 1 | 32 |\n",
       "| 5 | ACEH | KAB. SIMEULUE | SIMEULUE TENGAH | 11 | 1 | 30 |\n",
       "| 6 | ACEH | KAB. SIMEULUE | SIMEULUE TIMUR  | 11 | 1 | 20 |\n",
       "\n"
      ],
      "text/plain": [
       "  prov kabkot        kecamatan       code_prov code_kab code_kec\n",
       "1 ACEH KAB. SIMEULUE ALAFAN          11        1        51      \n",
       "2 ACEH KAB. SIMEULUE SALANG          11        1        40      \n",
       "3 ACEH KAB. SIMEULUE SIMEULUE BARAT  11        1        50      \n",
       "4 ACEH KAB. SIMEULUE SIMEULUE CUT    11        1        32      \n",
       "5 ACEH KAB. SIMEULUE SIMEULUE TENGAH 11        1        30      \n",
       "6 ACEH KAB. SIMEULUE SIMEULUE TIMUR  11        1        20      "
      ]
     },
     "metadata": {},
     "output_type": "display_data"
    }
   ],
   "source": [
    "data <- read.csv(\"bpscode.csv\")\n",
    "head(data)"
   ]
  },
  {
   "cell_type": "code",
   "execution_count": 182,
   "id": "e1eede0c",
   "metadata": {
    "vscode": {
     "languageId": "r"
    }
   },
   "outputs": [
    {
     "data": {
      "text/html": [
       "514"
      ],
      "text/latex": [
       "514"
      ],
      "text/markdown": [
       "514"
      ],
      "text/plain": [
       "[1] 514"
      ]
     },
     "metadata": {},
     "output_type": "display_data"
    }
   ],
   "source": [
    "sum(length(unique(data$kabkot)))"
   ]
  },
  {
   "cell_type": "code",
   "execution_count": 183,
   "id": "e7fd6425",
   "metadata": {
    "vscode": {
     "languageId": "r"
    }
   },
   "outputs": [
    {
     "data": {
      "text/html": [
       "<table class=\"dataframe\">\n",
       "<caption>A data.frame: 6 × 7</caption>\n",
       "<thead>\n",
       "\t<tr><th></th><th scope=col>prov</th><th scope=col>kabkot</th><th scope=col>kecamatan</th><th scope=col>code_prov</th><th scope=col>code_kab</th><th scope=col>code_kec</th><th scope=col>provkabkot_code</th></tr>\n",
       "\t<tr><th></th><th scope=col>&lt;chr&gt;</th><th scope=col>&lt;chr&gt;</th><th scope=col>&lt;chr&gt;</th><th scope=col>&lt;int&gt;</th><th scope=col>&lt;int&gt;</th><th scope=col>&lt;int&gt;</th><th scope=col>&lt;chr&gt;</th></tr>\n",
       "</thead>\n",
       "<tbody>\n",
       "\t<tr><th scope=row>1</th><td>ACEH</td><td>KAB. SIMEULUE</td><td>ALAFAN         </td><td>11</td><td>1</td><td>51</td><td>111</td></tr>\n",
       "\t<tr><th scope=row>2</th><td>ACEH</td><td>KAB. SIMEULUE</td><td>SALANG         </td><td>11</td><td>1</td><td>40</td><td>111</td></tr>\n",
       "\t<tr><th scope=row>3</th><td>ACEH</td><td>KAB. SIMEULUE</td><td>SIMEULUE BARAT </td><td>11</td><td>1</td><td>50</td><td>111</td></tr>\n",
       "\t<tr><th scope=row>4</th><td>ACEH</td><td>KAB. SIMEULUE</td><td>SIMEULUE CUT   </td><td>11</td><td>1</td><td>32</td><td>111</td></tr>\n",
       "\t<tr><th scope=row>5</th><td>ACEH</td><td>KAB. SIMEULUE</td><td>SIMEULUE TENGAH</td><td>11</td><td>1</td><td>30</td><td>111</td></tr>\n",
       "\t<tr><th scope=row>6</th><td>ACEH</td><td>KAB. SIMEULUE</td><td>SIMEULUE TIMUR </td><td>11</td><td>1</td><td>20</td><td>111</td></tr>\n",
       "</tbody>\n",
       "</table>\n"
      ],
      "text/latex": [
       "A data.frame: 6 × 7\n",
       "\\begin{tabular}{r|lllllll}\n",
       "  & prov & kabkot & kecamatan & code\\_prov & code\\_kab & code\\_kec & provkabkot\\_code\\\\\n",
       "  & <chr> & <chr> & <chr> & <int> & <int> & <int> & <chr>\\\\\n",
       "\\hline\n",
       "\t1 & ACEH & KAB. SIMEULUE & ALAFAN          & 11 & 1 & 51 & 111\\\\\n",
       "\t2 & ACEH & KAB. SIMEULUE & SALANG          & 11 & 1 & 40 & 111\\\\\n",
       "\t3 & ACEH & KAB. SIMEULUE & SIMEULUE BARAT  & 11 & 1 & 50 & 111\\\\\n",
       "\t4 & ACEH & KAB. SIMEULUE & SIMEULUE CUT    & 11 & 1 & 32 & 111\\\\\n",
       "\t5 & ACEH & KAB. SIMEULUE & SIMEULUE TENGAH & 11 & 1 & 30 & 111\\\\\n",
       "\t6 & ACEH & KAB. SIMEULUE & SIMEULUE TIMUR  & 11 & 1 & 20 & 111\\\\\n",
       "\\end{tabular}\n"
      ],
      "text/markdown": [
       "\n",
       "A data.frame: 6 × 7\n",
       "\n",
       "| <!--/--> | prov &lt;chr&gt; | kabkot &lt;chr&gt; | kecamatan &lt;chr&gt; | code_prov &lt;int&gt; | code_kab &lt;int&gt; | code_kec &lt;int&gt; | provkabkot_code &lt;chr&gt; |\n",
       "|---|---|---|---|---|---|---|---|\n",
       "| 1 | ACEH | KAB. SIMEULUE | ALAFAN          | 11 | 1 | 51 | 111 |\n",
       "| 2 | ACEH | KAB. SIMEULUE | SALANG          | 11 | 1 | 40 | 111 |\n",
       "| 3 | ACEH | KAB. SIMEULUE | SIMEULUE BARAT  | 11 | 1 | 50 | 111 |\n",
       "| 4 | ACEH | KAB. SIMEULUE | SIMEULUE CUT    | 11 | 1 | 32 | 111 |\n",
       "| 5 | ACEH | KAB. SIMEULUE | SIMEULUE TENGAH | 11 | 1 | 30 | 111 |\n",
       "| 6 | ACEH | KAB. SIMEULUE | SIMEULUE TIMUR  | 11 | 1 | 20 | 111 |\n",
       "\n"
      ],
      "text/plain": [
       "  prov kabkot        kecamatan       code_prov code_kab code_kec\n",
       "1 ACEH KAB. SIMEULUE ALAFAN          11        1        51      \n",
       "2 ACEH KAB. SIMEULUE SALANG          11        1        40      \n",
       "3 ACEH KAB. SIMEULUE SIMEULUE BARAT  11        1        50      \n",
       "4 ACEH KAB. SIMEULUE SIMEULUE CUT    11        1        32      \n",
       "5 ACEH KAB. SIMEULUE SIMEULUE TENGAH 11        1        30      \n",
       "6 ACEH KAB. SIMEULUE SIMEULUE TIMUR  11        1        20      \n",
       "  provkabkot_code\n",
       "1 111            \n",
       "2 111            \n",
       "3 111            \n",
       "4 111            \n",
       "5 111            \n",
       "6 111            "
      ]
     },
     "metadata": {},
     "output_type": "display_data"
    }
   ],
   "source": [
    "data$provkabkot_code <- paste0(data$code_prov, data$code_kab)\n",
    "head(data)\n"
   ]
  },
  {
   "cell_type": "code",
   "execution_count": 184,
   "id": "1115fa5b",
   "metadata": {
    "vscode": {
     "languageId": "r"
    }
   },
   "outputs": [
    {
     "data": {
      "text/html": [
       "<table class=\"dataframe\">\n",
       "<caption>A data.frame: 6 × 7</caption>\n",
       "<thead>\n",
       "\t<tr><th></th><th scope=col>prov</th><th scope=col>kabkot</th><th scope=col>kecamatan</th><th scope=col>code_prov</th><th scope=col>code_kab</th><th scope=col>code_kec</th><th scope=col>provkabkot_code</th></tr>\n",
       "\t<tr><th></th><th scope=col>&lt;chr&gt;</th><th scope=col>&lt;chr&gt;</th><th scope=col>&lt;chr&gt;</th><th scope=col>&lt;int&gt;</th><th scope=col>&lt;int&gt;</th><th scope=col>&lt;int&gt;</th><th scope=col>&lt;chr&gt;</th></tr>\n",
       "</thead>\n",
       "<tbody>\n",
       "\t<tr><th scope=row>7283</th><td>PAPUA PEGUNUNGAN</td><td>KAB. PEGUNUNGAN BINTANG</td><td>PAMEK     </td><td>97</td><td>8</td><td>170</td><td>978</td></tr>\n",
       "\t<tr><th scope=row>7284</th><td>PAPUA PEGUNUNGAN</td><td>KAB. PEGUNUNGAN BINTANG</td><td>PEPERA    </td><td>97</td><td>8</td><td> 60</td><td>978</td></tr>\n",
       "\t<tr><th scope=row>7285</th><td>PAPUA PEGUNUNGAN</td><td>KAB. PEGUNUNGAN BINTANG</td><td>SERAMBAKON</td><td>97</td><td>8</td><td> 80</td><td>978</td></tr>\n",
       "\t<tr><th scope=row>7286</th><td>PAPUA PEGUNUNGAN</td><td>KAB. PEGUNUNGAN BINTANG</td><td>TARUP     </td><td>97</td><td>8</td><td> 30</td><td>978</td></tr>\n",
       "\t<tr><th scope=row>7287</th><td>PAPUA PEGUNUNGAN</td><td>KAB. PEGUNUNGAN BINTANG</td><td>TEIRAPLU  </td><td>97</td><td>8</td><td>230</td><td>978</td></tr>\n",
       "\t<tr><th scope=row>7288</th><td>PAPUA PEGUNUNGAN</td><td>KAB. PEGUNUNGAN BINTANG</td><td>WEIME     </td><td>97</td><td>8</td><td>160</td><td>978</td></tr>\n",
       "</tbody>\n",
       "</table>\n"
      ],
      "text/latex": [
       "A data.frame: 6 × 7\n",
       "\\begin{tabular}{r|lllllll}\n",
       "  & prov & kabkot & kecamatan & code\\_prov & code\\_kab & code\\_kec & provkabkot\\_code\\\\\n",
       "  & <chr> & <chr> & <chr> & <int> & <int> & <int> & <chr>\\\\\n",
       "\\hline\n",
       "\t7283 & PAPUA PEGUNUNGAN & KAB. PEGUNUNGAN BINTANG & PAMEK      & 97 & 8 & 170 & 978\\\\\n",
       "\t7284 & PAPUA PEGUNUNGAN & KAB. PEGUNUNGAN BINTANG & PEPERA     & 97 & 8 &  60 & 978\\\\\n",
       "\t7285 & PAPUA PEGUNUNGAN & KAB. PEGUNUNGAN BINTANG & SERAMBAKON & 97 & 8 &  80 & 978\\\\\n",
       "\t7286 & PAPUA PEGUNUNGAN & KAB. PEGUNUNGAN BINTANG & TARUP      & 97 & 8 &  30 & 978\\\\\n",
       "\t7287 & PAPUA PEGUNUNGAN & KAB. PEGUNUNGAN BINTANG & TEIRAPLU   & 97 & 8 & 230 & 978\\\\\n",
       "\t7288 & PAPUA PEGUNUNGAN & KAB. PEGUNUNGAN BINTANG & WEIME      & 97 & 8 & 160 & 978\\\\\n",
       "\\end{tabular}\n"
      ],
      "text/markdown": [
       "\n",
       "A data.frame: 6 × 7\n",
       "\n",
       "| <!--/--> | prov &lt;chr&gt; | kabkot &lt;chr&gt; | kecamatan &lt;chr&gt; | code_prov &lt;int&gt; | code_kab &lt;int&gt; | code_kec &lt;int&gt; | provkabkot_code &lt;chr&gt; |\n",
       "|---|---|---|---|---|---|---|---|\n",
       "| 7283 | PAPUA PEGUNUNGAN | KAB. PEGUNUNGAN BINTANG | PAMEK      | 97 | 8 | 170 | 978 |\n",
       "| 7284 | PAPUA PEGUNUNGAN | KAB. PEGUNUNGAN BINTANG | PEPERA     | 97 | 8 |  60 | 978 |\n",
       "| 7285 | PAPUA PEGUNUNGAN | KAB. PEGUNUNGAN BINTANG | SERAMBAKON | 97 | 8 |  80 | 978 |\n",
       "| 7286 | PAPUA PEGUNUNGAN | KAB. PEGUNUNGAN BINTANG | TARUP      | 97 | 8 |  30 | 978 |\n",
       "| 7287 | PAPUA PEGUNUNGAN | KAB. PEGUNUNGAN BINTANG | TEIRAPLU   | 97 | 8 | 230 | 978 |\n",
       "| 7288 | PAPUA PEGUNUNGAN | KAB. PEGUNUNGAN BINTANG | WEIME      | 97 | 8 | 160 | 978 |\n",
       "\n"
      ],
      "text/plain": [
       "     prov             kabkot                  kecamatan  code_prov code_kab\n",
       "7283 PAPUA PEGUNUNGAN KAB. PEGUNUNGAN BINTANG PAMEK      97        8       \n",
       "7284 PAPUA PEGUNUNGAN KAB. PEGUNUNGAN BINTANG PEPERA     97        8       \n",
       "7285 PAPUA PEGUNUNGAN KAB. PEGUNUNGAN BINTANG SERAMBAKON 97        8       \n",
       "7286 PAPUA PEGUNUNGAN KAB. PEGUNUNGAN BINTANG TARUP      97        8       \n",
       "7287 PAPUA PEGUNUNGAN KAB. PEGUNUNGAN BINTANG TEIRAPLU   97        8       \n",
       "7288 PAPUA PEGUNUNGAN KAB. PEGUNUNGAN BINTANG WEIME      97        8       \n",
       "     code_kec provkabkot_code\n",
       "7283 170      978            \n",
       "7284  60      978            \n",
       "7285  80      978            \n",
       "7286  30      978            \n",
       "7287 230      978            \n",
       "7288 160      978            "
      ]
     },
     "metadata": {},
     "output_type": "display_data"
    }
   ],
   "source": [
    "tail(data)"
   ]
  },
  {
   "cell_type": "code",
   "execution_count": 185,
   "id": "50aa1fc1",
   "metadata": {
    "vscode": {
     "languageId": "r"
    }
   },
   "outputs": [
    {
     "data": {
      "text/html": [
       "<table class=\"dataframe\">\n",
       "<caption>A tibble: 6 × 6</caption>\n",
       "<thead>\n",
       "\t<tr><th scope=col>No</th><th scope=col>KPwDN_Koordinator</th><th scope=col>KPwDN</th><th scope=col>Tingkat</th><th scope=col>Pemda</th><th scope=col>KPwDN_Code</th></tr>\n",
       "\t<tr><th scope=col>&lt;dbl&gt;</th><th scope=col>&lt;chr&gt;</th><th scope=col>&lt;chr&gt;</th><th scope=col>&lt;chr&gt;</th><th scope=col>&lt;chr&gt;</th><th scope=col>&lt;dbl&gt;</th></tr>\n",
       "</thead>\n",
       "<tbody>\n",
       "\t<tr><td>383</td><td>KPwDN Koordinator Sumatera Utara</td><td>KPwDN Aceh         </td><td>Provinsi</td><td>ACEH                      </td><td>1</td></tr>\n",
       "\t<tr><td>  1</td><td>KPwDN Koordinator Bali          </td><td>KPwDN Bali         </td><td>Provinsi</td><td>BALI                      </td><td>2</td></tr>\n",
       "\t<tr><td> 45</td><td>KPwDN Koordinator Jawa Timur    </td><td>KPwDN Banten       </td><td>Provinsi</td><td>BANTEN                    </td><td>4</td></tr>\n",
       "\t<tr><td>397</td><td>KPwDN Koordinator Sumatera Utara</td><td>KPwDN Bengkulu     </td><td>Provinsi</td><td>BENGKULU                  </td><td>5</td></tr>\n",
       "\t<tr><td> 59</td><td>KPwDN Koordinator Jawa Timur    </td><td>KPwDN DI Yogyakarta</td><td>Provinsi</td><td>DAERAH ISTIMEWA YOGYAKARTA</td><td>7</td></tr>\n",
       "\t<tr><td> 65</td><td>KPwDN Koordinator Jawa Timur    </td><td>KPwDN DKI Jakarta  </td><td>Provinsi</td><td>DKI JAKARTA               </td><td>8</td></tr>\n",
       "</tbody>\n",
       "</table>\n"
      ],
      "text/latex": [
       "A tibble: 6 × 6\n",
       "\\begin{tabular}{llllll}\n",
       " No & KPwDN\\_Koordinator & KPwDN & Tingkat & Pemda & KPwDN\\_Code\\\\\n",
       " <dbl> & <chr> & <chr> & <chr> & <chr> & <dbl>\\\\\n",
       "\\hline\n",
       "\t 383 & KPwDN Koordinator Sumatera Utara & KPwDN Aceh          & Provinsi & ACEH                       & 1\\\\\n",
       "\t   1 & KPwDN Koordinator Bali           & KPwDN Bali          & Provinsi & BALI                       & 2\\\\\n",
       "\t  45 & KPwDN Koordinator Jawa Timur     & KPwDN Banten        & Provinsi & BANTEN                     & 4\\\\\n",
       "\t 397 & KPwDN Koordinator Sumatera Utara & KPwDN Bengkulu      & Provinsi & BENGKULU                   & 5\\\\\n",
       "\t  59 & KPwDN Koordinator Jawa Timur     & KPwDN DI Yogyakarta & Provinsi & DAERAH ISTIMEWA YOGYAKARTA & 7\\\\\n",
       "\t  65 & KPwDN Koordinator Jawa Timur     & KPwDN DKI Jakarta   & Provinsi & DKI JAKARTA                & 8\\\\\n",
       "\\end{tabular}\n"
      ],
      "text/markdown": [
       "\n",
       "A tibble: 6 × 6\n",
       "\n",
       "| No &lt;dbl&gt; | KPwDN_Koordinator &lt;chr&gt; | KPwDN &lt;chr&gt; | Tingkat &lt;chr&gt; | Pemda &lt;chr&gt; | KPwDN_Code &lt;dbl&gt; |\n",
       "|---|---|---|---|---|---|\n",
       "| 383 | KPwDN Koordinator Sumatera Utara | KPwDN Aceh          | Provinsi | ACEH                       | 1 |\n",
       "|   1 | KPwDN Koordinator Bali           | KPwDN Bali          | Provinsi | BALI                       | 2 |\n",
       "|  45 | KPwDN Koordinator Jawa Timur     | KPwDN Banten        | Provinsi | BANTEN                     | 4 |\n",
       "| 397 | KPwDN Koordinator Sumatera Utara | KPwDN Bengkulu      | Provinsi | BENGKULU                   | 5 |\n",
       "|  59 | KPwDN Koordinator Jawa Timur     | KPwDN DI Yogyakarta | Provinsi | DAERAH ISTIMEWA YOGYAKARTA | 7 |\n",
       "|  65 | KPwDN Koordinator Jawa Timur     | KPwDN DKI Jakarta   | Provinsi | DKI JAKARTA                | 8 |\n",
       "\n"
      ],
      "text/plain": [
       "  No  KPwDN_Koordinator                KPwDN               Tingkat \n",
       "1 383 KPwDN Koordinator Sumatera Utara KPwDN Aceh          Provinsi\n",
       "2   1 KPwDN Koordinator Bali           KPwDN Bali          Provinsi\n",
       "3  45 KPwDN Koordinator Jawa Timur     KPwDN Banten        Provinsi\n",
       "4 397 KPwDN Koordinator Sumatera Utara KPwDN Bengkulu      Provinsi\n",
       "5  59 KPwDN Koordinator Jawa Timur     KPwDN DI Yogyakarta Provinsi\n",
       "6  65 KPwDN Koordinator Jawa Timur     KPwDN DKI Jakarta   Provinsi\n",
       "  Pemda                      KPwDN_Code\n",
       "1 ACEH                       1         \n",
       "2 BALI                       2         \n",
       "3 BANTEN                     4         \n",
       "4 BENGKULU                   5         \n",
       "5 DAERAH ISTIMEWA YOGYAKARTA 7         \n",
       "6 DKI JAKARTA                8         "
      ]
     },
     "metadata": {},
     "output_type": "display_data"
    }
   ],
   "source": [
    "# Filter dat hanya provinsi\n",
    "dat_prov <- dat[dat$Tingkat == \"Provinsi\", ]\n",
    "# Delete \"Provinsi\" from  Pemda\n",
    "dat_prov$Pemda <- gsub(\"Provinsi \", \"\", dat_prov$Pemda)\n",
    "# Upper case Pemda\n",
    "dat_prov$Pemda <- toupper(dat_prov$Pemda)\n",
    "# Order by Pemda\n",
    "dat_prov <- dat_prov[order(dat_prov$Pemda), ]\n",
    "head(dat_prov)"
   ]
  },
  {
   "cell_type": "code",
   "execution_count": 186,
   "id": "7185841b",
   "metadata": {
    "vscode": {
     "languageId": "r"
    }
   },
   "outputs": [
    {
     "data": {
      "text/html": [
       "<table class=\"dataframe\">\n",
       "<caption>A data.frame: 6 × 2</caption>\n",
       "<thead>\n",
       "\t<tr><th></th><th scope=col>prov_code</th><th scope=col>prov_name</th></tr>\n",
       "\t<tr><th></th><th scope=col>&lt;int&gt;</th><th scope=col>&lt;chr&gt;</th></tr>\n",
       "</thead>\n",
       "<tbody>\n",
       "\t<tr><th scope=row>1</th><td>11</td><td>ACEH         </td></tr>\n",
       "\t<tr><th scope=row>4113</th><td>51</td><td>BALI         </td></tr>\n",
       "\t<tr><th scope=row>3958</th><td>36</td><td>BANTEN       </td></tr>\n",
       "\t<tr><th scope=row>1482</th><td>17</td><td>BENGKULU     </td></tr>\n",
       "\t<tr><th scope=row>3214</th><td>34</td><td>DI YOGYAKARTA</td></tr>\n",
       "\t<tr><th scope=row>1967</th><td>31</td><td>DKI JAKARTA  </td></tr>\n",
       "</tbody>\n",
       "</table>\n"
      ],
      "text/latex": [
       "A data.frame: 6 × 2\n",
       "\\begin{tabular}{r|ll}\n",
       "  & prov\\_code & prov\\_name\\\\\n",
       "  & <int> & <chr>\\\\\n",
       "\\hline\n",
       "\t1 & 11 & ACEH         \\\\\n",
       "\t4113 & 51 & BALI         \\\\\n",
       "\t3958 & 36 & BANTEN       \\\\\n",
       "\t1482 & 17 & BENGKULU     \\\\\n",
       "\t3214 & 34 & DI YOGYAKARTA\\\\\n",
       "\t1967 & 31 & DKI JAKARTA  \\\\\n",
       "\\end{tabular}\n"
      ],
      "text/markdown": [
       "\n",
       "A data.frame: 6 × 2\n",
       "\n",
       "| <!--/--> | prov_code &lt;int&gt; | prov_name &lt;chr&gt; |\n",
       "|---|---|---|\n",
       "| 1 | 11 | ACEH          |\n",
       "| 4113 | 51 | BALI          |\n",
       "| 3958 | 36 | BANTEN        |\n",
       "| 1482 | 17 | BENGKULU      |\n",
       "| 3214 | 34 | DI YOGYAKARTA |\n",
       "| 1967 | 31 | DKI JAKARTA   |\n",
       "\n"
      ],
      "text/plain": [
       "     prov_code prov_name    \n",
       "1    11        ACEH         \n",
       "4113 51        BALI         \n",
       "3958 36        BANTEN       \n",
       "1482 17        BENGKULU     \n",
       "3214 34        DI YOGYAKARTA\n",
       "1967 31        DKI JAKARTA  "
      ]
     },
     "metadata": {},
     "output_type": "display_data"
    }
   ],
   "source": [
    "data_prov_bps <- data.frame(\n",
    "  prov_code = data$code_prov,\n",
    "  prov_name = data$prov\n",
    ")\n",
    "# Sisakan unik provinsi\n",
    "data_prov_bps <- data_prov_bps[!duplicated(data_prov_bps$prov_code), ]\n",
    "\n",
    "# Order by name provinsi\n",
    "data_prov_bps <- data_prov_bps[order(data_prov_bps$prov_name), ]\n",
    "head(data_prov_bps)"
   ]
  },
  {
   "cell_type": "code",
   "execution_count": 187,
   "id": "170cce4d",
   "metadata": {
    "vscode": {
     "languageId": "r"
    }
   },
   "outputs": [
    {
     "data": {
      "text/html": [
       "'DAERAH ISTIMEWA YOGYAKARTA'"
      ],
      "text/latex": [
       "'DAERAH ISTIMEWA YOGYAKARTA'"
      ],
      "text/markdown": [
       "'DAERAH ISTIMEWA YOGYAKARTA'"
      ],
      "text/plain": [
       "[1] \"DAERAH ISTIMEWA YOGYAKARTA\""
      ]
     },
     "metadata": {},
     "output_type": "display_data"
    }
   ],
   "source": [
    "# Cek dat$Pemda == data_prov_bps$prov_name\n",
    "check <- dat_prov$Pemda %in% data_prov_bps$prov_name\n",
    "# Tampilkan yang tidak ada\n",
    "not_found <- dat_prov$Pemda[!check]\n",
    "not_found"
   ]
  },
  {
   "cell_type": "code",
   "execution_count": 188,
   "id": "096c2812",
   "metadata": {
    "vscode": {
     "languageId": "r"
    }
   },
   "outputs": [
    {
     "data": {
      "text/html": [],
      "text/latex": [],
      "text/markdown": [],
      "text/plain": [
       "character(0)"
      ]
     },
     "metadata": {},
     "output_type": "display_data"
    }
   ],
   "source": [
    "# Rename 'DAERAH ISTIMEWA YOGYAKARTA' menjadi  DI YOGYAKARTA\n",
    "dat_prov$Pemda[dat_prov$Pemda == \"DAERAH ISTIMEWA YOGYAKARTA\"] <- \"DI YOGYAKARTA\"\n",
    "# Cek kembali   \n",
    "check <- dat_prov$Pemda %in% data_prov_bps$prov_name\n",
    "# Tampilkan yang tidak ada  \n",
    "not_found <- dat_prov$Pemda[!check]\n",
    "not_found"
   ]
  },
  {
   "cell_type": "code",
   "execution_count": 189,
   "id": "7d9d5aba",
   "metadata": {
    "vscode": {
     "languageId": "r"
    }
   },
   "outputs": [],
   "source": [
    "# Merge dat_prov with data_prov_bps merge by Pemda and prov_name\n",
    "dat_prov_m <- merge(dat_prov, data_prov_bps, by.x = \"Pemda\", \n",
    "by.y = \"prov_name\", all.x = TRUE)"
   ]
  },
  {
   "cell_type": "code",
   "execution_count": 190,
   "id": "6165a90e",
   "metadata": {
    "vscode": {
     "languageId": "r"
    }
   },
   "outputs": [
    {
     "data": {
      "text/html": [
       "<table class=\"dataframe\">\n",
       "<caption>A tibble: 6 × 6</caption>\n",
       "<thead>\n",
       "\t<tr><th scope=col>No</th><th scope=col>KPwDN_Koordinator</th><th scope=col>KPwDN</th><th scope=col>Tingkat</th><th scope=col>Pemda</th><th scope=col>KPwDN_Code</th></tr>\n",
       "\t<tr><th scope=col>&lt;dbl&gt;</th><th scope=col>&lt;chr&gt;</th><th scope=col>&lt;chr&gt;</th><th scope=col>&lt;chr&gt;</th><th scope=col>&lt;chr&gt;</th><th scope=col>&lt;dbl&gt;</th></tr>\n",
       "</thead>\n",
       "<tbody>\n",
       "\t<tr><td>2</td><td>KPwDN Koordinator Bali</td><td>KPwDN Bali</td><td>Kota     </td><td>Kota Denpasar     </td><td>2</td></tr>\n",
       "\t<tr><td>3</td><td>KPwDN Koordinator Bali</td><td>KPwDN Bali</td><td>Kabupaten</td><td>Kabupaten Badung  </td><td>2</td></tr>\n",
       "\t<tr><td>4</td><td>KPwDN Koordinator Bali</td><td>KPwDN Bali</td><td>Kabupaten</td><td>Kabupaten Bangli  </td><td>2</td></tr>\n",
       "\t<tr><td>5</td><td>KPwDN Koordinator Bali</td><td>KPwDN Bali</td><td>Kabupaten</td><td>Kabupaten Buleleng</td><td>2</td></tr>\n",
       "\t<tr><td>6</td><td>KPwDN Koordinator Bali</td><td>KPwDN Bali</td><td>Kabupaten</td><td>Kabupaten Gianyar </td><td>2</td></tr>\n",
       "\t<tr><td>7</td><td>KPwDN Koordinator Bali</td><td>KPwDN Bali</td><td>Kabupaten</td><td>Kabupaten Jembrana</td><td>2</td></tr>\n",
       "</tbody>\n",
       "</table>\n"
      ],
      "text/latex": [
       "A tibble: 6 × 6\n",
       "\\begin{tabular}{llllll}\n",
       " No & KPwDN\\_Koordinator & KPwDN & Tingkat & Pemda & KPwDN\\_Code\\\\\n",
       " <dbl> & <chr> & <chr> & <chr> & <chr> & <dbl>\\\\\n",
       "\\hline\n",
       "\t 2 & KPwDN Koordinator Bali & KPwDN Bali & Kota      & Kota Denpasar      & 2\\\\\n",
       "\t 3 & KPwDN Koordinator Bali & KPwDN Bali & Kabupaten & Kabupaten Badung   & 2\\\\\n",
       "\t 4 & KPwDN Koordinator Bali & KPwDN Bali & Kabupaten & Kabupaten Bangli   & 2\\\\\n",
       "\t 5 & KPwDN Koordinator Bali & KPwDN Bali & Kabupaten & Kabupaten Buleleng & 2\\\\\n",
       "\t 6 & KPwDN Koordinator Bali & KPwDN Bali & Kabupaten & Kabupaten Gianyar  & 2\\\\\n",
       "\t 7 & KPwDN Koordinator Bali & KPwDN Bali & Kabupaten & Kabupaten Jembrana & 2\\\\\n",
       "\\end{tabular}\n"
      ],
      "text/markdown": [
       "\n",
       "A tibble: 6 × 6\n",
       "\n",
       "| No &lt;dbl&gt; | KPwDN_Koordinator &lt;chr&gt; | KPwDN &lt;chr&gt; | Tingkat &lt;chr&gt; | Pemda &lt;chr&gt; | KPwDN_Code &lt;dbl&gt; |\n",
       "|---|---|---|---|---|---|\n",
       "| 2 | KPwDN Koordinator Bali | KPwDN Bali | Kota      | Kota Denpasar      | 2 |\n",
       "| 3 | KPwDN Koordinator Bali | KPwDN Bali | Kabupaten | Kabupaten Badung   | 2 |\n",
       "| 4 | KPwDN Koordinator Bali | KPwDN Bali | Kabupaten | Kabupaten Bangli   | 2 |\n",
       "| 5 | KPwDN Koordinator Bali | KPwDN Bali | Kabupaten | Kabupaten Buleleng | 2 |\n",
       "| 6 | KPwDN Koordinator Bali | KPwDN Bali | Kabupaten | Kabupaten Gianyar  | 2 |\n",
       "| 7 | KPwDN Koordinator Bali | KPwDN Bali | Kabupaten | Kabupaten Jembrana | 2 |\n",
       "\n"
      ],
      "text/plain": [
       "  No KPwDN_Koordinator      KPwDN      Tingkat   Pemda              KPwDN_Code\n",
       "1 2  KPwDN Koordinator Bali KPwDN Bali Kota      Kota Denpasar      2         \n",
       "2 3  KPwDN Koordinator Bali KPwDN Bali Kabupaten Kabupaten Badung   2         \n",
       "3 4  KPwDN Koordinator Bali KPwDN Bali Kabupaten Kabupaten Bangli   2         \n",
       "4 5  KPwDN Koordinator Bali KPwDN Bali Kabupaten Kabupaten Buleleng 2         \n",
       "5 6  KPwDN Koordinator Bali KPwDN Bali Kabupaten Kabupaten Gianyar  2         \n",
       "6 7  KPwDN Koordinator Bali KPwDN Bali Kabupaten Kabupaten Jembrana 2         "
      ]
     },
     "metadata": {},
     "output_type": "display_data"
    },
    {
     "data": {
      "text/html": [
       "508"
      ],
      "text/latex": [
       "508"
      ],
      "text/markdown": [
       "508"
      ],
      "text/plain": [
       "[1] 508"
      ]
     },
     "metadata": {},
     "output_type": "display_data"
    }
   ],
   "source": [
    "dat_kabkot <- dat[dat$Tingkat != \"Provinsi\", ]\n",
    "head(dat_kabkot)\n",
    "nrow(dat_kabkot)"
   ]
  },
  {
   "cell_type": "code",
   "execution_count": 194,
   "id": "30345cfb",
   "metadata": {
    "vscode": {
     "languageId": "r"
    }
   },
   "outputs": [
    {
     "data": {
      "text/html": [
       "<table class=\"dataframe\">\n",
       "<caption>A tibble: 6 × 6</caption>\n",
       "<thead>\n",
       "\t<tr><th scope=col>No</th><th scope=col>KPwDN_Koordinator</th><th scope=col>KPwDN</th><th scope=col>Tingkat</th><th scope=col>Pemda</th><th scope=col>KPwDN_Code</th></tr>\n",
       "\t<tr><th scope=col>&lt;dbl&gt;</th><th scope=col>&lt;chr&gt;</th><th scope=col>&lt;chr&gt;</th><th scope=col>&lt;chr&gt;</th><th scope=col>&lt;chr&gt;</th><th scope=col>&lt;dbl&gt;</th></tr>\n",
       "</thead>\n",
       "<tbody>\n",
       "\t<tr><td>387</td><td>KPwDN Koordinator Sumatera Utara</td><td>KPwDN Aceh</td><td>Kabupaten</td><td>KAB. ACEH BARAT     </td><td>1</td></tr>\n",
       "\t<tr><td>388</td><td>KPwDN Koordinator Sumatera Utara</td><td>KPwDN Aceh</td><td>Kabupaten</td><td>KAB. ACEH BARAT DAYA</td><td>1</td></tr>\n",
       "\t<tr><td>389</td><td>KPwDN Koordinator Sumatera Utara</td><td>KPwDN Aceh</td><td>Kabupaten</td><td>KAB. ACEH BESAR     </td><td>1</td></tr>\n",
       "\t<tr><td>390</td><td>KPwDN Koordinator Sumatera Utara</td><td>KPwDN Aceh</td><td>Kabupaten</td><td>KAB. ACEH JAYA      </td><td>1</td></tr>\n",
       "\t<tr><td>391</td><td>KPwDN Koordinator Sumatera Utara</td><td>KPwDN Aceh</td><td>Kabupaten</td><td>KAB. ACEH SELATAN   </td><td>1</td></tr>\n",
       "\t<tr><td>392</td><td>KPwDN Koordinator Sumatera Utara</td><td>KPwDN Aceh</td><td>Kabupaten</td><td>KAB. ACEH SINGKIL   </td><td>1</td></tr>\n",
       "</tbody>\n",
       "</table>\n"
      ],
      "text/latex": [
       "A tibble: 6 × 6\n",
       "\\begin{tabular}{llllll}\n",
       " No & KPwDN\\_Koordinator & KPwDN & Tingkat & Pemda & KPwDN\\_Code\\\\\n",
       " <dbl> & <chr> & <chr> & <chr> & <chr> & <dbl>\\\\\n",
       "\\hline\n",
       "\t 387 & KPwDN Koordinator Sumatera Utara & KPwDN Aceh & Kabupaten & KAB. ACEH BARAT      & 1\\\\\n",
       "\t 388 & KPwDN Koordinator Sumatera Utara & KPwDN Aceh & Kabupaten & KAB. ACEH BARAT DAYA & 1\\\\\n",
       "\t 389 & KPwDN Koordinator Sumatera Utara & KPwDN Aceh & Kabupaten & KAB. ACEH BESAR      & 1\\\\\n",
       "\t 390 & KPwDN Koordinator Sumatera Utara & KPwDN Aceh & Kabupaten & KAB. ACEH JAYA       & 1\\\\\n",
       "\t 391 & KPwDN Koordinator Sumatera Utara & KPwDN Aceh & Kabupaten & KAB. ACEH SELATAN    & 1\\\\\n",
       "\t 392 & KPwDN Koordinator Sumatera Utara & KPwDN Aceh & Kabupaten & KAB. ACEH SINGKIL    & 1\\\\\n",
       "\\end{tabular}\n"
      ],
      "text/markdown": [
       "\n",
       "A tibble: 6 × 6\n",
       "\n",
       "| No &lt;dbl&gt; | KPwDN_Koordinator &lt;chr&gt; | KPwDN &lt;chr&gt; | Tingkat &lt;chr&gt; | Pemda &lt;chr&gt; | KPwDN_Code &lt;dbl&gt; |\n",
       "|---|---|---|---|---|---|\n",
       "| 387 | KPwDN Koordinator Sumatera Utara | KPwDN Aceh | Kabupaten | KAB. ACEH BARAT      | 1 |\n",
       "| 388 | KPwDN Koordinator Sumatera Utara | KPwDN Aceh | Kabupaten | KAB. ACEH BARAT DAYA | 1 |\n",
       "| 389 | KPwDN Koordinator Sumatera Utara | KPwDN Aceh | Kabupaten | KAB. ACEH BESAR      | 1 |\n",
       "| 390 | KPwDN Koordinator Sumatera Utara | KPwDN Aceh | Kabupaten | KAB. ACEH JAYA       | 1 |\n",
       "| 391 | KPwDN Koordinator Sumatera Utara | KPwDN Aceh | Kabupaten | KAB. ACEH SELATAN    | 1 |\n",
       "| 392 | KPwDN Koordinator Sumatera Utara | KPwDN Aceh | Kabupaten | KAB. ACEH SINGKIL    | 1 |\n",
       "\n"
      ],
      "text/plain": [
       "  No  KPwDN_Koordinator                KPwDN      Tingkat  \n",
       "1 387 KPwDN Koordinator Sumatera Utara KPwDN Aceh Kabupaten\n",
       "2 388 KPwDN Koordinator Sumatera Utara KPwDN Aceh Kabupaten\n",
       "3 389 KPwDN Koordinator Sumatera Utara KPwDN Aceh Kabupaten\n",
       "4 390 KPwDN Koordinator Sumatera Utara KPwDN Aceh Kabupaten\n",
       "5 391 KPwDN Koordinator Sumatera Utara KPwDN Aceh Kabupaten\n",
       "6 392 KPwDN Koordinator Sumatera Utara KPwDN Aceh Kabupaten\n",
       "  Pemda                KPwDN_Code\n",
       "1 KAB. ACEH BARAT      1         \n",
       "2 KAB. ACEH BARAT DAYA 1         \n",
       "3 KAB. ACEH BESAR      1         \n",
       "4 KAB. ACEH JAYA       1         \n",
       "5 KAB. ACEH SELATAN    1         \n",
       "6 KAB. ACEH SINGKIL    1         "
      ]
     },
     "metadata": {},
     "output_type": "display_data"
    }
   ],
   "source": [
    "# Hapus Kota atau Kabupaten di awal kata Pemda\n",
    "dat_kabkot$Pemda <- gsub(\"KABUPATEN \", \"KAB. \", dat_kabkot$Pemda)\n",
    "# Upper case Pemda\n",
    "dat_kabkot$Pemda <- toupper(dat_kabkot$Pemda)\n",
    "# Order by Pemda\n",
    "dat_kabkot <- dat_kabkot[order(dat_kabkot$Pemda), ]\n",
    "head(dat_kabkot)"
   ]
  },
  {
   "cell_type": "code",
   "execution_count": 195,
   "id": "a058f159",
   "metadata": {
    "vscode": {
     "languageId": "r"
    }
   },
   "outputs": [
    {
     "data": {
      "text/html": [],
      "text/latex": [],
      "text/markdown": [],
      "text/plain": [
       "named integer(0)"
      ]
     },
     "metadata": {},
     "output_type": "display_data"
    },
    {
     "name": "stdout",
     "output_type": "stream",
     "text": [
      "Number of Pemda names with duplicates: 0"
     ]
    }
   ],
   "source": [
    "# Count occurrences of each Pemda name\n",
    "pemda_counts <- table(dat_kabkot$Pemda)\n",
    "\n",
    "# Show Pemda names that appear more than once\n",
    "duplicate_pemda <- pemda_counts[pemda_counts > 1]\n",
    "duplicate_pemda\n",
    "\n",
    "# Show the number of Pemda names with duplicates\n",
    "cat(\"Number of Pemda names with duplicates:\", length(duplicate_pemda))"
   ]
  },
  {
   "cell_type": "code",
   "execution_count": 220,
   "id": "639d97e4",
   "metadata": {
    "vscode": {
     "languageId": "r"
    }
   },
   "outputs": [
    {
     "data": {
      "text/html": [
       "<table class=\"dataframe\">\n",
       "<caption>A data.frame: 6 × 2</caption>\n",
       "<thead>\n",
       "\t<tr><th></th><th scope=col>kabkot_code</th><th scope=col>kabkot_name</th></tr>\n",
       "\t<tr><th></th><th scope=col>&lt;chr&gt;</th><th scope=col>&lt;chr&gt;</th></tr>\n",
       "</thead>\n",
       "<tbody>\n",
       "\t<tr><th scope=row>94</th><td>117 </td><td>KAB. ACEH BARAT     </td></tr>\n",
       "\t<tr><th scope=row>196</th><td>1112</td><td>KAB. ACEH BARAT DAYA</td></tr>\n",
       "\t<tr><th scope=row>106</th><td>118 </td><td>KAB. ACEH BESAR     </td></tr>\n",
       "\t<tr><th scope=row>238</th><td>1116</td><td>KAB. ACEH JAYA      </td></tr>\n",
       "\t<tr><th scope=row>22</th><td>113 </td><td>KAB. ACEH SELATAN   </td></tr>\n",
       "\t<tr><th scope=row>11</th><td>112 </td><td>KAB. ACEH SINGKIL   </td></tr>\n",
       "</tbody>\n",
       "</table>\n"
      ],
      "text/latex": [
       "A data.frame: 6 × 2\n",
       "\\begin{tabular}{r|ll}\n",
       "  & kabkot\\_code & kabkot\\_name\\\\\n",
       "  & <chr> & <chr>\\\\\n",
       "\\hline\n",
       "\t94 & 117  & KAB. ACEH BARAT     \\\\\n",
       "\t196 & 1112 & KAB. ACEH BARAT DAYA\\\\\n",
       "\t106 & 118  & KAB. ACEH BESAR     \\\\\n",
       "\t238 & 1116 & KAB. ACEH JAYA      \\\\\n",
       "\t22 & 113  & KAB. ACEH SELATAN   \\\\\n",
       "\t11 & 112  & KAB. ACEH SINGKIL   \\\\\n",
       "\\end{tabular}\n"
      ],
      "text/markdown": [
       "\n",
       "A data.frame: 6 × 2\n",
       "\n",
       "| <!--/--> | kabkot_code &lt;chr&gt; | kabkot_name &lt;chr&gt; |\n",
       "|---|---|---|\n",
       "| 94 | 117  | KAB. ACEH BARAT      |\n",
       "| 196 | 1112 | KAB. ACEH BARAT DAYA |\n",
       "| 106 | 118  | KAB. ACEH BESAR      |\n",
       "| 238 | 1116 | KAB. ACEH JAYA       |\n",
       "| 22 | 113  | KAB. ACEH SELATAN    |\n",
       "| 11 | 112  | KAB. ACEH SINGKIL    |\n",
       "\n"
      ],
      "text/plain": [
       "    kabkot_code kabkot_name         \n",
       "94  117         KAB. ACEH BARAT     \n",
       "196 1112        KAB. ACEH BARAT DAYA\n",
       "106 118         KAB. ACEH BESAR     \n",
       "238 1116        KAB. ACEH JAYA      \n",
       "22  113         KAB. ACEH SELATAN   \n",
       "11  112         KAB. ACEH SINGKIL   "
      ]
     },
     "metadata": {},
     "output_type": "display_data"
    },
    {
     "data": {
      "text/html": [
       "514"
      ],
      "text/latex": [
       "514"
      ],
      "text/markdown": [
       "514"
      ],
      "text/plain": [
       "[1] 514"
      ]
     },
     "metadata": {},
     "output_type": "display_data"
    }
   ],
   "source": [
    "data_kabkot_bps <- data.frame(\n",
    "  kabkot_code = data$provkabkot_code,\n",
    "  kabkot_name = data$kabkot\n",
    ")   \n",
    "# Sisakan unik kabkot\n",
    "data_kabkot_bps <- data_kabkot_bps[!duplicated(data_kabkot_bps$kabkot_name), ]  \n",
    "# Order by name kabkot\n",
    "data_kabkot_bps$kabkot_name[data_kabkot_bps$kabkot_name == \"KAB TIMOR TENGAH SELATAN\"] <- \"KAB. TIMOR TENGAH SELATAN\"\n",
    "data_kabkot_bps <- data_kabkot_bps[order(data_kabkot_bps$kabkot_name), ]\n",
    "head(data_kabkot_bps)\n",
    "nrow(data_kabkot_bps)\n"
   ]
  },
  {
   "cell_type": "code",
   "execution_count": 221,
   "id": "a52be0cb",
   "metadata": {
    "vscode": {
     "languageId": "r"
    }
   },
   "outputs": [
    {
     "data": {
      "text/html": [
       "<style>\n",
       ".list-inline {list-style: none; margin:0; padding: 0}\n",
       ".list-inline>li {display: inline-block}\n",
       ".list-inline>li:not(:last-child)::after {content: \"\\00b7\"; padding: 0 .5ex}\n",
       "</style>\n",
       "<ol class=list-inline><li>'KAB. ADM. KEP. SERIBU'</li><li>'KOTA ADM. JAKARTA BARAT'</li><li>'KOTA ADM. JAKARTA PUSAT'</li><li>'KOTA ADM. JAKARTA SELATAN'</li><li>'KOTA ADM. JAKARTA TIMUR'</li><li>'KOTA ADM. JAKARTA UTARA'</li><li>'KOTA PADANG SIDEMPUAN'</li></ol>\n"
      ],
      "text/latex": [
       "\\begin{enumerate*}\n",
       "\\item 'KAB. ADM. KEP. SERIBU'\n",
       "\\item 'KOTA ADM. JAKARTA BARAT'\n",
       "\\item 'KOTA ADM. JAKARTA PUSAT'\n",
       "\\item 'KOTA ADM. JAKARTA SELATAN'\n",
       "\\item 'KOTA ADM. JAKARTA TIMUR'\n",
       "\\item 'KOTA ADM. JAKARTA UTARA'\n",
       "\\item 'KOTA PADANG SIDEMPUAN'\n",
       "\\end{enumerate*}\n"
      ],
      "text/markdown": [
       "1. 'KAB. ADM. KEP. SERIBU'\n",
       "2. 'KOTA ADM. JAKARTA BARAT'\n",
       "3. 'KOTA ADM. JAKARTA PUSAT'\n",
       "4. 'KOTA ADM. JAKARTA SELATAN'\n",
       "5. 'KOTA ADM. JAKARTA TIMUR'\n",
       "6. 'KOTA ADM. JAKARTA UTARA'\n",
       "7. 'KOTA PADANG SIDEMPUAN'\n",
       "\n",
       "\n"
      ],
      "text/plain": [
       "[1] \"KAB. ADM. KEP. SERIBU\"     \"KOTA ADM. JAKARTA BARAT\"  \n",
       "[3] \"KOTA ADM. JAKARTA PUSAT\"   \"KOTA ADM. JAKARTA SELATAN\"\n",
       "[5] \"KOTA ADM. JAKARTA TIMUR\"   \"KOTA ADM. JAKARTA UTARA\"  \n",
       "[7] \"KOTA PADANG SIDEMPUAN\"    "
      ]
     },
     "metadata": {},
     "output_type": "display_data"
    }
   ],
   "source": [
    "# Cek data_kabkot_bps$kabkot_name == dat_kabkot$Pemda\n",
    "check <- data_kabkot_bps$kabkot_name %in% dat_kabkot$Pemda\n",
    "# Tampilkan yang tidak ada\n",
    "not_found <- data_kabkot_bps$kabkot_name[!check]\n",
    "not_found"
   ]
  },
  {
   "cell_type": "code",
   "execution_count": 222,
   "id": "a00415aa",
   "metadata": {
    "vscode": {
     "languageId": "r"
    }
   },
   "outputs": [
    {
     "data": {
      "text/html": [
       "'KAB. KEP. SIAU TAGULANDANG BIARO'"
      ],
      "text/latex": [
       "'KAB. KEP. SIAU TAGULANDANG BIARO'"
      ],
      "text/markdown": [
       "'KAB. KEP. SIAU TAGULANDANG BIARO'"
      ],
      "text/plain": [
       "[1] \"KAB. KEP. SIAU TAGULANDANG BIARO\""
      ]
     },
     "metadata": {},
     "output_type": "display_data"
    },
    {
     "data": {
      "text/html": [
       "'KAB. OGAN KOMERING ULU\\nSELATAN'"
      ],
      "text/latex": [
       "'KAB. OGAN KOMERING ULU\\textbackslash{}nSELATAN'"
      ],
      "text/markdown": [
       "'KAB. OGAN KOMERING ULU\\nSELATAN'"
      ],
      "text/plain": [
       "[1] \"KAB. OGAN KOMERING ULU\\nSELATAN\""
      ]
     },
     "metadata": {},
     "output_type": "display_data"
    },
    {
     "data": {
      "text/html": [
       "'KAB. PANGKAJENE DAN KEPULAUAN'"
      ],
      "text/latex": [
       "'KAB. PANGKAJENE DAN KEPULAUAN'"
      ],
      "text/markdown": [
       "'KAB. PANGKAJENE DAN KEPULAUAN'"
      ],
      "text/plain": [
       "[1] \"KAB. PANGKAJENE DAN KEPULAUAN\""
      ]
     },
     "metadata": {},
     "output_type": "display_data"
    },
    {
     "data": {
      "text/html": [
       "'KAB. PENUKAL ABAB LEMATANG\\nILIR'"
      ],
      "text/latex": [
       "'KAB. PENUKAL ABAB LEMATANG\\textbackslash{}nILIR'"
      ],
      "text/markdown": [
       "'KAB. PENUKAL ABAB LEMATANG\\nILIR'"
      ],
      "text/plain": [
       "[1] \"KAB. PENUKAL ABAB LEMATANG\\nILIR\""
      ]
     },
     "metadata": {},
     "output_type": "display_data"
    },
    {
     "data": {
      "text/html": [],
      "text/latex": [],
      "text/markdown": [],
      "text/plain": [
       "character(0)"
      ]
     },
     "metadata": {},
     "output_type": "display_data"
    },
    {
     "data": {
      "text/html": [],
      "text/latex": [],
      "text/markdown": [],
      "text/plain": [
       "character(0)"
      ]
     },
     "metadata": {},
     "output_type": "display_data"
    },
    {
     "data": {
      "text/html": [],
      "text/latex": [],
      "text/markdown": [],
      "text/plain": [
       "character(0)"
      ]
     },
     "metadata": {},
     "output_type": "display_data"
    },
    {
     "data": {
      "text/html": [],
      "text/latex": [],
      "text/markdown": [],
      "text/plain": [
       "character(0)"
      ]
     },
     "metadata": {},
     "output_type": "display_data"
    },
    {
     "data": {
      "text/html": [],
      "text/latex": [],
      "text/markdown": [],
      "text/plain": [
       "character(0)"
      ]
     },
     "metadata": {},
     "output_type": "display_data"
    },
    {
     "data": {
      "text/html": [
       "'KOTA BAU BAU'"
      ],
      "text/latex": [
       "'KOTA BAU BAU'"
      ],
      "text/markdown": [
       "'KOTA BAU BAU'"
      ],
      "text/plain": [
       "[1] \"KOTA BAU BAU\""
      ]
     },
     "metadata": {},
     "output_type": "display_data"
    },
    {
     "data": {
      "text/html": [],
      "text/latex": [],
      "text/markdown": [],
      "text/plain": [
       "character(0)"
      ]
     },
     "metadata": {},
     "output_type": "display_data"
    },
    {
     "data": {
      "text/html": [],
      "text/latex": [],
      "text/markdown": [],
      "text/plain": [
       "character(0)"
      ]
     },
     "metadata": {},
     "output_type": "display_data"
    },
    {
     "data": {
      "text/html": [
       "<style>\n",
       ".list-inline {list-style: none; margin:0; padding: 0}\n",
       ".list-inline>li {display: inline-block}\n",
       ".list-inline>li:not(:last-child)::after {content: \"\\00b7\"; padding: 0 .5ex}\n",
       "</style>\n",
       "<ol class=list-inline><li>'KAB. ADM. KEP. SERIBU'</li><li>'KOTA ADM. JAKARTA BARAT'</li><li>'KOTA ADM. JAKARTA PUSAT'</li><li>'KOTA ADM. JAKARTA SELATAN'</li><li>'KOTA ADM. JAKARTA TIMUR'</li><li>'KOTA ADM. JAKARTA UTARA'</li><li>'KOTA PADANG SIDEMPUAN'</li></ol>\n"
      ],
      "text/latex": [
       "\\begin{enumerate*}\n",
       "\\item 'KAB. ADM. KEP. SERIBU'\n",
       "\\item 'KOTA ADM. JAKARTA BARAT'\n",
       "\\item 'KOTA ADM. JAKARTA PUSAT'\n",
       "\\item 'KOTA ADM. JAKARTA SELATAN'\n",
       "\\item 'KOTA ADM. JAKARTA TIMUR'\n",
       "\\item 'KOTA ADM. JAKARTA UTARA'\n",
       "\\item 'KOTA PADANG SIDEMPUAN'\n",
       "\\end{enumerate*}\n"
      ],
      "text/markdown": [
       "1. 'KAB. ADM. KEP. SERIBU'\n",
       "2. 'KOTA ADM. JAKARTA BARAT'\n",
       "3. 'KOTA ADM. JAKARTA PUSAT'\n",
       "4. 'KOTA ADM. JAKARTA SELATAN'\n",
       "5. 'KOTA ADM. JAKARTA TIMUR'\n",
       "6. 'KOTA ADM. JAKARTA UTARA'\n",
       "7. 'KOTA PADANG SIDEMPUAN'\n",
       "\n",
       "\n"
      ],
      "text/plain": [
       "[1] \"KAB. ADM. KEP. SERIBU\"     \"KOTA ADM. JAKARTA BARAT\"  \n",
       "[3] \"KOTA ADM. JAKARTA PUSAT\"   \"KOTA ADM. JAKARTA SELATAN\"\n",
       "[5] \"KOTA ADM. JAKARTA TIMUR\"   \"KOTA ADM. JAKARTA UTARA\"  \n",
       "[7] \"KOTA PADANG SIDEMPUAN\"    "
      ]
     },
     "metadata": {},
     "output_type": "display_data"
    }
   ],
   "source": [
    "# Perbaiki 'KAB. ADM. KEP. SERIBU''KAB. KEP. SIAU TAGULANDANG BIARO''KAB. OGAN KOMERING ULU\\nSELATAN''KAB. PANGKAJENE DAN KEPULAUAN''KAB. PENUKAL ABAB LEMATANG\\nILIR''KOTA ADM. JAKARTA BARAT''KOTA ADM. JAKARTA PUSAT''KOTA ADM. JAKARTA SELATAN''KOTA ADM. JAKARTA TIMUR''KOTA ADM. JAKARTA UTARA''KOTA BAU BAU''KOTA PADANG SIDEMPUAN'\n",
    "# Check for similar names in the dataset\n",
    "\n",
    "grep(\"SIAU TAGULANDANG BIARO\", dat_kabkot$Pemda, value = TRUE)\n",
    "grep(\"OGAN KOMERING ULU.*SELATAN\", dat_kabkot$Pemda, value = TRUE)\n",
    "grep(\"PANGKAJENE\", dat_kabkot$Pemda, value = TRUE)\n",
    "grep(\"PENUKAL ABAB\", dat_kabkot$Pemda, value = TRUE)\n",
    "grep(\"JAKARTA BARAT\", dat_kabkot$Pemda, value = TRUE)\n",
    "grep(\"JAKARTA PUSAT\", dat_kabkot$Pemda, value = TRUE)\n",
    "grep(\"JAKARTA SELATAN\", dat_kabkot$Pemda, value = TRUE)\n",
    "grep(\"JAKARTA TIMUR\", dat_kabkot$Pemda, value = TRUE)\n",
    "grep(\"JAKARTA UTARA\", dat_kabkot$Pemda, value = TRUE)\n",
    "grep(\"BAU.?BAU\", dat_kabkot$Pemda, value = TRUE)\n",
    "grep(\"PADANG SIDEMPUAN\", dat_kabkot$Pemda, value = TRUE)\n",
    "grep(\"KEP.? SERIBU\", dat_kabkot$Pemda, value = TRUE)\n",
    "\n",
    "dat_kabkot$Pemda <- gsub(\"KAB. KAB. KEP. SIAU TAGULANDANG BIARO\", \"KAB. KEP. SIAU TAGULANDANG BIARO\", dat_kabkot$Pemda)\n",
    "dat_kabkot$Pemda <- gsub(\"KAB. OGAN KOMERING ULU SELATAN\", \"KAB. OGAN KOMERING ULU\\nSELATAN\", dat_kabkot$Pemda)\n",
    "dat_kabkot$Pemda <- gsub(\"KAB. PANGKAJENE KEPULAUAN\", \"KAB. PANGKAJENE DAN KEPULAUAN\", dat_kabkot$Pemda)\n",
    "dat_kabkot$Pemda <- gsub(\"KAB. PENUKAL ABAB LEMATANG ILIR\", \"KAB. PENUKAL ABAB LEMATANG\\nILIR\", dat_kabkot$Pemda)\n",
    "dat_kabkot$Pemda <- gsub(\"KOTA ADM. JAKARTA BARAT\", \"KOTA JAKARTA BARAT\", dat_kabkot$Pemda)\n",
    "dat_kabkot$Pemda <- gsub(\"KOTA ADM. JAKARTA PUSAT\", \"KOTA JAKARTA PUSAT\", dat_kabkot$Pemda)\n",
    "dat_kabkot$Pemda <- gsub(\"KOTA ADM. JAKARTA SELATAN\", \"KOTA JAKARTA SELATAN\", dat_kabkot$Pemda)\n",
    "dat_kabkot$Pemda <- gsub(\"KOTA ADM. JAKARTA TIMUR\", \"KOTA JAKARTA TIMUR\", dat_kabkot$Pemda)\n",
    "dat_kabkot$Pemda <- gsub(\"KOTA ADM. JAKARTA UTARA\", \"KOTA JAKARTA UTARA\", dat_kabkot$Pemda)\n",
    "dat_kabkot$Pemda <- gsub(\"KOTA BAUBAU\", \"KOTA BAU BAU\", dat_kabkot$Pemda)\n",
    "dat_kabkot$Pemda <- gsub(\"KOTA PADANG SIDEMPUAN\", \"KOTA PADANGSIDEMPUAN\", dat_kabkot$Pemda) \n",
    "# Cek kembali\n",
    "check <- data_kabkot_bps$kabkot_name %in% dat_kabkot$Pemda\n",
    "# Tampilkan yang tidak ada\n",
    "not_found <- data_kabkot_bps$kabkot_name[!check]\n",
    "not_found"
   ]
  },
  {
   "cell_type": "code",
   "execution_count": 223,
   "id": "2f280445",
   "metadata": {
    "vscode": {
     "languageId": "r"
    }
   },
   "outputs": [
    {
     "data": {
      "text/html": [
       "<table class=\"dataframe\">\n",
       "<caption>A data.frame: 6 × 7</caption>\n",
       "<thead>\n",
       "\t<tr><th></th><th scope=col>Pemda</th><th scope=col>No</th><th scope=col>KPwDN_Koordinator</th><th scope=col>KPwDN</th><th scope=col>Tingkat</th><th scope=col>KPwDN_Code</th><th scope=col>kabkot_code</th></tr>\n",
       "\t<tr><th></th><th scope=col>&lt;chr&gt;</th><th scope=col>&lt;dbl&gt;</th><th scope=col>&lt;chr&gt;</th><th scope=col>&lt;chr&gt;</th><th scope=col>&lt;chr&gt;</th><th scope=col>&lt;dbl&gt;</th><th scope=col>&lt;chr&gt;</th></tr>\n",
       "</thead>\n",
       "<tbody>\n",
       "\t<tr><th scope=row>1</th><td>KAB. ACEH BARAT     </td><td>387</td><td>KPwDN Koordinator Sumatera Utara</td><td>KPwDN Aceh</td><td>Kabupaten</td><td>1</td><td>117 </td></tr>\n",
       "\t<tr><th scope=row>2</th><td>KAB. ACEH BARAT DAYA</td><td>388</td><td>KPwDN Koordinator Sumatera Utara</td><td>KPwDN Aceh</td><td>Kabupaten</td><td>1</td><td>1112</td></tr>\n",
       "\t<tr><th scope=row>3</th><td>KAB. ACEH BESAR     </td><td>389</td><td>KPwDN Koordinator Sumatera Utara</td><td>KPwDN Aceh</td><td>Kabupaten</td><td>1</td><td>118 </td></tr>\n",
       "\t<tr><th scope=row>4</th><td>KAB. ACEH JAYA      </td><td>390</td><td>KPwDN Koordinator Sumatera Utara</td><td>KPwDN Aceh</td><td>Kabupaten</td><td>1</td><td>1116</td></tr>\n",
       "\t<tr><th scope=row>5</th><td>KAB. ACEH SELATAN   </td><td>391</td><td>KPwDN Koordinator Sumatera Utara</td><td>KPwDN Aceh</td><td>Kabupaten</td><td>1</td><td>113 </td></tr>\n",
       "\t<tr><th scope=row>6</th><td>KAB. ACEH SINGKIL   </td><td>392</td><td>KPwDN Koordinator Sumatera Utara</td><td>KPwDN Aceh</td><td>Kabupaten</td><td>1</td><td>112 </td></tr>\n",
       "</tbody>\n",
       "</table>\n"
      ],
      "text/latex": [
       "A data.frame: 6 × 7\n",
       "\\begin{tabular}{r|lllllll}\n",
       "  & Pemda & No & KPwDN\\_Koordinator & KPwDN & Tingkat & KPwDN\\_Code & kabkot\\_code\\\\\n",
       "  & <chr> & <dbl> & <chr> & <chr> & <chr> & <dbl> & <chr>\\\\\n",
       "\\hline\n",
       "\t1 & KAB. ACEH BARAT      & 387 & KPwDN Koordinator Sumatera Utara & KPwDN Aceh & Kabupaten & 1 & 117 \\\\\n",
       "\t2 & KAB. ACEH BARAT DAYA & 388 & KPwDN Koordinator Sumatera Utara & KPwDN Aceh & Kabupaten & 1 & 1112\\\\\n",
       "\t3 & KAB. ACEH BESAR      & 389 & KPwDN Koordinator Sumatera Utara & KPwDN Aceh & Kabupaten & 1 & 118 \\\\\n",
       "\t4 & KAB. ACEH JAYA       & 390 & KPwDN Koordinator Sumatera Utara & KPwDN Aceh & Kabupaten & 1 & 1116\\\\\n",
       "\t5 & KAB. ACEH SELATAN    & 391 & KPwDN Koordinator Sumatera Utara & KPwDN Aceh & Kabupaten & 1 & 113 \\\\\n",
       "\t6 & KAB. ACEH SINGKIL    & 392 & KPwDN Koordinator Sumatera Utara & KPwDN Aceh & Kabupaten & 1 & 112 \\\\\n",
       "\\end{tabular}\n"
      ],
      "text/markdown": [
       "\n",
       "A data.frame: 6 × 7\n",
       "\n",
       "| <!--/--> | Pemda &lt;chr&gt; | No &lt;dbl&gt; | KPwDN_Koordinator &lt;chr&gt; | KPwDN &lt;chr&gt; | Tingkat &lt;chr&gt; | KPwDN_Code &lt;dbl&gt; | kabkot_code &lt;chr&gt; |\n",
       "|---|---|---|---|---|---|---|---|\n",
       "| 1 | KAB. ACEH BARAT      | 387 | KPwDN Koordinator Sumatera Utara | KPwDN Aceh | Kabupaten | 1 | 117  |\n",
       "| 2 | KAB. ACEH BARAT DAYA | 388 | KPwDN Koordinator Sumatera Utara | KPwDN Aceh | Kabupaten | 1 | 1112 |\n",
       "| 3 | KAB. ACEH BESAR      | 389 | KPwDN Koordinator Sumatera Utara | KPwDN Aceh | Kabupaten | 1 | 118  |\n",
       "| 4 | KAB. ACEH JAYA       | 390 | KPwDN Koordinator Sumatera Utara | KPwDN Aceh | Kabupaten | 1 | 1116 |\n",
       "| 5 | KAB. ACEH SELATAN    | 391 | KPwDN Koordinator Sumatera Utara | KPwDN Aceh | Kabupaten | 1 | 113  |\n",
       "| 6 | KAB. ACEH SINGKIL    | 392 | KPwDN Koordinator Sumatera Utara | KPwDN Aceh | Kabupaten | 1 | 112  |\n",
       "\n"
      ],
      "text/plain": [
       "  Pemda                No  KPwDN_Koordinator                KPwDN     \n",
       "1 KAB. ACEH BARAT      387 KPwDN Koordinator Sumatera Utara KPwDN Aceh\n",
       "2 KAB. ACEH BARAT DAYA 388 KPwDN Koordinator Sumatera Utara KPwDN Aceh\n",
       "3 KAB. ACEH BESAR      389 KPwDN Koordinator Sumatera Utara KPwDN Aceh\n",
       "4 KAB. ACEH JAYA       390 KPwDN Koordinator Sumatera Utara KPwDN Aceh\n",
       "5 KAB. ACEH SELATAN    391 KPwDN Koordinator Sumatera Utara KPwDN Aceh\n",
       "6 KAB. ACEH SINGKIL    392 KPwDN Koordinator Sumatera Utara KPwDN Aceh\n",
       "  Tingkat   KPwDN_Code kabkot_code\n",
       "1 Kabupaten 1          117        \n",
       "2 Kabupaten 1          1112       \n",
       "3 Kabupaten 1          118        \n",
       "4 Kabupaten 1          1116       \n",
       "5 Kabupaten 1          113        \n",
       "6 Kabupaten 1          112        "
      ]
     },
     "metadata": {},
     "output_type": "display_data"
    }
   ],
   "source": [
    "# Merge dat_kabkot with data_kabkot_bps merge by Pemda and kabkot_name\n",
    "dat_kabkot_m <- merge(dat_kabkot, data_kabkot_bps, by.x = \"Pemda\", \n",
    "by.y = \"kabkot_name\", all.x = TRUE) \n",
    "# Display the first few rows of the merged data\n",
    "head(dat_kabkot_m)"
   ]
  },
  {
   "cell_type": "code",
   "execution_count": 227,
   "id": "f0331381",
   "metadata": {
    "vscode": {
     "languageId": "r"
    }
   },
   "outputs": [
    {
     "data": {
      "text/html": [
       "<table class=\"dataframe\">\n",
       "<caption>A data.frame: 6 × 7</caption>\n",
       "<thead>\n",
       "\t<tr><th></th><th scope=col>Pemda</th><th scope=col>No</th><th scope=col>KPwDN_Koordinator</th><th scope=col>KPwDN</th><th scope=col>Tingkat</th><th scope=col>KPwDN_Code</th><th scope=col>prov_code</th></tr>\n",
       "\t<tr><th></th><th scope=col>&lt;chr&gt;</th><th scope=col>&lt;dbl&gt;</th><th scope=col>&lt;chr&gt;</th><th scope=col>&lt;chr&gt;</th><th scope=col>&lt;chr&gt;</th><th scope=col>&lt;dbl&gt;</th><th scope=col>&lt;int&gt;</th></tr>\n",
       "</thead>\n",
       "<tbody>\n",
       "\t<tr><th scope=row>1</th><td>ACEH         </td><td>383</td><td>KPwDN Koordinator Sumatera Utara</td><td>KPwDN Aceh         </td><td>Provinsi</td><td>1</td><td>11</td></tr>\n",
       "\t<tr><th scope=row>2</th><td>BALI         </td><td>  1</td><td>KPwDN Koordinator Bali          </td><td>KPwDN Bali         </td><td>Provinsi</td><td>2</td><td>51</td></tr>\n",
       "\t<tr><th scope=row>3</th><td>BANTEN       </td><td> 45</td><td>KPwDN Koordinator Jawa Timur    </td><td>KPwDN Banten       </td><td>Provinsi</td><td>4</td><td>36</td></tr>\n",
       "\t<tr><th scope=row>4</th><td>BENGKULU     </td><td>397</td><td>KPwDN Koordinator Sumatera Utara</td><td>KPwDN Bengkulu     </td><td>Provinsi</td><td>5</td><td>17</td></tr>\n",
       "\t<tr><th scope=row>5</th><td>DI YOGYAKARTA</td><td> 59</td><td>KPwDN Koordinator Jawa Timur    </td><td>KPwDN DI Yogyakarta</td><td>Provinsi</td><td>7</td><td>34</td></tr>\n",
       "\t<tr><th scope=row>6</th><td>DKI JAKARTA  </td><td> 65</td><td>KPwDN Koordinator Jawa Timur    </td><td>KPwDN DKI Jakarta  </td><td>Provinsi</td><td>8</td><td>31</td></tr>\n",
       "</tbody>\n",
       "</table>\n"
      ],
      "text/latex": [
       "A data.frame: 6 × 7\n",
       "\\begin{tabular}{r|lllllll}\n",
       "  & Pemda & No & KPwDN\\_Koordinator & KPwDN & Tingkat & KPwDN\\_Code & prov\\_code\\\\\n",
       "  & <chr> & <dbl> & <chr> & <chr> & <chr> & <dbl> & <int>\\\\\n",
       "\\hline\n",
       "\t1 & ACEH          & 383 & KPwDN Koordinator Sumatera Utara & KPwDN Aceh          & Provinsi & 1 & 11\\\\\n",
       "\t2 & BALI          &   1 & KPwDN Koordinator Bali           & KPwDN Bali          & Provinsi & 2 & 51\\\\\n",
       "\t3 & BANTEN        &  45 & KPwDN Koordinator Jawa Timur     & KPwDN Banten        & Provinsi & 4 & 36\\\\\n",
       "\t4 & BENGKULU      & 397 & KPwDN Koordinator Sumatera Utara & KPwDN Bengkulu      & Provinsi & 5 & 17\\\\\n",
       "\t5 & DI YOGYAKARTA &  59 & KPwDN Koordinator Jawa Timur     & KPwDN DI Yogyakarta & Provinsi & 7 & 34\\\\\n",
       "\t6 & DKI JAKARTA   &  65 & KPwDN Koordinator Jawa Timur     & KPwDN DKI Jakarta   & Provinsi & 8 & 31\\\\\n",
       "\\end{tabular}\n"
      ],
      "text/markdown": [
       "\n",
       "A data.frame: 6 × 7\n",
       "\n",
       "| <!--/--> | Pemda &lt;chr&gt; | No &lt;dbl&gt; | KPwDN_Koordinator &lt;chr&gt; | KPwDN &lt;chr&gt; | Tingkat &lt;chr&gt; | KPwDN_Code &lt;dbl&gt; | prov_code &lt;int&gt; |\n",
       "|---|---|---|---|---|---|---|---|\n",
       "| 1 | ACEH          | 383 | KPwDN Koordinator Sumatera Utara | KPwDN Aceh          | Provinsi | 1 | 11 |\n",
       "| 2 | BALI          |   1 | KPwDN Koordinator Bali           | KPwDN Bali          | Provinsi | 2 | 51 |\n",
       "| 3 | BANTEN        |  45 | KPwDN Koordinator Jawa Timur     | KPwDN Banten        | Provinsi | 4 | 36 |\n",
       "| 4 | BENGKULU      | 397 | KPwDN Koordinator Sumatera Utara | KPwDN Bengkulu      | Provinsi | 5 | 17 |\n",
       "| 5 | DI YOGYAKARTA |  59 | KPwDN Koordinator Jawa Timur     | KPwDN DI Yogyakarta | Provinsi | 7 | 34 |\n",
       "| 6 | DKI JAKARTA   |  65 | KPwDN Koordinator Jawa Timur     | KPwDN DKI Jakarta   | Provinsi | 8 | 31 |\n",
       "\n"
      ],
      "text/plain": [
       "  Pemda         No  KPwDN_Koordinator                KPwDN              \n",
       "1 ACEH          383 KPwDN Koordinator Sumatera Utara KPwDN Aceh         \n",
       "2 BALI            1 KPwDN Koordinator Bali           KPwDN Bali         \n",
       "3 BANTEN         45 KPwDN Koordinator Jawa Timur     KPwDN Banten       \n",
       "4 BENGKULU      397 KPwDN Koordinator Sumatera Utara KPwDN Bengkulu     \n",
       "5 DI YOGYAKARTA  59 KPwDN Koordinator Jawa Timur     KPwDN DI Yogyakarta\n",
       "6 DKI JAKARTA    65 KPwDN Koordinator Jawa Timur     KPwDN DKI Jakarta  \n",
       "  Tingkat  KPwDN_Code prov_code\n",
       "1 Provinsi 1          11       \n",
       "2 Provinsi 2          51       \n",
       "3 Provinsi 4          36       \n",
       "4 Provinsi 5          17       \n",
       "5 Provinsi 7          34       \n",
       "6 Provinsi 8          31       "
      ]
     },
     "metadata": {},
     "output_type": "display_data"
    },
    {
     "data": {
      "text/html": [
       "<table class=\"dataframe\">\n",
       "<caption>A data.frame: 6 × 7</caption>\n",
       "<thead>\n",
       "\t<tr><th></th><th scope=col>Pemda</th><th scope=col>No</th><th scope=col>KPwDN_Koordinator</th><th scope=col>KPwDN</th><th scope=col>Tingkat</th><th scope=col>KPwDN_Code</th><th scope=col>provkabkot_code</th></tr>\n",
       "\t<tr><th></th><th scope=col>&lt;chr&gt;</th><th scope=col>&lt;dbl&gt;</th><th scope=col>&lt;chr&gt;</th><th scope=col>&lt;chr&gt;</th><th scope=col>&lt;chr&gt;</th><th scope=col>&lt;dbl&gt;</th><th scope=col>&lt;chr&gt;</th></tr>\n",
       "</thead>\n",
       "<tbody>\n",
       "\t<tr><th scope=row>1</th><td>KAB. ACEH BARAT     </td><td>387</td><td>KPwDN Koordinator Sumatera Utara</td><td>KPwDN Aceh</td><td>Kabupaten</td><td>1</td><td>117 </td></tr>\n",
       "\t<tr><th scope=row>2</th><td>KAB. ACEH BARAT DAYA</td><td>388</td><td>KPwDN Koordinator Sumatera Utara</td><td>KPwDN Aceh</td><td>Kabupaten</td><td>1</td><td>1112</td></tr>\n",
       "\t<tr><th scope=row>3</th><td>KAB. ACEH BESAR     </td><td>389</td><td>KPwDN Koordinator Sumatera Utara</td><td>KPwDN Aceh</td><td>Kabupaten</td><td>1</td><td>118 </td></tr>\n",
       "\t<tr><th scope=row>4</th><td>KAB. ACEH JAYA      </td><td>390</td><td>KPwDN Koordinator Sumatera Utara</td><td>KPwDN Aceh</td><td>Kabupaten</td><td>1</td><td>1116</td></tr>\n",
       "\t<tr><th scope=row>5</th><td>KAB. ACEH SELATAN   </td><td>391</td><td>KPwDN Koordinator Sumatera Utara</td><td>KPwDN Aceh</td><td>Kabupaten</td><td>1</td><td>113 </td></tr>\n",
       "\t<tr><th scope=row>6</th><td>KAB. ACEH SINGKIL   </td><td>392</td><td>KPwDN Koordinator Sumatera Utara</td><td>KPwDN Aceh</td><td>Kabupaten</td><td>1</td><td>112 </td></tr>\n",
       "</tbody>\n",
       "</table>\n"
      ],
      "text/latex": [
       "A data.frame: 6 × 7\n",
       "\\begin{tabular}{r|lllllll}\n",
       "  & Pemda & No & KPwDN\\_Koordinator & KPwDN & Tingkat & KPwDN\\_Code & provkabkot\\_code\\\\\n",
       "  & <chr> & <dbl> & <chr> & <chr> & <chr> & <dbl> & <chr>\\\\\n",
       "\\hline\n",
       "\t1 & KAB. ACEH BARAT      & 387 & KPwDN Koordinator Sumatera Utara & KPwDN Aceh & Kabupaten & 1 & 117 \\\\\n",
       "\t2 & KAB. ACEH BARAT DAYA & 388 & KPwDN Koordinator Sumatera Utara & KPwDN Aceh & Kabupaten & 1 & 1112\\\\\n",
       "\t3 & KAB. ACEH BESAR      & 389 & KPwDN Koordinator Sumatera Utara & KPwDN Aceh & Kabupaten & 1 & 118 \\\\\n",
       "\t4 & KAB. ACEH JAYA       & 390 & KPwDN Koordinator Sumatera Utara & KPwDN Aceh & Kabupaten & 1 & 1116\\\\\n",
       "\t5 & KAB. ACEH SELATAN    & 391 & KPwDN Koordinator Sumatera Utara & KPwDN Aceh & Kabupaten & 1 & 113 \\\\\n",
       "\t6 & KAB. ACEH SINGKIL    & 392 & KPwDN Koordinator Sumatera Utara & KPwDN Aceh & Kabupaten & 1 & 112 \\\\\n",
       "\\end{tabular}\n"
      ],
      "text/markdown": [
       "\n",
       "A data.frame: 6 × 7\n",
       "\n",
       "| <!--/--> | Pemda &lt;chr&gt; | No &lt;dbl&gt; | KPwDN_Koordinator &lt;chr&gt; | KPwDN &lt;chr&gt; | Tingkat &lt;chr&gt; | KPwDN_Code &lt;dbl&gt; | provkabkot_code &lt;chr&gt; |\n",
       "|---|---|---|---|---|---|---|---|\n",
       "| 1 | KAB. ACEH BARAT      | 387 | KPwDN Koordinator Sumatera Utara | KPwDN Aceh | Kabupaten | 1 | 117  |\n",
       "| 2 | KAB. ACEH BARAT DAYA | 388 | KPwDN Koordinator Sumatera Utara | KPwDN Aceh | Kabupaten | 1 | 1112 |\n",
       "| 3 | KAB. ACEH BESAR      | 389 | KPwDN Koordinator Sumatera Utara | KPwDN Aceh | Kabupaten | 1 | 118  |\n",
       "| 4 | KAB. ACEH JAYA       | 390 | KPwDN Koordinator Sumatera Utara | KPwDN Aceh | Kabupaten | 1 | 1116 |\n",
       "| 5 | KAB. ACEH SELATAN    | 391 | KPwDN Koordinator Sumatera Utara | KPwDN Aceh | Kabupaten | 1 | 113  |\n",
       "| 6 | KAB. ACEH SINGKIL    | 392 | KPwDN Koordinator Sumatera Utara | KPwDN Aceh | Kabupaten | 1 | 112  |\n",
       "\n"
      ],
      "text/plain": [
       "  Pemda                No  KPwDN_Koordinator                KPwDN     \n",
       "1 KAB. ACEH BARAT      387 KPwDN Koordinator Sumatera Utara KPwDN Aceh\n",
       "2 KAB. ACEH BARAT DAYA 388 KPwDN Koordinator Sumatera Utara KPwDN Aceh\n",
       "3 KAB. ACEH BESAR      389 KPwDN Koordinator Sumatera Utara KPwDN Aceh\n",
       "4 KAB. ACEH JAYA       390 KPwDN Koordinator Sumatera Utara KPwDN Aceh\n",
       "5 KAB. ACEH SELATAN    391 KPwDN Koordinator Sumatera Utara KPwDN Aceh\n",
       "6 KAB. ACEH SINGKIL    392 KPwDN Koordinator Sumatera Utara KPwDN Aceh\n",
       "  Tingkat   KPwDN_Code provkabkot_code\n",
       "1 Kabupaten 1          117            \n",
       "2 Kabupaten 1          1112           \n",
       "3 Kabupaten 1          118            \n",
       "4 Kabupaten 1          1116           \n",
       "5 Kabupaten 1          113            \n",
       "6 Kabupaten 1          112            "
      ]
     },
     "metadata": {},
     "output_type": "display_data"
    }
   ],
   "source": [
    "# rbind dat_prov_m and dat_kabkot_m \n",
    "dat_kabkot_m$provkabkot_code <- dat_kabkot_m$kabkot_code\n",
    "dat_kabkot_m$kabkot_code <- NULL\n",
    "head(dat_prov_m); head(dat_kabkot_m)"
   ]
  },
  {
   "cell_type": "code",
   "execution_count": 228,
   "id": "3daf05fb",
   "metadata": {
    "vscode": {
     "languageId": "r"
    }
   },
   "outputs": [
    {
     "data": {
      "text/html": [
       "<table class=\"dataframe\">\n",
       "<caption>A data.frame: 6 × 13</caption>\n",
       "<thead>\n",
       "\t<tr><th></th><th scope=col>provkabkot_code</th><th scope=col>prov</th><th scope=col>kabkot</th><th scope=col>kecamatan</th><th scope=col>code_prov</th><th scope=col>code_kab</th><th scope=col>code_kec</th><th scope=col>Pemda</th><th scope=col>No</th><th scope=col>KPwDN_Koordinator</th><th scope=col>KPwDN</th><th scope=col>Tingkat</th><th scope=col>KPwDN_Code</th></tr>\n",
       "\t<tr><th></th><th scope=col>&lt;chr&gt;</th><th scope=col>&lt;chr&gt;</th><th scope=col>&lt;chr&gt;</th><th scope=col>&lt;chr&gt;</th><th scope=col>&lt;int&gt;</th><th scope=col>&lt;int&gt;</th><th scope=col>&lt;int&gt;</th><th scope=col>&lt;chr&gt;</th><th scope=col>&lt;dbl&gt;</th><th scope=col>&lt;chr&gt;</th><th scope=col>&lt;chr&gt;</th><th scope=col>&lt;chr&gt;</th><th scope=col>&lt;dbl&gt;</th></tr>\n",
       "</thead>\n",
       "<tbody>\n",
       "\t<tr><th scope=row>1</th><td>111</td><td>ACEH</td><td>KAB. SIMEULUE</td><td>SIMEULUE BARAT </td><td>11</td><td>1</td><td>50</td><td>KAB. SIMEULUE</td><td>396</td><td>KPwDN Koordinator Sumatera Utara</td><td>KPwDN Aceh</td><td>Kabupaten</td><td>1</td></tr>\n",
       "\t<tr><th scope=row>2</th><td>111</td><td>ACEH</td><td>KAB. SIMEULUE</td><td>SIMEULUE CUT   </td><td>11</td><td>1</td><td>32</td><td>KAB. SIMEULUE</td><td>396</td><td>KPwDN Koordinator Sumatera Utara</td><td>KPwDN Aceh</td><td>Kabupaten</td><td>1</td></tr>\n",
       "\t<tr><th scope=row>3</th><td>111</td><td>ACEH</td><td>KAB. SIMEULUE</td><td>SIMEULUE TENGAH</td><td>11</td><td>1</td><td>30</td><td>KAB. SIMEULUE</td><td>396</td><td>KPwDN Koordinator Sumatera Utara</td><td>KPwDN Aceh</td><td>Kabupaten</td><td>1</td></tr>\n",
       "\t<tr><th scope=row>4</th><td>111</td><td>ACEH</td><td>KAB. SIMEULUE</td><td>ALAFAN         </td><td>11</td><td>1</td><td>51</td><td>KAB. SIMEULUE</td><td>396</td><td>KPwDN Koordinator Sumatera Utara</td><td>KPwDN Aceh</td><td>Kabupaten</td><td>1</td></tr>\n",
       "\t<tr><th scope=row>5</th><td>111</td><td>ACEH</td><td>KAB. SIMEULUE</td><td>SALANG         </td><td>11</td><td>1</td><td>40</td><td>KAB. SIMEULUE</td><td>396</td><td>KPwDN Koordinator Sumatera Utara</td><td>KPwDN Aceh</td><td>Kabupaten</td><td>1</td></tr>\n",
       "\t<tr><th scope=row>6</th><td>111</td><td>ACEH</td><td>KAB. SIMEULUE</td><td>TEUPAH BARAT   </td><td>11</td><td>1</td><td>21</td><td>KAB. SIMEULUE</td><td>396</td><td>KPwDN Koordinator Sumatera Utara</td><td>KPwDN Aceh</td><td>Kabupaten</td><td>1</td></tr>\n",
       "</tbody>\n",
       "</table>\n"
      ],
      "text/latex": [
       "A data.frame: 6 × 13\n",
       "\\begin{tabular}{r|lllllllllllll}\n",
       "  & provkabkot\\_code & prov & kabkot & kecamatan & code\\_prov & code\\_kab & code\\_kec & Pemda & No & KPwDN\\_Koordinator & KPwDN & Tingkat & KPwDN\\_Code\\\\\n",
       "  & <chr> & <chr> & <chr> & <chr> & <int> & <int> & <int> & <chr> & <dbl> & <chr> & <chr> & <chr> & <dbl>\\\\\n",
       "\\hline\n",
       "\t1 & 111 & ACEH & KAB. SIMEULUE & SIMEULUE BARAT  & 11 & 1 & 50 & KAB. SIMEULUE & 396 & KPwDN Koordinator Sumatera Utara & KPwDN Aceh & Kabupaten & 1\\\\\n",
       "\t2 & 111 & ACEH & KAB. SIMEULUE & SIMEULUE CUT    & 11 & 1 & 32 & KAB. SIMEULUE & 396 & KPwDN Koordinator Sumatera Utara & KPwDN Aceh & Kabupaten & 1\\\\\n",
       "\t3 & 111 & ACEH & KAB. SIMEULUE & SIMEULUE TENGAH & 11 & 1 & 30 & KAB. SIMEULUE & 396 & KPwDN Koordinator Sumatera Utara & KPwDN Aceh & Kabupaten & 1\\\\\n",
       "\t4 & 111 & ACEH & KAB. SIMEULUE & ALAFAN          & 11 & 1 & 51 & KAB. SIMEULUE & 396 & KPwDN Koordinator Sumatera Utara & KPwDN Aceh & Kabupaten & 1\\\\\n",
       "\t5 & 111 & ACEH & KAB. SIMEULUE & SALANG          & 11 & 1 & 40 & KAB. SIMEULUE & 396 & KPwDN Koordinator Sumatera Utara & KPwDN Aceh & Kabupaten & 1\\\\\n",
       "\t6 & 111 & ACEH & KAB. SIMEULUE & TEUPAH BARAT    & 11 & 1 & 21 & KAB. SIMEULUE & 396 & KPwDN Koordinator Sumatera Utara & KPwDN Aceh & Kabupaten & 1\\\\\n",
       "\\end{tabular}\n"
      ],
      "text/markdown": [
       "\n",
       "A data.frame: 6 × 13\n",
       "\n",
       "| <!--/--> | provkabkot_code &lt;chr&gt; | prov &lt;chr&gt; | kabkot &lt;chr&gt; | kecamatan &lt;chr&gt; | code_prov &lt;int&gt; | code_kab &lt;int&gt; | code_kec &lt;int&gt; | Pemda &lt;chr&gt; | No &lt;dbl&gt; | KPwDN_Koordinator &lt;chr&gt; | KPwDN &lt;chr&gt; | Tingkat &lt;chr&gt; | KPwDN_Code &lt;dbl&gt; |\n",
       "|---|---|---|---|---|---|---|---|---|---|---|---|---|---|\n",
       "| 1 | 111 | ACEH | KAB. SIMEULUE | SIMEULUE BARAT  | 11 | 1 | 50 | KAB. SIMEULUE | 396 | KPwDN Koordinator Sumatera Utara | KPwDN Aceh | Kabupaten | 1 |\n",
       "| 2 | 111 | ACEH | KAB. SIMEULUE | SIMEULUE CUT    | 11 | 1 | 32 | KAB. SIMEULUE | 396 | KPwDN Koordinator Sumatera Utara | KPwDN Aceh | Kabupaten | 1 |\n",
       "| 3 | 111 | ACEH | KAB. SIMEULUE | SIMEULUE TENGAH | 11 | 1 | 30 | KAB. SIMEULUE | 396 | KPwDN Koordinator Sumatera Utara | KPwDN Aceh | Kabupaten | 1 |\n",
       "| 4 | 111 | ACEH | KAB. SIMEULUE | ALAFAN          | 11 | 1 | 51 | KAB. SIMEULUE | 396 | KPwDN Koordinator Sumatera Utara | KPwDN Aceh | Kabupaten | 1 |\n",
       "| 5 | 111 | ACEH | KAB. SIMEULUE | SALANG          | 11 | 1 | 40 | KAB. SIMEULUE | 396 | KPwDN Koordinator Sumatera Utara | KPwDN Aceh | Kabupaten | 1 |\n",
       "| 6 | 111 | ACEH | KAB. SIMEULUE | TEUPAH BARAT    | 11 | 1 | 21 | KAB. SIMEULUE | 396 | KPwDN Koordinator Sumatera Utara | KPwDN Aceh | Kabupaten | 1 |\n",
       "\n"
      ],
      "text/plain": [
       "  provkabkot_code prov kabkot        kecamatan       code_prov code_kab\n",
       "1 111             ACEH KAB. SIMEULUE SIMEULUE BARAT  11        1       \n",
       "2 111             ACEH KAB. SIMEULUE SIMEULUE CUT    11        1       \n",
       "3 111             ACEH KAB. SIMEULUE SIMEULUE TENGAH 11        1       \n",
       "4 111             ACEH KAB. SIMEULUE ALAFAN          11        1       \n",
       "5 111             ACEH KAB. SIMEULUE SALANG          11        1       \n",
       "6 111             ACEH KAB. SIMEULUE TEUPAH BARAT    11        1       \n",
       "  code_kec Pemda         No  KPwDN_Koordinator                KPwDN     \n",
       "1 50       KAB. SIMEULUE 396 KPwDN Koordinator Sumatera Utara KPwDN Aceh\n",
       "2 32       KAB. SIMEULUE 396 KPwDN Koordinator Sumatera Utara KPwDN Aceh\n",
       "3 30       KAB. SIMEULUE 396 KPwDN Koordinator Sumatera Utara KPwDN Aceh\n",
       "4 51       KAB. SIMEULUE 396 KPwDN Koordinator Sumatera Utara KPwDN Aceh\n",
       "5 40       KAB. SIMEULUE 396 KPwDN Koordinator Sumatera Utara KPwDN Aceh\n",
       "6 21       KAB. SIMEULUE 396 KPwDN Koordinator Sumatera Utara KPwDN Aceh\n",
       "  Tingkat   KPwDN_Code\n",
       "1 Kabupaten 1         \n",
       "2 Kabupaten 1         \n",
       "3 Kabupaten 1         \n",
       "4 Kabupaten 1         \n",
       "5 Kabupaten 1         \n",
       "6 Kabupaten 1         "
      ]
     },
     "metadata": {},
     "output_type": "display_data"
    }
   ],
   "source": [
    "# data$kpwdn sama dengan KPwDN di dat_kabkot_m merge by  provkabkot_code\n",
    "data2 <- merge(data, dat_kabkot_m, by = \"provkabkot_code\", all.x = TRUE)\n",
    "# Display the first few rows of the merged data\n",
    "head(data2)"
   ]
  },
  {
   "cell_type": "code",
   "execution_count": 236,
   "id": "dc8efeb3",
   "metadata": {
    "vscode": {
     "languageId": "r"
    }
   },
   "outputs": [],
   "source": [
    "# na in data2\n",
    "na_rows <- data2[is.na(data2$KPwDN), ]\n",
    "\n",
    "# fill na data2$prov == SUMATERA UTARA and DKI JAKARTA in column 8:13 with dat_prov_m$Pemda == SUMATERA UTARA and DKI JAKARTA\n",
    "# Get KPwDN data for the provinces of interest\n",
    "sumut_data <- dat_prov_m[dat_prov_m$Pemda == \"SUMATERA UTARA\", ]\n",
    "jakarta_data <- dat_prov_m[dat_prov_m$Pemda == \"DKI JAKARTA\", ]\n",
    "\n",
    "# List of columns to fill from the province data\n",
    "cols_to_fill <- c(\"KPwDN\", \"Tingkat\", \"KPwDN_Code\")\n",
    "\n",
    "# Fill NA values for SUMATERA UTARA\n",
    "sumut_rows <- which(data2$prov == \"SUMATERA UTARA\" & is.na(data2$KPwDN))\n",
    "if(length(sumut_rows) > 0 && nrow(sumut_data) > 0) {\n",
    "    for(col in cols_to_fill) {\n",
    "        if(col %in% names(data2) && col %in% names(sumut_data)) {\n",
    "            data2[sumut_rows, col] <- sumut_data[1, col]\n",
    "        }\n",
    "    }\n",
    "}\n",
    "\n",
    "# Fill NA values for DKI JAKARTA\n",
    "jakarta_rows <- which(data2$prov == \"DKI JAKARTA\" & is.na(data2$KPwDN))\n",
    "if(length(jakarta_rows) > 0 && nrow(jakarta_data) > 0) {\n",
    "    for(col in cols_to_fill) {\n",
    "        if(col %in% names(data2) && col %in% names(jakarta_data)) {\n",
    "            data2[jakarta_rows, col] <- jakarta_data[1, col]\n",
    "        }\n",
    "    }\n",
    "}\n"
   ]
  },
  {
   "cell_type": "code",
   "execution_count": 237,
   "id": "653bcc9d",
   "metadata": {
    "vscode": {
     "languageId": "r"
    }
   },
   "outputs": [
    {
     "data": {
      "text/html": [
       "<table class=\"dataframe\">\n",
       "<caption>A data.frame: 0 × 13</caption>\n",
       "<thead>\n",
       "\t<tr><th scope=col>provkabkot_code</th><th scope=col>prov</th><th scope=col>kabkot</th><th scope=col>kecamatan</th><th scope=col>code_prov</th><th scope=col>code_kab</th><th scope=col>code_kec</th><th scope=col>Pemda</th><th scope=col>No</th><th scope=col>KPwDN_Koordinator</th><th scope=col>KPwDN</th><th scope=col>Tingkat</th><th scope=col>KPwDN_Code</th></tr>\n",
       "\t<tr><th scope=col>&lt;chr&gt;</th><th scope=col>&lt;chr&gt;</th><th scope=col>&lt;chr&gt;</th><th scope=col>&lt;chr&gt;</th><th scope=col>&lt;int&gt;</th><th scope=col>&lt;int&gt;</th><th scope=col>&lt;int&gt;</th><th scope=col>&lt;chr&gt;</th><th scope=col>&lt;dbl&gt;</th><th scope=col>&lt;chr&gt;</th><th scope=col>&lt;chr&gt;</th><th scope=col>&lt;chr&gt;</th><th scope=col>&lt;dbl&gt;</th></tr>\n",
       "</thead>\n",
       "<tbody>\n",
       "</tbody>\n",
       "</table>\n"
      ],
      "text/latex": [
       "A data.frame: 0 × 13\n",
       "\\begin{tabular}{lllllllllllll}\n",
       " provkabkot\\_code & prov & kabkot & kecamatan & code\\_prov & code\\_kab & code\\_kec & Pemda & No & KPwDN\\_Koordinator & KPwDN & Tingkat & KPwDN\\_Code\\\\\n",
       " <chr> & <chr> & <chr> & <chr> & <int> & <int> & <int> & <chr> & <dbl> & <chr> & <chr> & <chr> & <dbl>\\\\\n",
       "\\hline\n",
       "\\end{tabular}\n"
      ],
      "text/markdown": [
       "\n",
       "A data.frame: 0 × 13\n",
       "\n",
       "| provkabkot_code &lt;chr&gt; | prov &lt;chr&gt; | kabkot &lt;chr&gt; | kecamatan &lt;chr&gt; | code_prov &lt;int&gt; | code_kab &lt;int&gt; | code_kec &lt;int&gt; | Pemda &lt;chr&gt; | No &lt;dbl&gt; | KPwDN_Koordinator &lt;chr&gt; | KPwDN &lt;chr&gt; | Tingkat &lt;chr&gt; | KPwDN_Code &lt;dbl&gt; |\n",
       "|---|---|---|---|---|---|---|---|---|---|---|---|---|\n",
       "\n"
      ],
      "text/plain": [
       "     provkabkot_code prov kabkot kecamatan code_prov code_kab code_kec Pemda No\n",
       "     KPwDN_Koordinator KPwDN Tingkat KPwDN_Code"
      ]
     },
     "metadata": {},
     "output_type": "display_data"
    }
   ],
   "source": [
    "na_rows <- data2[is.na(data2$KPwDN), ]\n",
    "na_rows"
   ]
  },
  {
   "cell_type": "code",
   "execution_count": 242,
   "id": "7722be4a",
   "metadata": {
    "vscode": {
     "languageId": "r"
    }
   },
   "outputs": [
    {
     "data": {
      "text/html": [
       "<table class=\"dataframe\">\n",
       "<caption>A data.frame: 7288 × 8</caption>\n",
       "<thead>\n",
       "\t<tr><th scope=col>prov</th><th scope=col>kabkot</th><th scope=col>kecamatan</th><th scope=col>code_prov</th><th scope=col>code_kab</th><th scope=col>code_kec</th><th scope=col>KPwDN</th><th scope=col>KPwDN_Code</th></tr>\n",
       "\t<tr><th scope=col>&lt;chr&gt;</th><th scope=col>&lt;chr&gt;</th><th scope=col>&lt;chr&gt;</th><th scope=col>&lt;int&gt;</th><th scope=col>&lt;int&gt;</th><th scope=col>&lt;int&gt;</th><th scope=col>&lt;chr&gt;</th><th scope=col>&lt;dbl&gt;</th></tr>\n",
       "</thead>\n",
       "<tbody>\n",
       "\t<tr><td>ACEH</td><td>KAB. SIMEULUE  </td><td>SIMEULUE BARAT         </td><td>11</td><td> 1</td><td> 50</td><td>KPwDN Aceh       </td><td> 1</td></tr>\n",
       "\t<tr><td>ACEH</td><td>KAB. SIMEULUE  </td><td>SIMEULUE CUT           </td><td>11</td><td> 1</td><td> 32</td><td>KPwDN Aceh       </td><td> 1</td></tr>\n",
       "\t<tr><td>ACEH</td><td>KAB. SIMEULUE  </td><td>SIMEULUE TENGAH        </td><td>11</td><td> 1</td><td> 30</td><td>KPwDN Aceh       </td><td> 1</td></tr>\n",
       "\t<tr><td>ACEH</td><td>KAB. SIMEULUE  </td><td>ALAFAN                 </td><td>11</td><td> 1</td><td> 51</td><td>KPwDN Aceh       </td><td> 1</td></tr>\n",
       "\t<tr><td>ACEH</td><td>KAB. SIMEULUE  </td><td>SALANG                 </td><td>11</td><td> 1</td><td> 40</td><td>KPwDN Aceh       </td><td> 1</td></tr>\n",
       "\t<tr><td>ACEH</td><td>KAB. SIMEULUE  </td><td>TEUPAH BARAT           </td><td>11</td><td> 1</td><td> 21</td><td>KPwDN Aceh       </td><td> 1</td></tr>\n",
       "\t<tr><td>ACEH</td><td>KAB. SIMEULUE  </td><td>TEUPAH TENGAH          </td><td>11</td><td> 1</td><td> 22</td><td>KPwDN Aceh       </td><td> 1</td></tr>\n",
       "\t<tr><td>ACEH</td><td>KAB. SIMEULUE  </td><td>SIMEULUE TIMUR         </td><td>11</td><td> 1</td><td> 20</td><td>KPwDN Aceh       </td><td> 1</td></tr>\n",
       "\t<tr><td>ACEH</td><td>KAB. SIMEULUE  </td><td>TELUK DALAM            </td><td>11</td><td> 1</td><td> 31</td><td>KPwDN Aceh       </td><td> 1</td></tr>\n",
       "\t<tr><td>ACEH</td><td>KAB. SIMEULUE  </td><td>TEUPAH SELATAN         </td><td>11</td><td> 1</td><td> 10</td><td>KPwDN Aceh       </td><td> 1</td></tr>\n",
       "\t<tr><td>ACEH</td><td>KAB. BIREUEN   </td><td>GANDA PURA             </td><td>11</td><td>10</td><td>100</td><td>KPwDN Lhokseumawe</td><td>24</td></tr>\n",
       "\t<tr><td>ACEH</td><td>KAB. BIREUEN   </td><td>JANGKA                 </td><td>11</td><td>10</td><td> 70</td><td>KPwDN Lhokseumawe</td><td>24</td></tr>\n",
       "\t<tr><td>ACEH</td><td>KAB. BIREUEN   </td><td>PEUDADA                </td><td>11</td><td>10</td><td> 40</td><td>KPwDN Lhokseumawe</td><td>24</td></tr>\n",
       "\t<tr><td>ACEH</td><td>KAB. BIREUEN   </td><td>PEULIMBANG             </td><td>11</td><td>10</td><td> 31</td><td>KPwDN Lhokseumawe</td><td>24</td></tr>\n",
       "\t<tr><td>ACEH</td><td>KAB. BIREUEN   </td><td>PEUSANGAN              </td><td>11</td><td>10</td><td> 80</td><td>KPwDN Lhokseumawe</td><td>24</td></tr>\n",
       "\t<tr><td>ACEH</td><td>KAB. BIREUEN   </td><td>PEUSANGAN SELATAN      </td><td>11</td><td>10</td><td> 81</td><td>KPwDN Lhokseumawe</td><td>24</td></tr>\n",
       "\t<tr><td>ACEH</td><td>KAB. BIREUEN   </td><td>PEUSANGAN SIBLAH KRUENG</td><td>11</td><td>10</td><td> 82</td><td>KPwDN Lhokseumawe</td><td>24</td></tr>\n",
       "\t<tr><td>ACEH</td><td>KAB. BIREUEN   </td><td>JEUMPA                 </td><td>11</td><td>10</td><td> 60</td><td>KPwDN Lhokseumawe</td><td>24</td></tr>\n",
       "\t<tr><td>ACEH</td><td>KAB. BIREUEN   </td><td>JEUNIEB                </td><td>11</td><td>10</td><td> 30</td><td>KPwDN Lhokseumawe</td><td>24</td></tr>\n",
       "\t<tr><td>ACEH</td><td>KAB. BIREUEN   </td><td>JULI                   </td><td>11</td><td>10</td><td> 50</td><td>KPwDN Lhokseumawe</td><td>24</td></tr>\n",
       "\t<tr><td>ACEH</td><td>KAB. BIREUEN   </td><td>KOTA JUANG             </td><td>11</td><td>10</td><td> 61</td><td>KPwDN Lhokseumawe</td><td>24</td></tr>\n",
       "\t<tr><td>ACEH</td><td>KAB. BIREUEN   </td><td>KUALA                  </td><td>11</td><td>10</td><td> 62</td><td>KPwDN Lhokseumawe</td><td>24</td></tr>\n",
       "\t<tr><td>ACEH</td><td>KAB. BIREUEN   </td><td>KUTA BLANG             </td><td>11</td><td>10</td><td>101</td><td>KPwDN Lhokseumawe</td><td>24</td></tr>\n",
       "\t<tr><td>ACEH</td><td>KAB. BIREUEN   </td><td>MAKMUR                 </td><td>11</td><td>10</td><td> 90</td><td>KPwDN Lhokseumawe</td><td>24</td></tr>\n",
       "\t<tr><td>ACEH</td><td>KAB. BIREUEN   </td><td>PANDRAH                </td><td>11</td><td>10</td><td> 20</td><td>KPwDN Lhokseumawe</td><td>24</td></tr>\n",
       "\t<tr><td>ACEH</td><td>KAB. BIREUEN   </td><td>SAMALANGA              </td><td>11</td><td>10</td><td> 10</td><td>KPwDN Lhokseumawe</td><td>24</td></tr>\n",
       "\t<tr><td>ACEH</td><td>KAB. BIREUEN   </td><td>SIMPANG MAMPLAM        </td><td>11</td><td>10</td><td> 11</td><td>KPwDN Lhokseumawe</td><td>24</td></tr>\n",
       "\t<tr><td>ACEH</td><td>KAB. ACEH UTARA</td><td>KUTA MAKMUR            </td><td>11</td><td>11</td><td> 30</td><td>KPwDN Lhokseumawe</td><td>24</td></tr>\n",
       "\t<tr><td>ACEH</td><td>KAB. ACEH UTARA</td><td>LANGKAHAN              </td><td>11</td><td>11</td><td> 81</td><td>KPwDN Lhokseumawe</td><td>24</td></tr>\n",
       "\t<tr><td>ACEH</td><td>KAB. ACEH UTARA</td><td>MATANGKULI             </td><td>11</td><td>11</td><td> 60</td><td>KPwDN Lhokseumawe</td><td>24</td></tr>\n",
       "\t<tr><td>⋮</td><td>⋮</td><td>⋮</td><td>⋮</td><td>⋮</td><td>⋮</td><td>⋮</td><td>⋮</td></tr>\n",
       "\t<tr><td>PAPUA PEGUNUNGAN</td><td>KAB. PEGUNUNGAN BINTANG</td><td>BATOM        </td><td>97</td><td>8</td><td>320</td><td>KPwDN Papua</td><td>30</td></tr>\n",
       "\t<tr><td>PAPUA PEGUNUNGAN</td><td>KAB. PEGUNUNGAN BINTANG</td><td>BIME         </td><td>97</td><td>8</td><td>140</td><td>KPwDN Papua</td><td>30</td></tr>\n",
       "\t<tr><td>PAPUA PEGUNUNGAN</td><td>KAB. PEGUNUNGAN BINTANG</td><td>BORME        </td><td>97</td><td>8</td><td>130</td><td>KPwDN Papua</td><td>30</td></tr>\n",
       "\t<tr><td>PAPUA PEGUNUNGAN</td><td>KAB. PEGUNUNGAN BINTANG</td><td>EIPUMEK      </td><td>97</td><td>8</td><td>150</td><td>KPwDN Papua</td><td>30</td></tr>\n",
       "\t<tr><td>PAPUA PEGUNUNGAN</td><td>KAB. PEGUNUNGAN BINTANG</td><td>IWUR         </td><td>97</td><td>8</td><td> 10</td><td>KPwDN Papua</td><td>30</td></tr>\n",
       "\t<tr><td>PAPUA PEGUNUNGAN</td><td>KAB. PEGUNUNGAN BINTANG</td><td>JETFA        </td><td>97</td><td>8</td><td>240</td><td>KPwDN Papua</td><td>30</td></tr>\n",
       "\t<tr><td>PAPUA PEGUNUNGAN</td><td>KAB. PEGUNUNGAN BINTANG</td><td>KaLOMDOL     </td><td>97</td><td>8</td><td> 90</td><td>KPwDN Papua</td><td>30</td></tr>\n",
       "\t<tr><td>PAPUA PEGUNUNGAN</td><td>KAB. PEGUNUNGAN BINTANG</td><td>KAWOR        </td><td>97</td><td>8</td><td> 20</td><td>KPwDN Papua</td><td>30</td></tr>\n",
       "\t<tr><td>PAPUA PEGUNUNGAN</td><td>KAB. PEGUNUNGAN BINTANG</td><td>KIWIROK      </td><td>97</td><td>8</td><td>250</td><td>KPwDN Papua</td><td>30</td></tr>\n",
       "\t<tr><td>PAPUA PEGUNUNGAN</td><td>KAB. PEGUNUNGAN BINTANG</td><td>KIWIROK TIMUR</td><td>97</td><td>8</td><td>260</td><td>KPwDN Papua</td><td>30</td></tr>\n",
       "\t<tr><td>PAPUA PEGUNUNGAN</td><td>KAB. PEGUNUNGAN BINTANG</td><td>MOFINOP      </td><td>97</td><td>8</td><td>340</td><td>KPwDN Papua</td><td>30</td></tr>\n",
       "\t<tr><td>PAPUA PEGUNUNGAN</td><td>KAB. PEGUNUNGAN BINTANG</td><td>MURKIM       </td><td>97</td><td>8</td><td>330</td><td>KPwDN Papua</td><td>30</td></tr>\n",
       "\t<tr><td>PAPUA PEGUNUNGAN</td><td>KAB. PEGUNUNGAN BINTANG</td><td>NONGME       </td><td>97</td><td>8</td><td>180</td><td>KPwDN Papua</td><td>30</td></tr>\n",
       "\t<tr><td>PAPUA PEGUNUNGAN</td><td>KAB. PEGUNUNGAN BINTANG</td><td>OK AOM       </td><td>97</td><td>8</td><td>120</td><td>KPwDN Papua</td><td>30</td></tr>\n",
       "\t<tr><td>PAPUA PEGUNUNGAN</td><td>KAB. PEGUNUNGAN BINTANG</td><td>OKBAB        </td><td>97</td><td>8</td><td>220</td><td>KPwDN Papua</td><td>30</td></tr>\n",
       "\t<tr><td>PAPUA PEGUNUNGAN</td><td>KAB. PEGUNUNGAN BINTANG</td><td>OKBAPE       </td><td>97</td><td>8</td><td>110</td><td>KPwDN Papua</td><td>30</td></tr>\n",
       "\t<tr><td>PAPUA PEGUNUNGAN</td><td>KAB. PEGUNUNGAN BINTANG</td><td>OKBEMTAU     </td><td>97</td><td>8</td><td>310</td><td>KPwDN Papua</td><td>30</td></tr>\n",
       "\t<tr><td>PAPUA PEGUNUNGAN</td><td>KAB. PEGUNUNGAN BINTANG</td><td>OKBIBAB      </td><td>97</td><td>8</td><td>200</td><td>KPwDN Papua</td><td>30</td></tr>\n",
       "\t<tr><td>PAPUA PEGUNUNGAN</td><td>KAB. PEGUNUNGAN BINTANG</td><td>OKHIKA       </td><td>97</td><td>8</td><td>280</td><td>KPwDN Papua</td><td>30</td></tr>\n",
       "\t<tr><td>PAPUA PEGUNUNGAN</td><td>KAB. PEGUNUNGAN BINTANG</td><td>OKLIP        </td><td>97</td><td>8</td><td>290</td><td>KPwDN Papua</td><td>30</td></tr>\n",
       "\t<tr><td>PAPUA PEGUNUNGAN</td><td>KAB. PEGUNUNGAN BINTANG</td><td>OKSAMOL      </td><td>97</td><td>8</td><td>300</td><td>KPwDN Papua</td><td>30</td></tr>\n",
       "\t<tr><td>PAPUA PEGUNUNGAN</td><td>KAB. PEGUNUNGAN BINTANG</td><td>OKSEBANG     </td><td>97</td><td>8</td><td>270</td><td>KPwDN Papua</td><td>30</td></tr>\n",
       "\t<tr><td>PAPUA PEGUNUNGAN</td><td>KAB. PEGUNUNGAN BINTANG</td><td>OKSIBIL      </td><td>97</td><td>8</td><td> 50</td><td>KPwDN Papua</td><td>30</td></tr>\n",
       "\t<tr><td>PAPUA PEGUNUNGAN</td><td>KAB. PEGUNUNGAN BINTANG</td><td>OKSOP        </td><td>97</td><td>8</td><td>100</td><td>KPwDN Papua</td><td>30</td></tr>\n",
       "\t<tr><td>PAPUA PEGUNUNGAN</td><td>KAB. PEGUNUNGAN BINTANG</td><td>PAMEK        </td><td>97</td><td>8</td><td>170</td><td>KPwDN Papua</td><td>30</td></tr>\n",
       "\t<tr><td>PAPUA PEGUNUNGAN</td><td>KAB. PEGUNUNGAN BINTANG</td><td>PEPERA       </td><td>97</td><td>8</td><td> 60</td><td>KPwDN Papua</td><td>30</td></tr>\n",
       "\t<tr><td>PAPUA PEGUNUNGAN</td><td>KAB. PEGUNUNGAN BINTANG</td><td>SERAMBAKON   </td><td>97</td><td>8</td><td> 80</td><td>KPwDN Papua</td><td>30</td></tr>\n",
       "\t<tr><td>PAPUA PEGUNUNGAN</td><td>KAB. PEGUNUNGAN BINTANG</td><td>TARUP        </td><td>97</td><td>8</td><td> 30</td><td>KPwDN Papua</td><td>30</td></tr>\n",
       "\t<tr><td>PAPUA PEGUNUNGAN</td><td>KAB. PEGUNUNGAN BINTANG</td><td>TEIRAPLU     </td><td>97</td><td>8</td><td>230</td><td>KPwDN Papua</td><td>30</td></tr>\n",
       "\t<tr><td>PAPUA PEGUNUNGAN</td><td>KAB. PEGUNUNGAN BINTANG</td><td>WEIME        </td><td>97</td><td>8</td><td>160</td><td>KPwDN Papua</td><td>30</td></tr>\n",
       "</tbody>\n",
       "</table>\n"
      ],
      "text/latex": [
       "A data.frame: 7288 × 8\n",
       "\\begin{tabular}{llllllll}\n",
       " prov & kabkot & kecamatan & code\\_prov & code\\_kab & code\\_kec & KPwDN & KPwDN\\_Code\\\\\n",
       " <chr> & <chr> & <chr> & <int> & <int> & <int> & <chr> & <dbl>\\\\\n",
       "\\hline\n",
       "\t ACEH & KAB. SIMEULUE   & SIMEULUE BARAT          & 11 &  1 &  50 & KPwDN Aceh        &  1\\\\\n",
       "\t ACEH & KAB. SIMEULUE   & SIMEULUE CUT            & 11 &  1 &  32 & KPwDN Aceh        &  1\\\\\n",
       "\t ACEH & KAB. SIMEULUE   & SIMEULUE TENGAH         & 11 &  1 &  30 & KPwDN Aceh        &  1\\\\\n",
       "\t ACEH & KAB. SIMEULUE   & ALAFAN                  & 11 &  1 &  51 & KPwDN Aceh        &  1\\\\\n",
       "\t ACEH & KAB. SIMEULUE   & SALANG                  & 11 &  1 &  40 & KPwDN Aceh        &  1\\\\\n",
       "\t ACEH & KAB. SIMEULUE   & TEUPAH BARAT            & 11 &  1 &  21 & KPwDN Aceh        &  1\\\\\n",
       "\t ACEH & KAB. SIMEULUE   & TEUPAH TENGAH           & 11 &  1 &  22 & KPwDN Aceh        &  1\\\\\n",
       "\t ACEH & KAB. SIMEULUE   & SIMEULUE TIMUR          & 11 &  1 &  20 & KPwDN Aceh        &  1\\\\\n",
       "\t ACEH & KAB. SIMEULUE   & TELUK DALAM             & 11 &  1 &  31 & KPwDN Aceh        &  1\\\\\n",
       "\t ACEH & KAB. SIMEULUE   & TEUPAH SELATAN          & 11 &  1 &  10 & KPwDN Aceh        &  1\\\\\n",
       "\t ACEH & KAB. BIREUEN    & GANDA PURA              & 11 & 10 & 100 & KPwDN Lhokseumawe & 24\\\\\n",
       "\t ACEH & KAB. BIREUEN    & JANGKA                  & 11 & 10 &  70 & KPwDN Lhokseumawe & 24\\\\\n",
       "\t ACEH & KAB. BIREUEN    & PEUDADA                 & 11 & 10 &  40 & KPwDN Lhokseumawe & 24\\\\\n",
       "\t ACEH & KAB. BIREUEN    & PEULIMBANG              & 11 & 10 &  31 & KPwDN Lhokseumawe & 24\\\\\n",
       "\t ACEH & KAB. BIREUEN    & PEUSANGAN               & 11 & 10 &  80 & KPwDN Lhokseumawe & 24\\\\\n",
       "\t ACEH & KAB. BIREUEN    & PEUSANGAN SELATAN       & 11 & 10 &  81 & KPwDN Lhokseumawe & 24\\\\\n",
       "\t ACEH & KAB. BIREUEN    & PEUSANGAN SIBLAH KRUENG & 11 & 10 &  82 & KPwDN Lhokseumawe & 24\\\\\n",
       "\t ACEH & KAB. BIREUEN    & JEUMPA                  & 11 & 10 &  60 & KPwDN Lhokseumawe & 24\\\\\n",
       "\t ACEH & KAB. BIREUEN    & JEUNIEB                 & 11 & 10 &  30 & KPwDN Lhokseumawe & 24\\\\\n",
       "\t ACEH & KAB. BIREUEN    & JULI                    & 11 & 10 &  50 & KPwDN Lhokseumawe & 24\\\\\n",
       "\t ACEH & KAB. BIREUEN    & KOTA JUANG              & 11 & 10 &  61 & KPwDN Lhokseumawe & 24\\\\\n",
       "\t ACEH & KAB. BIREUEN    & KUALA                   & 11 & 10 &  62 & KPwDN Lhokseumawe & 24\\\\\n",
       "\t ACEH & KAB. BIREUEN    & KUTA BLANG              & 11 & 10 & 101 & KPwDN Lhokseumawe & 24\\\\\n",
       "\t ACEH & KAB. BIREUEN    & MAKMUR                  & 11 & 10 &  90 & KPwDN Lhokseumawe & 24\\\\\n",
       "\t ACEH & KAB. BIREUEN    & PANDRAH                 & 11 & 10 &  20 & KPwDN Lhokseumawe & 24\\\\\n",
       "\t ACEH & KAB. BIREUEN    & SAMALANGA               & 11 & 10 &  10 & KPwDN Lhokseumawe & 24\\\\\n",
       "\t ACEH & KAB. BIREUEN    & SIMPANG MAMPLAM         & 11 & 10 &  11 & KPwDN Lhokseumawe & 24\\\\\n",
       "\t ACEH & KAB. ACEH UTARA & KUTA MAKMUR             & 11 & 11 &  30 & KPwDN Lhokseumawe & 24\\\\\n",
       "\t ACEH & KAB. ACEH UTARA & LANGKAHAN               & 11 & 11 &  81 & KPwDN Lhokseumawe & 24\\\\\n",
       "\t ACEH & KAB. ACEH UTARA & MATANGKULI              & 11 & 11 &  60 & KPwDN Lhokseumawe & 24\\\\\n",
       "\t ⋮ & ⋮ & ⋮ & ⋮ & ⋮ & ⋮ & ⋮ & ⋮\\\\\n",
       "\t PAPUA PEGUNUNGAN & KAB. PEGUNUNGAN BINTANG & BATOM         & 97 & 8 & 320 & KPwDN Papua & 30\\\\\n",
       "\t PAPUA PEGUNUNGAN & KAB. PEGUNUNGAN BINTANG & BIME          & 97 & 8 & 140 & KPwDN Papua & 30\\\\\n",
       "\t PAPUA PEGUNUNGAN & KAB. PEGUNUNGAN BINTANG & BORME         & 97 & 8 & 130 & KPwDN Papua & 30\\\\\n",
       "\t PAPUA PEGUNUNGAN & KAB. PEGUNUNGAN BINTANG & EIPUMEK       & 97 & 8 & 150 & KPwDN Papua & 30\\\\\n",
       "\t PAPUA PEGUNUNGAN & KAB. PEGUNUNGAN BINTANG & IWUR          & 97 & 8 &  10 & KPwDN Papua & 30\\\\\n",
       "\t PAPUA PEGUNUNGAN & KAB. PEGUNUNGAN BINTANG & JETFA         & 97 & 8 & 240 & KPwDN Papua & 30\\\\\n",
       "\t PAPUA PEGUNUNGAN & KAB. PEGUNUNGAN BINTANG & KaLOMDOL      & 97 & 8 &  90 & KPwDN Papua & 30\\\\\n",
       "\t PAPUA PEGUNUNGAN & KAB. PEGUNUNGAN BINTANG & KAWOR         & 97 & 8 &  20 & KPwDN Papua & 30\\\\\n",
       "\t PAPUA PEGUNUNGAN & KAB. PEGUNUNGAN BINTANG & KIWIROK       & 97 & 8 & 250 & KPwDN Papua & 30\\\\\n",
       "\t PAPUA PEGUNUNGAN & KAB. PEGUNUNGAN BINTANG & KIWIROK TIMUR & 97 & 8 & 260 & KPwDN Papua & 30\\\\\n",
       "\t PAPUA PEGUNUNGAN & KAB. PEGUNUNGAN BINTANG & MOFINOP       & 97 & 8 & 340 & KPwDN Papua & 30\\\\\n",
       "\t PAPUA PEGUNUNGAN & KAB. PEGUNUNGAN BINTANG & MURKIM        & 97 & 8 & 330 & KPwDN Papua & 30\\\\\n",
       "\t PAPUA PEGUNUNGAN & KAB. PEGUNUNGAN BINTANG & NONGME        & 97 & 8 & 180 & KPwDN Papua & 30\\\\\n",
       "\t PAPUA PEGUNUNGAN & KAB. PEGUNUNGAN BINTANG & OK AOM        & 97 & 8 & 120 & KPwDN Papua & 30\\\\\n",
       "\t PAPUA PEGUNUNGAN & KAB. PEGUNUNGAN BINTANG & OKBAB         & 97 & 8 & 220 & KPwDN Papua & 30\\\\\n",
       "\t PAPUA PEGUNUNGAN & KAB. PEGUNUNGAN BINTANG & OKBAPE        & 97 & 8 & 110 & KPwDN Papua & 30\\\\\n",
       "\t PAPUA PEGUNUNGAN & KAB. PEGUNUNGAN BINTANG & OKBEMTAU      & 97 & 8 & 310 & KPwDN Papua & 30\\\\\n",
       "\t PAPUA PEGUNUNGAN & KAB. PEGUNUNGAN BINTANG & OKBIBAB       & 97 & 8 & 200 & KPwDN Papua & 30\\\\\n",
       "\t PAPUA PEGUNUNGAN & KAB. PEGUNUNGAN BINTANG & OKHIKA        & 97 & 8 & 280 & KPwDN Papua & 30\\\\\n",
       "\t PAPUA PEGUNUNGAN & KAB. PEGUNUNGAN BINTANG & OKLIP         & 97 & 8 & 290 & KPwDN Papua & 30\\\\\n",
       "\t PAPUA PEGUNUNGAN & KAB. PEGUNUNGAN BINTANG & OKSAMOL       & 97 & 8 & 300 & KPwDN Papua & 30\\\\\n",
       "\t PAPUA PEGUNUNGAN & KAB. PEGUNUNGAN BINTANG & OKSEBANG      & 97 & 8 & 270 & KPwDN Papua & 30\\\\\n",
       "\t PAPUA PEGUNUNGAN & KAB. PEGUNUNGAN BINTANG & OKSIBIL       & 97 & 8 &  50 & KPwDN Papua & 30\\\\\n",
       "\t PAPUA PEGUNUNGAN & KAB. PEGUNUNGAN BINTANG & OKSOP         & 97 & 8 & 100 & KPwDN Papua & 30\\\\\n",
       "\t PAPUA PEGUNUNGAN & KAB. PEGUNUNGAN BINTANG & PAMEK         & 97 & 8 & 170 & KPwDN Papua & 30\\\\\n",
       "\t PAPUA PEGUNUNGAN & KAB. PEGUNUNGAN BINTANG & PEPERA        & 97 & 8 &  60 & KPwDN Papua & 30\\\\\n",
       "\t PAPUA PEGUNUNGAN & KAB. PEGUNUNGAN BINTANG & SERAMBAKON    & 97 & 8 &  80 & KPwDN Papua & 30\\\\\n",
       "\t PAPUA PEGUNUNGAN & KAB. PEGUNUNGAN BINTANG & TARUP         & 97 & 8 &  30 & KPwDN Papua & 30\\\\\n",
       "\t PAPUA PEGUNUNGAN & KAB. PEGUNUNGAN BINTANG & TEIRAPLU      & 97 & 8 & 230 & KPwDN Papua & 30\\\\\n",
       "\t PAPUA PEGUNUNGAN & KAB. PEGUNUNGAN BINTANG & WEIME         & 97 & 8 & 160 & KPwDN Papua & 30\\\\\n",
       "\\end{tabular}\n"
      ],
      "text/markdown": [
       "\n",
       "A data.frame: 7288 × 8\n",
       "\n",
       "| prov &lt;chr&gt; | kabkot &lt;chr&gt; | kecamatan &lt;chr&gt; | code_prov &lt;int&gt; | code_kab &lt;int&gt; | code_kec &lt;int&gt; | KPwDN &lt;chr&gt; | KPwDN_Code &lt;dbl&gt; |\n",
       "|---|---|---|---|---|---|---|---|\n",
       "| ACEH | KAB. SIMEULUE   | SIMEULUE BARAT          | 11 |  1 |  50 | KPwDN Aceh        |  1 |\n",
       "| ACEH | KAB. SIMEULUE   | SIMEULUE CUT            | 11 |  1 |  32 | KPwDN Aceh        |  1 |\n",
       "| ACEH | KAB. SIMEULUE   | SIMEULUE TENGAH         | 11 |  1 |  30 | KPwDN Aceh        |  1 |\n",
       "| ACEH | KAB. SIMEULUE   | ALAFAN                  | 11 |  1 |  51 | KPwDN Aceh        |  1 |\n",
       "| ACEH | KAB. SIMEULUE   | SALANG                  | 11 |  1 |  40 | KPwDN Aceh        |  1 |\n",
       "| ACEH | KAB. SIMEULUE   | TEUPAH BARAT            | 11 |  1 |  21 | KPwDN Aceh        |  1 |\n",
       "| ACEH | KAB. SIMEULUE   | TEUPAH TENGAH           | 11 |  1 |  22 | KPwDN Aceh        |  1 |\n",
       "| ACEH | KAB. SIMEULUE   | SIMEULUE TIMUR          | 11 |  1 |  20 | KPwDN Aceh        |  1 |\n",
       "| ACEH | KAB. SIMEULUE   | TELUK DALAM             | 11 |  1 |  31 | KPwDN Aceh        |  1 |\n",
       "| ACEH | KAB. SIMEULUE   | TEUPAH SELATAN          | 11 |  1 |  10 | KPwDN Aceh        |  1 |\n",
       "| ACEH | KAB. BIREUEN    | GANDA PURA              | 11 | 10 | 100 | KPwDN Lhokseumawe | 24 |\n",
       "| ACEH | KAB. BIREUEN    | JANGKA                  | 11 | 10 |  70 | KPwDN Lhokseumawe | 24 |\n",
       "| ACEH | KAB. BIREUEN    | PEUDADA                 | 11 | 10 |  40 | KPwDN Lhokseumawe | 24 |\n",
       "| ACEH | KAB. BIREUEN    | PEULIMBANG              | 11 | 10 |  31 | KPwDN Lhokseumawe | 24 |\n",
       "| ACEH | KAB. BIREUEN    | PEUSANGAN               | 11 | 10 |  80 | KPwDN Lhokseumawe | 24 |\n",
       "| ACEH | KAB. BIREUEN    | PEUSANGAN SELATAN       | 11 | 10 |  81 | KPwDN Lhokseumawe | 24 |\n",
       "| ACEH | KAB. BIREUEN    | PEUSANGAN SIBLAH KRUENG | 11 | 10 |  82 | KPwDN Lhokseumawe | 24 |\n",
       "| ACEH | KAB. BIREUEN    | JEUMPA                  | 11 | 10 |  60 | KPwDN Lhokseumawe | 24 |\n",
       "| ACEH | KAB. BIREUEN    | JEUNIEB                 | 11 | 10 |  30 | KPwDN Lhokseumawe | 24 |\n",
       "| ACEH | KAB. BIREUEN    | JULI                    | 11 | 10 |  50 | KPwDN Lhokseumawe | 24 |\n",
       "| ACEH | KAB. BIREUEN    | KOTA JUANG              | 11 | 10 |  61 | KPwDN Lhokseumawe | 24 |\n",
       "| ACEH | KAB. BIREUEN    | KUALA                   | 11 | 10 |  62 | KPwDN Lhokseumawe | 24 |\n",
       "| ACEH | KAB. BIREUEN    | KUTA BLANG              | 11 | 10 | 101 | KPwDN Lhokseumawe | 24 |\n",
       "| ACEH | KAB. BIREUEN    | MAKMUR                  | 11 | 10 |  90 | KPwDN Lhokseumawe | 24 |\n",
       "| ACEH | KAB. BIREUEN    | PANDRAH                 | 11 | 10 |  20 | KPwDN Lhokseumawe | 24 |\n",
       "| ACEH | KAB. BIREUEN    | SAMALANGA               | 11 | 10 |  10 | KPwDN Lhokseumawe | 24 |\n",
       "| ACEH | KAB. BIREUEN    | SIMPANG MAMPLAM         | 11 | 10 |  11 | KPwDN Lhokseumawe | 24 |\n",
       "| ACEH | KAB. ACEH UTARA | KUTA MAKMUR             | 11 | 11 |  30 | KPwDN Lhokseumawe | 24 |\n",
       "| ACEH | KAB. ACEH UTARA | LANGKAHAN               | 11 | 11 |  81 | KPwDN Lhokseumawe | 24 |\n",
       "| ACEH | KAB. ACEH UTARA | MATANGKULI              | 11 | 11 |  60 | KPwDN Lhokseumawe | 24 |\n",
       "| ⋮ | ⋮ | ⋮ | ⋮ | ⋮ | ⋮ | ⋮ | ⋮ |\n",
       "| PAPUA PEGUNUNGAN | KAB. PEGUNUNGAN BINTANG | BATOM         | 97 | 8 | 320 | KPwDN Papua | 30 |\n",
       "| PAPUA PEGUNUNGAN | KAB. PEGUNUNGAN BINTANG | BIME          | 97 | 8 | 140 | KPwDN Papua | 30 |\n",
       "| PAPUA PEGUNUNGAN | KAB. PEGUNUNGAN BINTANG | BORME         | 97 | 8 | 130 | KPwDN Papua | 30 |\n",
       "| PAPUA PEGUNUNGAN | KAB. PEGUNUNGAN BINTANG | EIPUMEK       | 97 | 8 | 150 | KPwDN Papua | 30 |\n",
       "| PAPUA PEGUNUNGAN | KAB. PEGUNUNGAN BINTANG | IWUR          | 97 | 8 |  10 | KPwDN Papua | 30 |\n",
       "| PAPUA PEGUNUNGAN | KAB. PEGUNUNGAN BINTANG | JETFA         | 97 | 8 | 240 | KPwDN Papua | 30 |\n",
       "| PAPUA PEGUNUNGAN | KAB. PEGUNUNGAN BINTANG | KaLOMDOL      | 97 | 8 |  90 | KPwDN Papua | 30 |\n",
       "| PAPUA PEGUNUNGAN | KAB. PEGUNUNGAN BINTANG | KAWOR         | 97 | 8 |  20 | KPwDN Papua | 30 |\n",
       "| PAPUA PEGUNUNGAN | KAB. PEGUNUNGAN BINTANG | KIWIROK       | 97 | 8 | 250 | KPwDN Papua | 30 |\n",
       "| PAPUA PEGUNUNGAN | KAB. PEGUNUNGAN BINTANG | KIWIROK TIMUR | 97 | 8 | 260 | KPwDN Papua | 30 |\n",
       "| PAPUA PEGUNUNGAN | KAB. PEGUNUNGAN BINTANG | MOFINOP       | 97 | 8 | 340 | KPwDN Papua | 30 |\n",
       "| PAPUA PEGUNUNGAN | KAB. PEGUNUNGAN BINTANG | MURKIM        | 97 | 8 | 330 | KPwDN Papua | 30 |\n",
       "| PAPUA PEGUNUNGAN | KAB. PEGUNUNGAN BINTANG | NONGME        | 97 | 8 | 180 | KPwDN Papua | 30 |\n",
       "| PAPUA PEGUNUNGAN | KAB. PEGUNUNGAN BINTANG | OK AOM        | 97 | 8 | 120 | KPwDN Papua | 30 |\n",
       "| PAPUA PEGUNUNGAN | KAB. PEGUNUNGAN BINTANG | OKBAB         | 97 | 8 | 220 | KPwDN Papua | 30 |\n",
       "| PAPUA PEGUNUNGAN | KAB. PEGUNUNGAN BINTANG | OKBAPE        | 97 | 8 | 110 | KPwDN Papua | 30 |\n",
       "| PAPUA PEGUNUNGAN | KAB. PEGUNUNGAN BINTANG | OKBEMTAU      | 97 | 8 | 310 | KPwDN Papua | 30 |\n",
       "| PAPUA PEGUNUNGAN | KAB. PEGUNUNGAN BINTANG | OKBIBAB       | 97 | 8 | 200 | KPwDN Papua | 30 |\n",
       "| PAPUA PEGUNUNGAN | KAB. PEGUNUNGAN BINTANG | OKHIKA        | 97 | 8 | 280 | KPwDN Papua | 30 |\n",
       "| PAPUA PEGUNUNGAN | KAB. PEGUNUNGAN BINTANG | OKLIP         | 97 | 8 | 290 | KPwDN Papua | 30 |\n",
       "| PAPUA PEGUNUNGAN | KAB. PEGUNUNGAN BINTANG | OKSAMOL       | 97 | 8 | 300 | KPwDN Papua | 30 |\n",
       "| PAPUA PEGUNUNGAN | KAB. PEGUNUNGAN BINTANG | OKSEBANG      | 97 | 8 | 270 | KPwDN Papua | 30 |\n",
       "| PAPUA PEGUNUNGAN | KAB. PEGUNUNGAN BINTANG | OKSIBIL       | 97 | 8 |  50 | KPwDN Papua | 30 |\n",
       "| PAPUA PEGUNUNGAN | KAB. PEGUNUNGAN BINTANG | OKSOP         | 97 | 8 | 100 | KPwDN Papua | 30 |\n",
       "| PAPUA PEGUNUNGAN | KAB. PEGUNUNGAN BINTANG | PAMEK         | 97 | 8 | 170 | KPwDN Papua | 30 |\n",
       "| PAPUA PEGUNUNGAN | KAB. PEGUNUNGAN BINTANG | PEPERA        | 97 | 8 |  60 | KPwDN Papua | 30 |\n",
       "| PAPUA PEGUNUNGAN | KAB. PEGUNUNGAN BINTANG | SERAMBAKON    | 97 | 8 |  80 | KPwDN Papua | 30 |\n",
       "| PAPUA PEGUNUNGAN | KAB. PEGUNUNGAN BINTANG | TARUP         | 97 | 8 |  30 | KPwDN Papua | 30 |\n",
       "| PAPUA PEGUNUNGAN | KAB. PEGUNUNGAN BINTANG | TEIRAPLU      | 97 | 8 | 230 | KPwDN Papua | 30 |\n",
       "| PAPUA PEGUNUNGAN | KAB. PEGUNUNGAN BINTANG | WEIME         | 97 | 8 | 160 | KPwDN Papua | 30 |\n",
       "\n"
      ],
      "text/plain": [
       "     prov             kabkot                  kecamatan               code_prov\n",
       "1    ACEH             KAB. SIMEULUE           SIMEULUE BARAT          11       \n",
       "2    ACEH             KAB. SIMEULUE           SIMEULUE CUT            11       \n",
       "3    ACEH             KAB. SIMEULUE           SIMEULUE TENGAH         11       \n",
       "4    ACEH             KAB. SIMEULUE           ALAFAN                  11       \n",
       "5    ACEH             KAB. SIMEULUE           SALANG                  11       \n",
       "6    ACEH             KAB. SIMEULUE           TEUPAH BARAT            11       \n",
       "7    ACEH             KAB. SIMEULUE           TEUPAH TENGAH           11       \n",
       "8    ACEH             KAB. SIMEULUE           SIMEULUE TIMUR          11       \n",
       "9    ACEH             KAB. SIMEULUE           TELUK DALAM             11       \n",
       "10   ACEH             KAB. SIMEULUE           TEUPAH SELATAN          11       \n",
       "11   ACEH             KAB. BIREUEN            GANDA PURA              11       \n",
       "12   ACEH             KAB. BIREUEN            JANGKA                  11       \n",
       "13   ACEH             KAB. BIREUEN            PEUDADA                 11       \n",
       "14   ACEH             KAB. BIREUEN            PEULIMBANG              11       \n",
       "15   ACEH             KAB. BIREUEN            PEUSANGAN               11       \n",
       "16   ACEH             KAB. BIREUEN            PEUSANGAN SELATAN       11       \n",
       "17   ACEH             KAB. BIREUEN            PEUSANGAN SIBLAH KRUENG 11       \n",
       "18   ACEH             KAB. BIREUEN            JEUMPA                  11       \n",
       "19   ACEH             KAB. BIREUEN            JEUNIEB                 11       \n",
       "20   ACEH             KAB. BIREUEN            JULI                    11       \n",
       "21   ACEH             KAB. BIREUEN            KOTA JUANG              11       \n",
       "22   ACEH             KAB. BIREUEN            KUALA                   11       \n",
       "23   ACEH             KAB. BIREUEN            KUTA BLANG              11       \n",
       "24   ACEH             KAB. BIREUEN            MAKMUR                  11       \n",
       "25   ACEH             KAB. BIREUEN            PANDRAH                 11       \n",
       "26   ACEH             KAB. BIREUEN            SAMALANGA               11       \n",
       "27   ACEH             KAB. BIREUEN            SIMPANG MAMPLAM         11       \n",
       "28   ACEH             KAB. ACEH UTARA         KUTA MAKMUR             11       \n",
       "29   ACEH             KAB. ACEH UTARA         LANGKAHAN               11       \n",
       "30   ACEH             KAB. ACEH UTARA         MATANGKULI              11       \n",
       "⋮    ⋮                ⋮                       ⋮                       ⋮        \n",
       "7259 PAPUA PEGUNUNGAN KAB. PEGUNUNGAN BINTANG BATOM                   97       \n",
       "7260 PAPUA PEGUNUNGAN KAB. PEGUNUNGAN BINTANG BIME                    97       \n",
       "7261 PAPUA PEGUNUNGAN KAB. PEGUNUNGAN BINTANG BORME                   97       \n",
       "7262 PAPUA PEGUNUNGAN KAB. PEGUNUNGAN BINTANG EIPUMEK                 97       \n",
       "7263 PAPUA PEGUNUNGAN KAB. PEGUNUNGAN BINTANG IWUR                    97       \n",
       "7264 PAPUA PEGUNUNGAN KAB. PEGUNUNGAN BINTANG JETFA                   97       \n",
       "7265 PAPUA PEGUNUNGAN KAB. PEGUNUNGAN BINTANG KaLOMDOL                97       \n",
       "7266 PAPUA PEGUNUNGAN KAB. PEGUNUNGAN BINTANG KAWOR                   97       \n",
       "7267 PAPUA PEGUNUNGAN KAB. PEGUNUNGAN BINTANG KIWIROK                 97       \n",
       "7268 PAPUA PEGUNUNGAN KAB. PEGUNUNGAN BINTANG KIWIROK TIMUR           97       \n",
       "7269 PAPUA PEGUNUNGAN KAB. PEGUNUNGAN BINTANG MOFINOP                 97       \n",
       "7270 PAPUA PEGUNUNGAN KAB. PEGUNUNGAN BINTANG MURKIM                  97       \n",
       "7271 PAPUA PEGUNUNGAN KAB. PEGUNUNGAN BINTANG NONGME                  97       \n",
       "7272 PAPUA PEGUNUNGAN KAB. PEGUNUNGAN BINTANG OK AOM                  97       \n",
       "7273 PAPUA PEGUNUNGAN KAB. PEGUNUNGAN BINTANG OKBAB                   97       \n",
       "7274 PAPUA PEGUNUNGAN KAB. PEGUNUNGAN BINTANG OKBAPE                  97       \n",
       "7275 PAPUA PEGUNUNGAN KAB. PEGUNUNGAN BINTANG OKBEMTAU                97       \n",
       "7276 PAPUA PEGUNUNGAN KAB. PEGUNUNGAN BINTANG OKBIBAB                 97       \n",
       "7277 PAPUA PEGUNUNGAN KAB. PEGUNUNGAN BINTANG OKHIKA                  97       \n",
       "7278 PAPUA PEGUNUNGAN KAB. PEGUNUNGAN BINTANG OKLIP                   97       \n",
       "7279 PAPUA PEGUNUNGAN KAB. PEGUNUNGAN BINTANG OKSAMOL                 97       \n",
       "7280 PAPUA PEGUNUNGAN KAB. PEGUNUNGAN BINTANG OKSEBANG                97       \n",
       "7281 PAPUA PEGUNUNGAN KAB. PEGUNUNGAN BINTANG OKSIBIL                 97       \n",
       "7282 PAPUA PEGUNUNGAN KAB. PEGUNUNGAN BINTANG OKSOP                   97       \n",
       "7283 PAPUA PEGUNUNGAN KAB. PEGUNUNGAN BINTANG PAMEK                   97       \n",
       "7284 PAPUA PEGUNUNGAN KAB. PEGUNUNGAN BINTANG PEPERA                  97       \n",
       "7285 PAPUA PEGUNUNGAN KAB. PEGUNUNGAN BINTANG SERAMBAKON              97       \n",
       "7286 PAPUA PEGUNUNGAN KAB. PEGUNUNGAN BINTANG TARUP                   97       \n",
       "7287 PAPUA PEGUNUNGAN KAB. PEGUNUNGAN BINTANG TEIRAPLU                97       \n",
       "7288 PAPUA PEGUNUNGAN KAB. PEGUNUNGAN BINTANG WEIME                   97       \n",
       "     code_kab code_kec KPwDN             KPwDN_Code\n",
       "1     1        50      KPwDN Aceh         1        \n",
       "2     1        32      KPwDN Aceh         1        \n",
       "3     1        30      KPwDN Aceh         1        \n",
       "4     1        51      KPwDN Aceh         1        \n",
       "5     1        40      KPwDN Aceh         1        \n",
       "6     1        21      KPwDN Aceh         1        \n",
       "7     1        22      KPwDN Aceh         1        \n",
       "8     1        20      KPwDN Aceh         1        \n",
       "9     1        31      KPwDN Aceh         1        \n",
       "10    1        10      KPwDN Aceh         1        \n",
       "11   10       100      KPwDN Lhokseumawe 24        \n",
       "12   10        70      KPwDN Lhokseumawe 24        \n",
       "13   10        40      KPwDN Lhokseumawe 24        \n",
       "14   10        31      KPwDN Lhokseumawe 24        \n",
       "15   10        80      KPwDN Lhokseumawe 24        \n",
       "16   10        81      KPwDN Lhokseumawe 24        \n",
       "17   10        82      KPwDN Lhokseumawe 24        \n",
       "18   10        60      KPwDN Lhokseumawe 24        \n",
       "19   10        30      KPwDN Lhokseumawe 24        \n",
       "20   10        50      KPwDN Lhokseumawe 24        \n",
       "21   10        61      KPwDN Lhokseumawe 24        \n",
       "22   10        62      KPwDN Lhokseumawe 24        \n",
       "23   10       101      KPwDN Lhokseumawe 24        \n",
       "24   10        90      KPwDN Lhokseumawe 24        \n",
       "25   10        20      KPwDN Lhokseumawe 24        \n",
       "26   10        10      KPwDN Lhokseumawe 24        \n",
       "27   10        11      KPwDN Lhokseumawe 24        \n",
       "28   11        30      KPwDN Lhokseumawe 24        \n",
       "29   11        81      KPwDN Lhokseumawe 24        \n",
       "30   11        60      KPwDN Lhokseumawe 24        \n",
       "⋮    ⋮        ⋮        ⋮                 ⋮         \n",
       "7259 8        320      KPwDN Papua       30        \n",
       "7260 8        140      KPwDN Papua       30        \n",
       "7261 8        130      KPwDN Papua       30        \n",
       "7262 8        150      KPwDN Papua       30        \n",
       "7263 8         10      KPwDN Papua       30        \n",
       "7264 8        240      KPwDN Papua       30        \n",
       "7265 8         90      KPwDN Papua       30        \n",
       "7266 8         20      KPwDN Papua       30        \n",
       "7267 8        250      KPwDN Papua       30        \n",
       "7268 8        260      KPwDN Papua       30        \n",
       "7269 8        340      KPwDN Papua       30        \n",
       "7270 8        330      KPwDN Papua       30        \n",
       "7271 8        180      KPwDN Papua       30        \n",
       "7272 8        120      KPwDN Papua       30        \n",
       "7273 8        220      KPwDN Papua       30        \n",
       "7274 8        110      KPwDN Papua       30        \n",
       "7275 8        310      KPwDN Papua       30        \n",
       "7276 8        200      KPwDN Papua       30        \n",
       "7277 8        280      KPwDN Papua       30        \n",
       "7278 8        290      KPwDN Papua       30        \n",
       "7279 8        300      KPwDN Papua       30        \n",
       "7280 8        270      KPwDN Papua       30        \n",
       "7281 8         50      KPwDN Papua       30        \n",
       "7282 8        100      KPwDN Papua       30        \n",
       "7283 8        170      KPwDN Papua       30        \n",
       "7284 8         60      KPwDN Papua       30        \n",
       "7285 8         80      KPwDN Papua       30        \n",
       "7286 8         30      KPwDN Papua       30        \n",
       "7287 8        230      KPwDN Papua       30        \n",
       "7288 8        160      KPwDN Papua       30        "
      ]
     },
     "metadata": {},
     "output_type": "display_data"
    }
   ],
   "source": [
    "data2 <- dplyr::select(data2, c(prov, kabkot, kecamatan, code_prov, code_kab, code_kec, KPwDN, KPwDN_Code))\n",
    "data2"
   ]
  },
  {
   "cell_type": "code",
   "execution_count": 243,
   "id": "abaebc68",
   "metadata": {
    "vscode": {
     "languageId": "r"
    }
   },
   "outputs": [],
   "source": [
    "write.csv(data2, \"bpscode_kpwdn.csv\", row.names = FALSE)"
   ]
  },
  {
   "cell_type": "code",
   "execution_count": 2,
   "id": "428c2be0",
   "metadata": {
    "vscode": {
     "languageId": "r"
    }
   },
   "outputs": [
    {
     "data": {
      "text/html": [
       "<table class=\"dataframe\">\n",
       "<caption>A data.frame: 6 × 8</caption>\n",
       "<thead>\n",
       "\t<tr><th></th><th scope=col>prov</th><th scope=col>kabkot</th><th scope=col>kecamatan</th><th scope=col>code_prov</th><th scope=col>code_kab</th><th scope=col>code_kec</th><th scope=col>KPwDN</th><th scope=col>KPwDN_Code</th></tr>\n",
       "\t<tr><th></th><th scope=col>&lt;chr&gt;</th><th scope=col>&lt;chr&gt;</th><th scope=col>&lt;chr&gt;</th><th scope=col>&lt;int&gt;</th><th scope=col>&lt;int&gt;</th><th scope=col>&lt;int&gt;</th><th scope=col>&lt;chr&gt;</th><th scope=col>&lt;int&gt;</th></tr>\n",
       "</thead>\n",
       "<tbody>\n",
       "\t<tr><th scope=row>1</th><td>ACEH</td><td>KAB. SIMEULUE</td><td>SIMEULUE BARAT </td><td>11</td><td>1</td><td>50</td><td>KPwDN Aceh</td><td>1</td></tr>\n",
       "\t<tr><th scope=row>2</th><td>ACEH</td><td>KAB. SIMEULUE</td><td>SIMEULUE CUT   </td><td>11</td><td>1</td><td>32</td><td>KPwDN Aceh</td><td>1</td></tr>\n",
       "\t<tr><th scope=row>3</th><td>ACEH</td><td>KAB. SIMEULUE</td><td>SIMEULUE TENGAH</td><td>11</td><td>1</td><td>30</td><td>KPwDN Aceh</td><td>1</td></tr>\n",
       "\t<tr><th scope=row>4</th><td>ACEH</td><td>KAB. SIMEULUE</td><td>ALAFAN         </td><td>11</td><td>1</td><td>51</td><td>KPwDN Aceh</td><td>1</td></tr>\n",
       "\t<tr><th scope=row>5</th><td>ACEH</td><td>KAB. SIMEULUE</td><td>SALANG         </td><td>11</td><td>1</td><td>40</td><td>KPwDN Aceh</td><td>1</td></tr>\n",
       "\t<tr><th scope=row>6</th><td>ACEH</td><td>KAB. SIMEULUE</td><td>TEUPAH BARAT   </td><td>11</td><td>1</td><td>21</td><td>KPwDN Aceh</td><td>1</td></tr>\n",
       "</tbody>\n",
       "</table>\n"
      ],
      "text/latex": [
       "A data.frame: 6 × 8\n",
       "\\begin{tabular}{r|llllllll}\n",
       "  & prov & kabkot & kecamatan & code\\_prov & code\\_kab & code\\_kec & KPwDN & KPwDN\\_Code\\\\\n",
       "  & <chr> & <chr> & <chr> & <int> & <int> & <int> & <chr> & <int>\\\\\n",
       "\\hline\n",
       "\t1 & ACEH & KAB. SIMEULUE & SIMEULUE BARAT  & 11 & 1 & 50 & KPwDN Aceh & 1\\\\\n",
       "\t2 & ACEH & KAB. SIMEULUE & SIMEULUE CUT    & 11 & 1 & 32 & KPwDN Aceh & 1\\\\\n",
       "\t3 & ACEH & KAB. SIMEULUE & SIMEULUE TENGAH & 11 & 1 & 30 & KPwDN Aceh & 1\\\\\n",
       "\t4 & ACEH & KAB. SIMEULUE & ALAFAN          & 11 & 1 & 51 & KPwDN Aceh & 1\\\\\n",
       "\t5 & ACEH & KAB. SIMEULUE & SALANG          & 11 & 1 & 40 & KPwDN Aceh & 1\\\\\n",
       "\t6 & ACEH & KAB. SIMEULUE & TEUPAH BARAT    & 11 & 1 & 21 & KPwDN Aceh & 1\\\\\n",
       "\\end{tabular}\n"
      ],
      "text/markdown": [
       "\n",
       "A data.frame: 6 × 8\n",
       "\n",
       "| <!--/--> | prov &lt;chr&gt; | kabkot &lt;chr&gt; | kecamatan &lt;chr&gt; | code_prov &lt;int&gt; | code_kab &lt;int&gt; | code_kec &lt;int&gt; | KPwDN &lt;chr&gt; | KPwDN_Code &lt;int&gt; |\n",
       "|---|---|---|---|---|---|---|---|---|\n",
       "| 1 | ACEH | KAB. SIMEULUE | SIMEULUE BARAT  | 11 | 1 | 50 | KPwDN Aceh | 1 |\n",
       "| 2 | ACEH | KAB. SIMEULUE | SIMEULUE CUT    | 11 | 1 | 32 | KPwDN Aceh | 1 |\n",
       "| 3 | ACEH | KAB. SIMEULUE | SIMEULUE TENGAH | 11 | 1 | 30 | KPwDN Aceh | 1 |\n",
       "| 4 | ACEH | KAB. SIMEULUE | ALAFAN          | 11 | 1 | 51 | KPwDN Aceh | 1 |\n",
       "| 5 | ACEH | KAB. SIMEULUE | SALANG          | 11 | 1 | 40 | KPwDN Aceh | 1 |\n",
       "| 6 | ACEH | KAB. SIMEULUE | TEUPAH BARAT    | 11 | 1 | 21 | KPwDN Aceh | 1 |\n",
       "\n"
      ],
      "text/plain": [
       "  prov kabkot        kecamatan       code_prov code_kab code_kec KPwDN     \n",
       "1 ACEH KAB. SIMEULUE SIMEULUE BARAT  11        1        50       KPwDN Aceh\n",
       "2 ACEH KAB. SIMEULUE SIMEULUE CUT    11        1        32       KPwDN Aceh\n",
       "3 ACEH KAB. SIMEULUE SIMEULUE TENGAH 11        1        30       KPwDN Aceh\n",
       "4 ACEH KAB. SIMEULUE ALAFAN          11        1        51       KPwDN Aceh\n",
       "5 ACEH KAB. SIMEULUE SALANG          11        1        40       KPwDN Aceh\n",
       "6 ACEH KAB. SIMEULUE TEUPAH BARAT    11        1        21       KPwDN Aceh\n",
       "  KPwDN_Code\n",
       "1 1         \n",
       "2 1         \n",
       "3 1         \n",
       "4 1         \n",
       "5 1         \n",
       "6 1         "
      ]
     },
     "metadata": {},
     "output_type": "display_data"
    }
   ],
   "source": [
    "datav2  <- read.csv(\"bpscode_kpwdn.csv\")\n",
    "head(datav2)"
   ]
  },
  {
   "cell_type": "code",
   "execution_count": 3,
   "id": "170682ca",
   "metadata": {
    "vscode": {
     "languageId": "r"
    }
   },
   "outputs": [
    {
     "data": {
      "text/html": [
       "<table class=\"dataframe\">\n",
       "<caption>A data.frame: 6 × 8</caption>\n",
       "<thead>\n",
       "\t<tr><th></th><th scope=col>prov</th><th scope=col>kabkot</th><th scope=col>kecamatan</th><th scope=col>kelurahan_desa</th><th scope=col>code_prov</th><th scope=col>code_kab</th><th scope=col>code_kec</th><th scope=col>code_keldes</th></tr>\n",
       "\t<tr><th></th><th scope=col>&lt;chr&gt;</th><th scope=col>&lt;chr&gt;</th><th scope=col>&lt;chr&gt;</th><th scope=col>&lt;chr&gt;</th><th scope=col>&lt;int&gt;</th><th scope=col>&lt;int&gt;</th><th scope=col>&lt;int&gt;</th><th scope=col>&lt;int&gt;</th></tr>\n",
       "</thead>\n",
       "<tbody>\n",
       "\t<tr><th scope=row>1</th><td>ACEH</td><td>KAB. SIMEULUE</td><td>TEUPAH SELATAN</td><td>ALUS ALUS  </td><td>11</td><td>1</td><td>10</td><td>14</td></tr>\n",
       "\t<tr><th scope=row>2</th><td>ACEH</td><td>KAB. SIMEULUE</td><td>TEUPAH SELATAN</td><td>ANA AO     </td><td>11</td><td>1</td><td>10</td><td> 4</td></tr>\n",
       "\t<tr><th scope=row>3</th><td>ACEH</td><td>KAB. SIMEULUE</td><td>TEUPAH SELATAN</td><td>BADEGONG   </td><td>11</td><td>1</td><td>10</td><td> 7</td></tr>\n",
       "\t<tr><th scope=row>4</th><td>ACEH</td><td>KAB. SIMEULUE</td><td>TEUPAH SELATAN</td><td>BATU RALANG</td><td>11</td><td>1</td><td>10</td><td>13</td></tr>\n",
       "\t<tr><th scope=row>5</th><td>ACEH</td><td>KAB. SIMEULUE</td><td>TEUPAH SELATAN</td><td>BLANG SEBEL</td><td>11</td><td>1</td><td>10</td><td>16</td></tr>\n",
       "\t<tr><th scope=row>6</th><td>ACEH</td><td>KAB. SIMEULUE</td><td>TEUPAH SELATAN</td><td>KEBUN BARU </td><td>11</td><td>1</td><td>10</td><td> 8</td></tr>\n",
       "</tbody>\n",
       "</table>\n"
      ],
      "text/latex": [
       "A data.frame: 6 × 8\n",
       "\\begin{tabular}{r|llllllll}\n",
       "  & prov & kabkot & kecamatan & kelurahan\\_desa & code\\_prov & code\\_kab & code\\_kec & code\\_keldes\\\\\n",
       "  & <chr> & <chr> & <chr> & <chr> & <int> & <int> & <int> & <int>\\\\\n",
       "\\hline\n",
       "\t1 & ACEH & KAB. SIMEULUE & TEUPAH SELATAN & ALUS ALUS   & 11 & 1 & 10 & 14\\\\\n",
       "\t2 & ACEH & KAB. SIMEULUE & TEUPAH SELATAN & ANA AO      & 11 & 1 & 10 &  4\\\\\n",
       "\t3 & ACEH & KAB. SIMEULUE & TEUPAH SELATAN & BADEGONG    & 11 & 1 & 10 &  7\\\\\n",
       "\t4 & ACEH & KAB. SIMEULUE & TEUPAH SELATAN & BATU RALANG & 11 & 1 & 10 & 13\\\\\n",
       "\t5 & ACEH & KAB. SIMEULUE & TEUPAH SELATAN & BLANG SEBEL & 11 & 1 & 10 & 16\\\\\n",
       "\t6 & ACEH & KAB. SIMEULUE & TEUPAH SELATAN & KEBUN BARU  & 11 & 1 & 10 &  8\\\\\n",
       "\\end{tabular}\n"
      ],
      "text/markdown": [
       "\n",
       "A data.frame: 6 × 8\n",
       "\n",
       "| <!--/--> | prov &lt;chr&gt; | kabkot &lt;chr&gt; | kecamatan &lt;chr&gt; | kelurahan_desa &lt;chr&gt; | code_prov &lt;int&gt; | code_kab &lt;int&gt; | code_kec &lt;int&gt; | code_keldes &lt;int&gt; |\n",
       "|---|---|---|---|---|---|---|---|---|\n",
       "| 1 | ACEH | KAB. SIMEULUE | TEUPAH SELATAN | ALUS ALUS   | 11 | 1 | 10 | 14 |\n",
       "| 2 | ACEH | KAB. SIMEULUE | TEUPAH SELATAN | ANA AO      | 11 | 1 | 10 |  4 |\n",
       "| 3 | ACEH | KAB. SIMEULUE | TEUPAH SELATAN | BADEGONG    | 11 | 1 | 10 |  7 |\n",
       "| 4 | ACEH | KAB. SIMEULUE | TEUPAH SELATAN | BATU RALANG | 11 | 1 | 10 | 13 |\n",
       "| 5 | ACEH | KAB. SIMEULUE | TEUPAH SELATAN | BLANG SEBEL | 11 | 1 | 10 | 16 |\n",
       "| 6 | ACEH | KAB. SIMEULUE | TEUPAH SELATAN | KEBUN BARU  | 11 | 1 | 10 |  8 |\n",
       "\n"
      ],
      "text/plain": [
       "  prov kabkot        kecamatan      kelurahan_desa code_prov code_kab code_kec\n",
       "1 ACEH KAB. SIMEULUE TEUPAH SELATAN ALUS ALUS      11        1        10      \n",
       "2 ACEH KAB. SIMEULUE TEUPAH SELATAN ANA AO         11        1        10      \n",
       "3 ACEH KAB. SIMEULUE TEUPAH SELATAN BADEGONG       11        1        10      \n",
       "4 ACEH KAB. SIMEULUE TEUPAH SELATAN BATU RALANG    11        1        10      \n",
       "5 ACEH KAB. SIMEULUE TEUPAH SELATAN BLANG SEBEL    11        1        10      \n",
       "6 ACEH KAB. SIMEULUE TEUPAH SELATAN KEBUN BARU     11        1        10      \n",
       "  code_keldes\n",
       "1 14         \n",
       "2  4         \n",
       "3  7         \n",
       "4 13         \n",
       "5 16         \n",
       "6  8         "
      ]
     },
     "metadata": {},
     "output_type": "display_data"
    }
   ],
   "source": [
    "# import bpscode2\n",
    "databps2 <- read.csv(\"bpscode2.csv\")\n",
    "head(databps2)"
   ]
  },
  {
   "cell_type": "code",
   "execution_count": 6,
   "id": "b5501ce2",
   "metadata": {
    "vscode": {
     "languageId": "r"
    }
   },
   "outputs": [
    {
     "data": {
      "text/html": [
       "<table class=\"dataframe\">\n",
       "<caption>A data.frame: 6 × 10</caption>\n",
       "<thead>\n",
       "\t<tr><th></th><th scope=col>prov</th><th scope=col>kabkot</th><th scope=col>kecamatan</th><th scope=col>kelurahan_desa</th><th scope=col>KPwDN</th><th scope=col>code_prov</th><th scope=col>code_kab</th><th scope=col>code_kec</th><th scope=col>code_keldes</th><th scope=col>KPwDN_Code</th></tr>\n",
       "\t<tr><th></th><th scope=col>&lt;chr&gt;</th><th scope=col>&lt;chr&gt;</th><th scope=col>&lt;chr&gt;</th><th scope=col>&lt;chr&gt;</th><th scope=col>&lt;chr&gt;</th><th scope=col>&lt;int&gt;</th><th scope=col>&lt;int&gt;</th><th scope=col>&lt;int&gt;</th><th scope=col>&lt;int&gt;</th><th scope=col>&lt;int&gt;</th></tr>\n",
       "</thead>\n",
       "<tbody>\n",
       "\t<tr><th scope=row>1</th><td>ACEH</td><td>KAB. SIMEULUE</td><td>TEUPAH SELATAN</td><td>ALUS ALUS  </td><td>KPwDN Aceh</td><td>11</td><td>1</td><td>10</td><td>14</td><td>1</td></tr>\n",
       "\t<tr><th scope=row>2</th><td>ACEH</td><td>KAB. SIMEULUE</td><td>TEUPAH SELATAN</td><td>ANA AO     </td><td>KPwDN Aceh</td><td>11</td><td>1</td><td>10</td><td> 4</td><td>1</td></tr>\n",
       "\t<tr><th scope=row>3</th><td>ACEH</td><td>KAB. SIMEULUE</td><td>TEUPAH SELATAN</td><td>BADEGONG   </td><td>KPwDN Aceh</td><td>11</td><td>1</td><td>10</td><td> 7</td><td>1</td></tr>\n",
       "\t<tr><th scope=row>4</th><td>ACEH</td><td>KAB. SIMEULUE</td><td>TEUPAH SELATAN</td><td>BATU RALANG</td><td>KPwDN Aceh</td><td>11</td><td>1</td><td>10</td><td>13</td><td>1</td></tr>\n",
       "\t<tr><th scope=row>5</th><td>ACEH</td><td>KAB. SIMEULUE</td><td>TEUPAH SELATAN</td><td>BLANG SEBEL</td><td>KPwDN Aceh</td><td>11</td><td>1</td><td>10</td><td>16</td><td>1</td></tr>\n",
       "\t<tr><th scope=row>6</th><td>ACEH</td><td>KAB. SIMEULUE</td><td>TEUPAH SELATAN</td><td>KEBUN BARU </td><td>KPwDN Aceh</td><td>11</td><td>1</td><td>10</td><td> 8</td><td>1</td></tr>\n",
       "</tbody>\n",
       "</table>\n"
      ],
      "text/latex": [
       "A data.frame: 6 × 10\n",
       "\\begin{tabular}{r|llllllllll}\n",
       "  & prov & kabkot & kecamatan & kelurahan\\_desa & KPwDN & code\\_prov & code\\_kab & code\\_kec & code\\_keldes & KPwDN\\_Code\\\\\n",
       "  & <chr> & <chr> & <chr> & <chr> & <chr> & <int> & <int> & <int> & <int> & <int>\\\\\n",
       "\\hline\n",
       "\t1 & ACEH & KAB. SIMEULUE & TEUPAH SELATAN & ALUS ALUS   & KPwDN Aceh & 11 & 1 & 10 & 14 & 1\\\\\n",
       "\t2 & ACEH & KAB. SIMEULUE & TEUPAH SELATAN & ANA AO      & KPwDN Aceh & 11 & 1 & 10 &  4 & 1\\\\\n",
       "\t3 & ACEH & KAB. SIMEULUE & TEUPAH SELATAN & BADEGONG    & KPwDN Aceh & 11 & 1 & 10 &  7 & 1\\\\\n",
       "\t4 & ACEH & KAB. SIMEULUE & TEUPAH SELATAN & BATU RALANG & KPwDN Aceh & 11 & 1 & 10 & 13 & 1\\\\\n",
       "\t5 & ACEH & KAB. SIMEULUE & TEUPAH SELATAN & BLANG SEBEL & KPwDN Aceh & 11 & 1 & 10 & 16 & 1\\\\\n",
       "\t6 & ACEH & KAB. SIMEULUE & TEUPAH SELATAN & KEBUN BARU  & KPwDN Aceh & 11 & 1 & 10 &  8 & 1\\\\\n",
       "\\end{tabular}\n"
      ],
      "text/markdown": [
       "\n",
       "A data.frame: 6 × 10\n",
       "\n",
       "| <!--/--> | prov &lt;chr&gt; | kabkot &lt;chr&gt; | kecamatan &lt;chr&gt; | kelurahan_desa &lt;chr&gt; | KPwDN &lt;chr&gt; | code_prov &lt;int&gt; | code_kab &lt;int&gt; | code_kec &lt;int&gt; | code_keldes &lt;int&gt; | KPwDN_Code &lt;int&gt; |\n",
       "|---|---|---|---|---|---|---|---|---|---|---|\n",
       "| 1 | ACEH | KAB. SIMEULUE | TEUPAH SELATAN | ALUS ALUS   | KPwDN Aceh | 11 | 1 | 10 | 14 | 1 |\n",
       "| 2 | ACEH | KAB. SIMEULUE | TEUPAH SELATAN | ANA AO      | KPwDN Aceh | 11 | 1 | 10 |  4 | 1 |\n",
       "| 3 | ACEH | KAB. SIMEULUE | TEUPAH SELATAN | BADEGONG    | KPwDN Aceh | 11 | 1 | 10 |  7 | 1 |\n",
       "| 4 | ACEH | KAB. SIMEULUE | TEUPAH SELATAN | BATU RALANG | KPwDN Aceh | 11 | 1 | 10 | 13 | 1 |\n",
       "| 5 | ACEH | KAB. SIMEULUE | TEUPAH SELATAN | BLANG SEBEL | KPwDN Aceh | 11 | 1 | 10 | 16 | 1 |\n",
       "| 6 | ACEH | KAB. SIMEULUE | TEUPAH SELATAN | KEBUN BARU  | KPwDN Aceh | 11 | 1 | 10 |  8 | 1 |\n",
       "\n"
      ],
      "text/plain": [
       "  prov kabkot        kecamatan      kelurahan_desa KPwDN      code_prov\n",
       "1 ACEH KAB. SIMEULUE TEUPAH SELATAN ALUS ALUS      KPwDN Aceh 11       \n",
       "2 ACEH KAB. SIMEULUE TEUPAH SELATAN ANA AO         KPwDN Aceh 11       \n",
       "3 ACEH KAB. SIMEULUE TEUPAH SELATAN BADEGONG       KPwDN Aceh 11       \n",
       "4 ACEH KAB. SIMEULUE TEUPAH SELATAN BATU RALANG    KPwDN Aceh 11       \n",
       "5 ACEH KAB. SIMEULUE TEUPAH SELATAN BLANG SEBEL    KPwDN Aceh 11       \n",
       "6 ACEH KAB. SIMEULUE TEUPAH SELATAN KEBUN BARU     KPwDN Aceh 11       \n",
       "  code_kab code_kec code_keldes KPwDN_Code\n",
       "1 1        10       14          1         \n",
       "2 1        10        4          1         \n",
       "3 1        10        7          1         \n",
       "4 1        10       13          1         \n",
       "5 1        10       16          1         \n",
       "6 1        10        8          1         "
      ]
     },
     "metadata": {},
     "output_type": "display_data"
    },
    {
     "data": {
      "text/html": [
       "84210"
      ],
      "text/latex": [
       "84210"
      ],
      "text/markdown": [
       "84210"
      ],
      "text/plain": [
       "[1] 84210"
      ]
     },
     "metadata": {},
     "output_type": "display_data"
    }
   ],
   "source": [
    "# merge by code_prov, code_kab, code_kec\n",
    "databpskpw2 <- merge(databps2, datav2, by = c(\"code_prov\", \"code_kab\", \"code_kec\"), all.x = TRUE)\n",
    "# delet prov.x\tkabkot.x\tkecamatan.x\n",
    "databpskpw2 <- dplyr::select(databpskpw2, -c(prov.x, kabkot.x, kecamatan.x))\n",
    "# rename prov.y, kabkot.y, kecamatan.y to prov, kabkot, kecamatan\n",
    "colnames(databpskpw2)[colnames(databpskpw2) == \"prov.y\"] <- \"prov\"\n",
    "colnames(databpskpw2)[colnames(databpskpw2) == \"kabkot.y\"] <- \"kabkot\"\n",
    "colnames(databpskpw2)[colnames(databpskpw2) == \"kecamatan.y\"] <- \"kecamatan\"\n",
    "# rearrange columns\n",
    "databpskpw2 <- databpskpw2[, c(\"prov\", \"kabkot\", \"kecamatan\", \"kelurahan_desa\", \"KPwDN\", \n",
    "                                \"code_prov\", \"code_kab\", \"code_kec\", \"code_keldes\", \"KPwDN_Code\")]\n",
    "head(databpskpw2)\n",
    "nrow(databpskpw2)                                "
   ]
  },
  {
   "cell_type": "code",
   "execution_count": null,
   "id": "50270bb9",
   "metadata": {
    "vscode": {
     "languageId": "r"
    }
   },
   "outputs": [],
   "source": [
    "write.csv(databpskpw2, \"databpskpw2.csv\", row.names = FALSE)"
   ]
  }
 ],
 "metadata": {
  "kernelspec": {
   "display_name": "R",
   "language": "R",
   "name": "ir"
  },
  "language_info": {
   "codemirror_mode": "r",
   "file_extension": ".r",
   "mimetype": "text/x-r-source",
   "name": "R",
   "pygments_lexer": "r",
   "version": "4.4.2"
  }
 },
 "nbformat": 4,
 "nbformat_minor": 5
}
