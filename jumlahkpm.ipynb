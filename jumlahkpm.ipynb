{
 "cells": [
  {
   "cell_type": "code",
   "execution_count": 1,
   "id": "c0384ccf",
   "metadata": {
    "vscode": {
     "languageId": "r"
    }
   },
   "outputs": [
    {
     "data": {
      "text/html": [
       "<table class=\"dataframe\">\n",
       "<caption>A tibble: 6 × 5</caption>\n",
       "<thead>\n",
       "\t<tr><th scope=col>prov</th><th scope=col>kabkot</th><th scope=col>jenis</th><th scope=col>bank</th><th scope=col>nps</th></tr>\n",
       "\t<tr><th scope=col>&lt;chr&gt;</th><th scope=col>&lt;chr&gt;</th><th scope=col>&lt;chr&gt;</th><th scope=col>&lt;chr&gt;</th><th scope=col>&lt;dbl&gt;</th></tr>\n",
       "</thead>\n",
       "<tbody>\n",
       "\t<tr><td>ACEH</td><td>ACEH BARAT     </td><td>NON TUNAI</td><td>BSI</td><td>16426</td></tr>\n",
       "\t<tr><td>ACEH</td><td>ACEH BARAT DAYA</td><td>NON TUNAI</td><td>BSI</td><td>17209</td></tr>\n",
       "\t<tr><td>ACEH</td><td>ACEH BESAR     </td><td>NON TUNAI</td><td>BSI</td><td>35651</td></tr>\n",
       "\t<tr><td>ACEH</td><td>ACEH JAYA      </td><td>NON TUNAI</td><td>BSI</td><td> 7874</td></tr>\n",
       "\t<tr><td>ACEH</td><td>ACEH SELATAN   </td><td>NON TUNAI</td><td>BSI</td><td>22667</td></tr>\n",
       "\t<tr><td>ACEH</td><td>ACEH SINGKIL   </td><td>NON TUNAI</td><td>BSI</td><td>12247</td></tr>\n",
       "</tbody>\n",
       "</table>\n"
      ],
      "text/latex": [
       "A tibble: 6 × 5\n",
       "\\begin{tabular}{lllll}\n",
       " prov & kabkot & jenis & bank & nps\\\\\n",
       " <chr> & <chr> & <chr> & <chr> & <dbl>\\\\\n",
       "\\hline\n",
       "\t ACEH & ACEH BARAT      & NON TUNAI & BSI & 16426\\\\\n",
       "\t ACEH & ACEH BARAT DAYA & NON TUNAI & BSI & 17209\\\\\n",
       "\t ACEH & ACEH BESAR      & NON TUNAI & BSI & 35651\\\\\n",
       "\t ACEH & ACEH JAYA       & NON TUNAI & BSI &  7874\\\\\n",
       "\t ACEH & ACEH SELATAN    & NON TUNAI & BSI & 22667\\\\\n",
       "\t ACEH & ACEH SINGKIL    & NON TUNAI & BSI & 12247\\\\\n",
       "\\end{tabular}\n"
      ],
      "text/markdown": [
       "\n",
       "A tibble: 6 × 5\n",
       "\n",
       "| prov &lt;chr&gt; | kabkot &lt;chr&gt; | jenis &lt;chr&gt; | bank &lt;chr&gt; | nps &lt;dbl&gt; |\n",
       "|---|---|---|---|---|\n",
       "| ACEH | ACEH BARAT      | NON TUNAI | BSI | 16426 |\n",
       "| ACEH | ACEH BARAT DAYA | NON TUNAI | BSI | 17209 |\n",
       "| ACEH | ACEH BESAR      | NON TUNAI | BSI | 35651 |\n",
       "| ACEH | ACEH JAYA       | NON TUNAI | BSI |  7874 |\n",
       "| ACEH | ACEH SELATAN    | NON TUNAI | BSI | 22667 |\n",
       "| ACEH | ACEH SINGKIL    | NON TUNAI | BSI | 12247 |\n",
       "\n"
      ],
      "text/plain": [
       "  prov kabkot          jenis     bank nps  \n",
       "1 ACEH ACEH BARAT      NON TUNAI BSI  16426\n",
       "2 ACEH ACEH BARAT DAYA NON TUNAI BSI  17209\n",
       "3 ACEH ACEH BESAR      NON TUNAI BSI  35651\n",
       "4 ACEH ACEH JAYA       NON TUNAI BSI   7874\n",
       "5 ACEH ACEH SELATAN    NON TUNAI BSI  22667\n",
       "6 ACEH ACEH SINGKIL    NON TUNAI BSI  12247"
      ]
     },
     "metadata": {},
     "output_type": "display_data"
    },
    {
     "data": {
      "text/html": [
       "15277044"
      ],
      "text/latex": [
       "15277044"
      ],
      "text/markdown": [
       "15277044"
      ],
      "text/plain": [
       "[1] 15277044"
      ]
     },
     "metadata": {},
     "output_type": "display_data"
    }
   ],
   "source": [
    "library(readxl)\n",
    "# Load the Excel file\n",
    "ps <- read_excel(\"jumlahkpm2025.xlsx\", sheet = 1)\n",
    "# Filer jenis == NON TUNAI\n",
    "ps <- ps[ps$jenis == \"NON TUNAI\", ]\n",
    "# Display the first few rows of the filtered data\n",
    "head(ps)\n",
    "sum(ps$nps)"
   ]
  },
  {
   "cell_type": "code",
   "execution_count": 2,
   "id": "4c85312e",
   "metadata": {
    "vscode": {
     "languageId": "r"
    }
   },
   "outputs": [
    {
     "data": {
      "text/html": [
       "<table class=\"dataframe\">\n",
       "<caption>A tibble: 6 × 5</caption>\n",
       "<thead>\n",
       "\t<tr><th scope=col>prov</th><th scope=col>kabkot</th><th scope=col>bank</th><th scope=col>nkpm</th><th scope=col>jenis</th></tr>\n",
       "\t<tr><th scope=col>&lt;chr&gt;</th><th scope=col>&lt;chr&gt;</th><th scope=col>&lt;chr&gt;</th><th scope=col>&lt;dbl&gt;</th><th scope=col>&lt;chr&gt;</th></tr>\n",
       "</thead>\n",
       "<tbody>\n",
       "\t<tr><td>ACEH</td><td>ACEH BARAT     </td><td>BSI</td><td>11293</td><td>NON TUNAI</td></tr>\n",
       "\t<tr><td>ACEH</td><td>ACEH BARAT DAYA</td><td>BSI</td><td> 9792</td><td>NON TUNAI</td></tr>\n",
       "\t<tr><td>ACEH</td><td>ACEH BESAR     </td><td>BSI</td><td>22795</td><td>NON TUNAI</td></tr>\n",
       "\t<tr><td>ACEH</td><td>ACEH JAYA      </td><td>BSI</td><td> 5471</td><td>NON TUNAI</td></tr>\n",
       "\t<tr><td>ACEH</td><td>ACEH SELATAN   </td><td>BSI</td><td>12050</td><td>NON TUNAI</td></tr>\n",
       "\t<tr><td>ACEH</td><td>ACEH SINGKIL   </td><td>BSI</td><td> 8648</td><td>NON TUNAI</td></tr>\n",
       "</tbody>\n",
       "</table>\n"
      ],
      "text/latex": [
       "A tibble: 6 × 5\n",
       "\\begin{tabular}{lllll}\n",
       " prov & kabkot & bank & nkpm & jenis\\\\\n",
       " <chr> & <chr> & <chr> & <dbl> & <chr>\\\\\n",
       "\\hline\n",
       "\t ACEH & ACEH BARAT      & BSI & 11293 & NON TUNAI\\\\\n",
       "\t ACEH & ACEH BARAT DAYA & BSI &  9792 & NON TUNAI\\\\\n",
       "\t ACEH & ACEH BESAR      & BSI & 22795 & NON TUNAI\\\\\n",
       "\t ACEH & ACEH JAYA       & BSI &  5471 & NON TUNAI\\\\\n",
       "\t ACEH & ACEH SELATAN    & BSI & 12050 & NON TUNAI\\\\\n",
       "\t ACEH & ACEH SINGKIL    & BSI &  8648 & NON TUNAI\\\\\n",
       "\\end{tabular}\n"
      ],
      "text/markdown": [
       "\n",
       "A tibble: 6 × 5\n",
       "\n",
       "| prov &lt;chr&gt; | kabkot &lt;chr&gt; | bank &lt;chr&gt; | nkpm &lt;dbl&gt; | jenis &lt;chr&gt; |\n",
       "|---|---|---|---|---|\n",
       "| ACEH | ACEH BARAT      | BSI | 11293 | NON TUNAI |\n",
       "| ACEH | ACEH BARAT DAYA | BSI |  9792 | NON TUNAI |\n",
       "| ACEH | ACEH BESAR      | BSI | 22795 | NON TUNAI |\n",
       "| ACEH | ACEH JAYA       | BSI |  5471 | NON TUNAI |\n",
       "| ACEH | ACEH SELATAN    | BSI | 12050 | NON TUNAI |\n",
       "| ACEH | ACEH SINGKIL    | BSI |  8648 | NON TUNAI |\n",
       "\n"
      ],
      "text/plain": [
       "  prov kabkot          bank nkpm  jenis    \n",
       "1 ACEH ACEH BARAT      BSI  11293 NON TUNAI\n",
       "2 ACEH ACEH BARAT DAYA BSI   9792 NON TUNAI\n",
       "3 ACEH ACEH BESAR      BSI  22795 NON TUNAI\n",
       "4 ACEH ACEH JAYA       BSI   5471 NON TUNAI\n",
       "5 ACEH ACEH SELATAN    BSI  12050 NON TUNAI\n",
       "6 ACEH ACEH SINGKIL    BSI   8648 NON TUNAI"
      ]
     },
     "metadata": {},
     "output_type": "display_data"
    },
    {
     "data": {
      "text/html": [
       "8207067"
      ],
      "text/latex": [
       "8207067"
      ],
      "text/markdown": [
       "8207067"
      ],
      "text/plain": [
       "[1] 8207067"
      ]
     },
     "metadata": {},
     "output_type": "display_data"
    }
   ],
   "source": [
    "library(readxl)\n",
    "# Load the Excel file\n",
    "pkh <- read_excel(\"jumlahkpm2025.xlsx\", sheet = 2)\n",
    "# Filer jenis == NON TUNAI\n",
    "pkh <- pkh[pkh$jenis == \"NON TUNAI\", ]\n",
    "# Display the first few rows of the filtered data\n",
    "head(pkh)\n",
    "sum(pkh$nkpm)"
   ]
  },
  {
   "cell_type": "code",
   "execution_count": 3,
   "id": "1e85a9e6",
   "metadata": {
    "vscode": {
     "languageId": "r"
    }
   },
   "outputs": [
    {
     "data": {
      "text/html": [
       "<table class=\"dataframe\">\n",
       "<caption>A data.frame: 6 × 8</caption>\n",
       "<thead>\n",
       "\t<tr><th></th><th scope=col>prov</th><th scope=col>kabkot</th><th scope=col>kecamatan</th><th scope=col>code_prov</th><th scope=col>code_kab</th><th scope=col>code_kec</th><th scope=col>KPwDN</th><th scope=col>KPwDN_Code</th></tr>\n",
       "\t<tr><th></th><th scope=col>&lt;chr&gt;</th><th scope=col>&lt;chr&gt;</th><th scope=col>&lt;chr&gt;</th><th scope=col>&lt;int&gt;</th><th scope=col>&lt;int&gt;</th><th scope=col>&lt;int&gt;</th><th scope=col>&lt;chr&gt;</th><th scope=col>&lt;int&gt;</th></tr>\n",
       "</thead>\n",
       "<tbody>\n",
       "\t<tr><th scope=row>1</th><td>ACEH</td><td>SIMEULUE</td><td>SIMEULUE BARAT </td><td>11</td><td>1</td><td>50</td><td>KPwDN Aceh</td><td>1</td></tr>\n",
       "\t<tr><th scope=row>2</th><td>ACEH</td><td>SIMEULUE</td><td>SIMEULUE CUT   </td><td>11</td><td>1</td><td>32</td><td>KPwDN Aceh</td><td>1</td></tr>\n",
       "\t<tr><th scope=row>3</th><td>ACEH</td><td>SIMEULUE</td><td>SIMEULUE TENGAH</td><td>11</td><td>1</td><td>30</td><td>KPwDN Aceh</td><td>1</td></tr>\n",
       "\t<tr><th scope=row>4</th><td>ACEH</td><td>SIMEULUE</td><td>ALAFAN         </td><td>11</td><td>1</td><td>51</td><td>KPwDN Aceh</td><td>1</td></tr>\n",
       "\t<tr><th scope=row>5</th><td>ACEH</td><td>SIMEULUE</td><td>SALANG         </td><td>11</td><td>1</td><td>40</td><td>KPwDN Aceh</td><td>1</td></tr>\n",
       "\t<tr><th scope=row>6</th><td>ACEH</td><td>SIMEULUE</td><td>TEUPAH BARAT   </td><td>11</td><td>1</td><td>21</td><td>KPwDN Aceh</td><td>1</td></tr>\n",
       "</tbody>\n",
       "</table>\n"
      ],
      "text/latex": [
       "A data.frame: 6 × 8\n",
       "\\begin{tabular}{r|llllllll}\n",
       "  & prov & kabkot & kecamatan & code\\_prov & code\\_kab & code\\_kec & KPwDN & KPwDN\\_Code\\\\\n",
       "  & <chr> & <chr> & <chr> & <int> & <int> & <int> & <chr> & <int>\\\\\n",
       "\\hline\n",
       "\t1 & ACEH & SIMEULUE & SIMEULUE BARAT  & 11 & 1 & 50 & KPwDN Aceh & 1\\\\\n",
       "\t2 & ACEH & SIMEULUE & SIMEULUE CUT    & 11 & 1 & 32 & KPwDN Aceh & 1\\\\\n",
       "\t3 & ACEH & SIMEULUE & SIMEULUE TENGAH & 11 & 1 & 30 & KPwDN Aceh & 1\\\\\n",
       "\t4 & ACEH & SIMEULUE & ALAFAN          & 11 & 1 & 51 & KPwDN Aceh & 1\\\\\n",
       "\t5 & ACEH & SIMEULUE & SALANG          & 11 & 1 & 40 & KPwDN Aceh & 1\\\\\n",
       "\t6 & ACEH & SIMEULUE & TEUPAH BARAT    & 11 & 1 & 21 & KPwDN Aceh & 1\\\\\n",
       "\\end{tabular}\n"
      ],
      "text/markdown": [
       "\n",
       "A data.frame: 6 × 8\n",
       "\n",
       "| <!--/--> | prov &lt;chr&gt; | kabkot &lt;chr&gt; | kecamatan &lt;chr&gt; | code_prov &lt;int&gt; | code_kab &lt;int&gt; | code_kec &lt;int&gt; | KPwDN &lt;chr&gt; | KPwDN_Code &lt;int&gt; |\n",
       "|---|---|---|---|---|---|---|---|---|\n",
       "| 1 | ACEH | SIMEULUE | SIMEULUE BARAT  | 11 | 1 | 50 | KPwDN Aceh | 1 |\n",
       "| 2 | ACEH | SIMEULUE | SIMEULUE CUT    | 11 | 1 | 32 | KPwDN Aceh | 1 |\n",
       "| 3 | ACEH | SIMEULUE | SIMEULUE TENGAH | 11 | 1 | 30 | KPwDN Aceh | 1 |\n",
       "| 4 | ACEH | SIMEULUE | ALAFAN          | 11 | 1 | 51 | KPwDN Aceh | 1 |\n",
       "| 5 | ACEH | SIMEULUE | SALANG          | 11 | 1 | 40 | KPwDN Aceh | 1 |\n",
       "| 6 | ACEH | SIMEULUE | TEUPAH BARAT    | 11 | 1 | 21 | KPwDN Aceh | 1 |\n",
       "\n"
      ],
      "text/plain": [
       "  prov kabkot   kecamatan       code_prov code_kab code_kec KPwDN     \n",
       "1 ACEH SIMEULUE SIMEULUE BARAT  11        1        50       KPwDN Aceh\n",
       "2 ACEH SIMEULUE SIMEULUE CUT    11        1        32       KPwDN Aceh\n",
       "3 ACEH SIMEULUE SIMEULUE TENGAH 11        1        30       KPwDN Aceh\n",
       "4 ACEH SIMEULUE ALAFAN          11        1        51       KPwDN Aceh\n",
       "5 ACEH SIMEULUE SALANG          11        1        40       KPwDN Aceh\n",
       "6 ACEH SIMEULUE TEUPAH BARAT    11        1        21       KPwDN Aceh\n",
       "  KPwDN_Code\n",
       "1 1         \n",
       "2 1         \n",
       "3 1         \n",
       "4 1         \n",
       "5 1         \n",
       "6 1         "
      ]
     },
     "metadata": {},
     "output_type": "display_data"
    }
   ],
   "source": [
    "bpskpwdn <- read.csv(\"bpscode_kpwdn.csv\")\n",
    "\n",
    "# Delet KAB. in kabkot\n",
    "bpskpwdn$kabkot <- gsub(\"KAB. \", \"\", bpskpwdn$kabkot)\n",
    "head(bpskpwdn)"
   ]
  },
  {
   "cell_type": "code",
   "execution_count": 4,
   "id": "9b15d39b",
   "metadata": {
    "vscode": {
     "languageId": "r"
    }
   },
   "outputs": [
    {
     "data": {
      "text/html": [
       "<table class=\"dataframe\">\n",
       "<caption>A data.frame: 6 × 8</caption>\n",
       "<thead>\n",
       "\t<tr><th></th><th scope=col>prov</th><th scope=col>kabkot</th><th scope=col>kecamatan</th><th scope=col>code_prov</th><th scope=col>code_kab</th><th scope=col>code_kec</th><th scope=col>KPwDN</th><th scope=col>KPwDN_Code</th></tr>\n",
       "\t<tr><th></th><th scope=col>&lt;chr&gt;</th><th scope=col>&lt;chr&gt;</th><th scope=col>&lt;chr&gt;</th><th scope=col>&lt;int&gt;</th><th scope=col>&lt;int&gt;</th><th scope=col>&lt;int&gt;</th><th scope=col>&lt;chr&gt;</th><th scope=col>&lt;int&gt;</th></tr>\n",
       "</thead>\n",
       "<tbody>\n",
       "\t<tr><th scope=row>1</th><td>ACEH</td><td>SIMEULUE       </td><td>SIMEULUE BARAT</td><td>11</td><td> 1</td><td> 50</td><td>KPwDN Aceh       </td><td> 1</td></tr>\n",
       "\t<tr><th scope=row>11</th><td>ACEH</td><td>BIREUEN        </td><td>GANDA PURA    </td><td>11</td><td>10</td><td>100</td><td>KPwDN Lhokseumawe</td><td>24</td></tr>\n",
       "\t<tr><th scope=row>28</th><td>ACEH</td><td>ACEH UTARA     </td><td>KUTA MAKMUR   </td><td>11</td><td>11</td><td> 30</td><td>KPwDN Lhokseumawe</td><td>24</td></tr>\n",
       "\t<tr><th scope=row>55</th><td>ACEH</td><td>ACEH BARAT DAYA</td><td>BLANG PIDIE   </td><td>11</td><td>12</td><td> 30</td><td>KPwDN Aceh       </td><td> 1</td></tr>\n",
       "\t<tr><th scope=row>64</th><td>ACEH</td><td>GAYO LUES      </td><td>BLANG PEGAYON </td><td>11</td><td>13</td><td> 23</td><td>KPwDN Lhokseumawe</td><td>24</td></tr>\n",
       "\t<tr><th scope=row>75</th><td>ACEH</td><td>ACEH TAMIANG   </td><td>MANYAK PAYED  </td><td>11</td><td>14</td><td> 80</td><td>KPwDN Lhokseumawe</td><td>24</td></tr>\n",
       "</tbody>\n",
       "</table>\n"
      ],
      "text/latex": [
       "A data.frame: 6 × 8\n",
       "\\begin{tabular}{r|llllllll}\n",
       "  & prov & kabkot & kecamatan & code\\_prov & code\\_kab & code\\_kec & KPwDN & KPwDN\\_Code\\\\\n",
       "  & <chr> & <chr> & <chr> & <int> & <int> & <int> & <chr> & <int>\\\\\n",
       "\\hline\n",
       "\t1 & ACEH & SIMEULUE        & SIMEULUE BARAT & 11 &  1 &  50 & KPwDN Aceh        &  1\\\\\n",
       "\t11 & ACEH & BIREUEN         & GANDA PURA     & 11 & 10 & 100 & KPwDN Lhokseumawe & 24\\\\\n",
       "\t28 & ACEH & ACEH UTARA      & KUTA MAKMUR    & 11 & 11 &  30 & KPwDN Lhokseumawe & 24\\\\\n",
       "\t55 & ACEH & ACEH BARAT DAYA & BLANG PIDIE    & 11 & 12 &  30 & KPwDN Aceh        &  1\\\\\n",
       "\t64 & ACEH & GAYO LUES       & BLANG PEGAYON  & 11 & 13 &  23 & KPwDN Lhokseumawe & 24\\\\\n",
       "\t75 & ACEH & ACEH TAMIANG    & MANYAK PAYED   & 11 & 14 &  80 & KPwDN Lhokseumawe & 24\\\\\n",
       "\\end{tabular}\n"
      ],
      "text/markdown": [
       "\n",
       "A data.frame: 6 × 8\n",
       "\n",
       "| <!--/--> | prov &lt;chr&gt; | kabkot &lt;chr&gt; | kecamatan &lt;chr&gt; | code_prov &lt;int&gt; | code_kab &lt;int&gt; | code_kec &lt;int&gt; | KPwDN &lt;chr&gt; | KPwDN_Code &lt;int&gt; |\n",
       "|---|---|---|---|---|---|---|---|---|\n",
       "| 1 | ACEH | SIMEULUE        | SIMEULUE BARAT | 11 |  1 |  50 | KPwDN Aceh        |  1 |\n",
       "| 11 | ACEH | BIREUEN         | GANDA PURA     | 11 | 10 | 100 | KPwDN Lhokseumawe | 24 |\n",
       "| 28 | ACEH | ACEH UTARA      | KUTA MAKMUR    | 11 | 11 |  30 | KPwDN Lhokseumawe | 24 |\n",
       "| 55 | ACEH | ACEH BARAT DAYA | BLANG PIDIE    | 11 | 12 |  30 | KPwDN Aceh        |  1 |\n",
       "| 64 | ACEH | GAYO LUES       | BLANG PEGAYON  | 11 | 13 |  23 | KPwDN Lhokseumawe | 24 |\n",
       "| 75 | ACEH | ACEH TAMIANG    | MANYAK PAYED   | 11 | 14 |  80 | KPwDN Lhokseumawe | 24 |\n",
       "\n"
      ],
      "text/plain": [
       "   prov kabkot          kecamatan      code_prov code_kab code_kec\n",
       "1  ACEH SIMEULUE        SIMEULUE BARAT 11         1        50     \n",
       "11 ACEH BIREUEN         GANDA PURA     11        10       100     \n",
       "28 ACEH ACEH UTARA      KUTA MAKMUR    11        11        30     \n",
       "55 ACEH ACEH BARAT DAYA BLANG PIDIE    11        12        30     \n",
       "64 ACEH GAYO LUES       BLANG PEGAYON  11        13        23     \n",
       "75 ACEH ACEH TAMIANG    MANYAK PAYED   11        14        80     \n",
       "   KPwDN             KPwDN_Code\n",
       "1  KPwDN Aceh         1        \n",
       "11 KPwDN Lhokseumawe 24        \n",
       "28 KPwDN Lhokseumawe 24        \n",
       "55 KPwDN Aceh         1        \n",
       "64 KPwDN Lhokseumawe 24        \n",
       "75 KPwDN Lhokseumawe 24        "
      ]
     },
     "metadata": {},
     "output_type": "display_data"
    }
   ],
   "source": [
    "# Ambil baris tertas dari setiap prov kabkot\n",
    "bpskpwdn <- bpskpwdn[!duplicated(bpskpwdn$kabkot), ]\n",
    "# Display the first few rows of the filtered data\n",
    "head(bpskpwdn)"
   ]
  },
  {
   "cell_type": "code",
   "execution_count": 5,
   "id": "d53bea2e",
   "metadata": {
    "vscode": {
     "languageId": "r"
    }
   },
   "outputs": [
    {
     "data": {
      "text/html": [
       "46"
      ],
      "text/latex": [
       "46"
      ],
      "text/markdown": [
       "46"
      ],
      "text/plain": [
       "[1] 46"
      ]
     },
     "metadata": {},
     "output_type": "display_data"
    }
   ],
   "source": [
    "sum(length(unique(bpskpwdn$KPwDN)))"
   ]
  },
  {
   "cell_type": "code",
   "execution_count": 6,
   "id": "b5de7f90",
   "metadata": {
    "vscode": {
     "languageId": "r"
    }
   },
   "outputs": [
    {
     "data": {
      "text/html": [
       "<style>\n",
       ".list-inline {list-style: none; margin:0; padding: 0}\n",
       ".list-inline>li {display: inline-block}\n",
       ".list-inline>li:not(:last-child)::after {content: \"\\00b7\"; padding: 0 .5ex}\n",
       "</style>\n",
       "<ol class=list-inline><li>'KARANG ASEM'</li><li>'MUKOMUKO'</li><li>'GUNUNG KIDUL'</li><li>'KEPULAUAN SERIBU'</li><li>'KOTA JAKARTA BARAT'</li><li>'KOTA JAKARTA PUSAT'</li><li>'KOTA JAKARTA SELATAN'</li><li>'KOTA JAKARTA TIMUR'</li><li>'KOTA JAKARTA UTARA'</li><li>'BATANG HARI'</li><li>'KOTA BANJAR BARU'</li><li>'KOTA BARU'</li><li>'KOTA PALANGKA RAYA'</li><li>'MAHAKAM HULU'</li><li>'TIMOR TENGAH SELATAN'</li><li>'FAKFAK'</li><li>'TOJO UNA-UNA'</li><li>'TOLI-TOLI'</li><li>'KOTA BAUBAU'</li><li>'SIAU TAGULANDANG BIARO'</li><li>'KOTA SAWAH LUNTO'</li><li>'BANYU ASIN'</li><li>'KOTA LUBUKLINGGAU'</li><li>'MUSI BANYU ASIN'</li><li>'OGAN KOMERING ULU SELATAN'</li><li>'PENUKAL ABAB LEMATANG ILIR'</li><li>'KOTA PADANGSIDIMPUAN'</li><li>'KOTA PEMATANG SIANTAR'</li><li>'LABUHAN BATU'</li><li>'LABUHAN BATU SELATAN'</li><li>'LABUHAN BATU UTARA'</li><li>'TOBA SAMOSIR'</li></ol>\n"
      ],
      "text/latex": [
       "\\begin{enumerate*}\n",
       "\\item 'KARANG ASEM'\n",
       "\\item 'MUKOMUKO'\n",
       "\\item 'GUNUNG KIDUL'\n",
       "\\item 'KEPULAUAN SERIBU'\n",
       "\\item 'KOTA JAKARTA BARAT'\n",
       "\\item 'KOTA JAKARTA PUSAT'\n",
       "\\item 'KOTA JAKARTA SELATAN'\n",
       "\\item 'KOTA JAKARTA TIMUR'\n",
       "\\item 'KOTA JAKARTA UTARA'\n",
       "\\item 'BATANG HARI'\n",
       "\\item 'KOTA BANJAR BARU'\n",
       "\\item 'KOTA BARU'\n",
       "\\item 'KOTA PALANGKA RAYA'\n",
       "\\item 'MAHAKAM HULU'\n",
       "\\item 'TIMOR TENGAH SELATAN'\n",
       "\\item 'FAKFAK'\n",
       "\\item 'TOJO UNA-UNA'\n",
       "\\item 'TOLI-TOLI'\n",
       "\\item 'KOTA BAUBAU'\n",
       "\\item 'SIAU TAGULANDANG BIARO'\n",
       "\\item 'KOTA SAWAH LUNTO'\n",
       "\\item 'BANYU ASIN'\n",
       "\\item 'KOTA LUBUKLINGGAU'\n",
       "\\item 'MUSI BANYU ASIN'\n",
       "\\item 'OGAN KOMERING ULU SELATAN'\n",
       "\\item 'PENUKAL ABAB LEMATANG ILIR'\n",
       "\\item 'KOTA PADANGSIDIMPUAN'\n",
       "\\item 'KOTA PEMATANG SIANTAR'\n",
       "\\item 'LABUHAN BATU'\n",
       "\\item 'LABUHAN BATU SELATAN'\n",
       "\\item 'LABUHAN BATU UTARA'\n",
       "\\item 'TOBA SAMOSIR'\n",
       "\\end{enumerate*}\n"
      ],
      "text/markdown": [
       "1. 'KARANG ASEM'\n",
       "2. 'MUKOMUKO'\n",
       "3. 'GUNUNG KIDUL'\n",
       "4. 'KEPULAUAN SERIBU'\n",
       "5. 'KOTA JAKARTA BARAT'\n",
       "6. 'KOTA JAKARTA PUSAT'\n",
       "7. 'KOTA JAKARTA SELATAN'\n",
       "8. 'KOTA JAKARTA TIMUR'\n",
       "9. 'KOTA JAKARTA UTARA'\n",
       "10. 'BATANG HARI'\n",
       "11. 'KOTA BANJAR BARU'\n",
       "12. 'KOTA BARU'\n",
       "13. 'KOTA PALANGKA RAYA'\n",
       "14. 'MAHAKAM HULU'\n",
       "15. 'TIMOR TENGAH SELATAN'\n",
       "16. 'FAKFAK'\n",
       "17. 'TOJO UNA-UNA'\n",
       "18. 'TOLI-TOLI'\n",
       "19. 'KOTA BAUBAU'\n",
       "20. 'SIAU TAGULANDANG BIARO'\n",
       "21. 'KOTA SAWAH LUNTO'\n",
       "22. 'BANYU ASIN'\n",
       "23. 'KOTA LUBUKLINGGAU'\n",
       "24. 'MUSI BANYU ASIN'\n",
       "25. 'OGAN KOMERING ULU SELATAN'\n",
       "26. 'PENUKAL ABAB LEMATANG ILIR'\n",
       "27. 'KOTA PADANGSIDIMPUAN'\n",
       "28. 'KOTA PEMATANG SIANTAR'\n",
       "29. 'LABUHAN BATU'\n",
       "30. 'LABUHAN BATU SELATAN'\n",
       "31. 'LABUHAN BATU UTARA'\n",
       "32. 'TOBA SAMOSIR'\n",
       "\n",
       "\n"
      ],
      "text/plain": [
       " [1] \"KARANG ASEM\"                \"MUKOMUKO\"                  \n",
       " [3] \"GUNUNG KIDUL\"               \"KEPULAUAN SERIBU\"          \n",
       " [5] \"KOTA JAKARTA BARAT\"         \"KOTA JAKARTA PUSAT\"        \n",
       " [7] \"KOTA JAKARTA SELATAN\"       \"KOTA JAKARTA TIMUR\"        \n",
       " [9] \"KOTA JAKARTA UTARA\"         \"BATANG HARI\"               \n",
       "[11] \"KOTA BANJAR BARU\"           \"KOTA BARU\"                 \n",
       "[13] \"KOTA PALANGKA RAYA\"         \"MAHAKAM HULU\"              \n",
       "[15] \"TIMOR TENGAH SELATAN\"       \"FAKFAK\"                    \n",
       "[17] \"TOJO UNA-UNA\"               \"TOLI-TOLI\"                 \n",
       "[19] \"KOTA BAUBAU\"                \"SIAU TAGULANDANG BIARO\"    \n",
       "[21] \"KOTA SAWAH LUNTO\"           \"BANYU ASIN\"                \n",
       "[23] \"KOTA LUBUKLINGGAU\"          \"MUSI BANYU ASIN\"           \n",
       "[25] \"OGAN KOMERING ULU SELATAN\"  \"PENUKAL ABAB LEMATANG ILIR\"\n",
       "[27] \"KOTA PADANGSIDIMPUAN\"       \"KOTA PEMATANG SIANTAR\"     \n",
       "[29] \"LABUHAN BATU\"               \"LABUHAN BATU SELATAN\"      \n",
       "[31] \"LABUHAN BATU UTARA\"         \"TOBA SAMOSIR\"              "
      ]
     },
     "metadata": {},
     "output_type": "display_data"
    }
   ],
   "source": [
    "# Cek unique prov and kabkot in bpskpwdn and ps\n",
    "unique_prov_bps <- unique(bpskpwdn$prov)\n",
    "unique_kabkot_bps <- unique(bpskpwdn$kabkot)\n",
    "unique_prov_ps <- unique(ps$prov)\n",
    "unique_kabkot_ps <- unique(ps$kabkot)\n",
    "\n",
    "# Check with %in% \n",
    "prov_in_bps <- unique_prov_ps %in% unique_prov_bps\n",
    "kabkot_in_bps <- unique_kabkot_ps %in% unique_kabkot_bps\n",
    "# Find the missing prov and kabkot\n",
    "missing_prov <- unique_prov_ps[!prov_in_bps]\n",
    "missing_kabkot <- unique_kabkot_ps[!kabkot_in_bps]\n",
    "\n",
    "# Display the missing prov and kabkot\n",
    "missing_kabkot"
   ]
  },
  {
   "cell_type": "code",
   "execution_count": 7,
   "id": "a3f28ab3",
   "metadata": {
    "vscode": {
     "languageId": "r"
    }
   },
   "outputs": [
    {
     "data": {
      "text/html": [],
      "text/latex": [],
      "text/markdown": [],
      "text/plain": [
       "character(0)"
      ]
     },
     "metadata": {},
     "output_type": "display_data"
    },
    {
     "data": {
      "text/html": [],
      "text/latex": [],
      "text/markdown": [],
      "text/plain": [
       "character(0)"
      ]
     },
     "metadata": {},
     "output_type": "display_data"
    },
    {
     "data": {
      "text/html": [],
      "text/latex": [],
      "text/markdown": [],
      "text/plain": [
       "character(0)"
      ]
     },
     "metadata": {},
     "output_type": "display_data"
    },
    {
     "data": {
      "text/html": [],
      "text/latex": [],
      "text/markdown": [],
      "text/plain": [
       "character(0)"
      ]
     },
     "metadata": {},
     "output_type": "display_data"
    },
    {
     "data": {
      "text/html": [],
      "text/latex": [],
      "text/markdown": [],
      "text/plain": [
       "integer(0)"
      ]
     },
     "metadata": {},
     "output_type": "display_data"
    },
    {
     "data": {
      "text/html": [],
      "text/latex": [],
      "text/markdown": [],
      "text/plain": [
       "character(0)"
      ]
     },
     "metadata": {},
     "output_type": "display_data"
    },
    {
     "data": {
      "text/html": [],
      "text/latex": [],
      "text/markdown": [],
      "text/plain": [
       "character(0)"
      ]
     },
     "metadata": {},
     "output_type": "display_data"
    },
    {
     "data": {
      "text/html": [],
      "text/latex": [],
      "text/markdown": [],
      "text/plain": [
       "character(0)"
      ]
     },
     "metadata": {},
     "output_type": "display_data"
    },
    {
     "data": {
      "text/html": [],
      "text/latex": [],
      "text/markdown": [],
      "text/plain": [
       "character(0)"
      ]
     },
     "metadata": {},
     "output_type": "display_data"
    },
    {
     "data": {
      "text/html": [],
      "text/latex": [],
      "text/markdown": [],
      "text/plain": [
       "character(0)"
      ]
     },
     "metadata": {},
     "output_type": "display_data"
    },
    {
     "data": {
      "text/html": [],
      "text/latex": [],
      "text/markdown": [],
      "text/plain": [
       "character(0)"
      ]
     },
     "metadata": {},
     "output_type": "display_data"
    },
    {
     "data": {
      "text/html": [],
      "text/latex": [],
      "text/markdown": [],
      "text/plain": [
       "character(0)"
      ]
     },
     "metadata": {},
     "output_type": "display_data"
    },
    {
     "data": {
      "text/html": [],
      "text/latex": [],
      "text/markdown": [],
      "text/plain": [
       "character(0)"
      ]
     },
     "metadata": {},
     "output_type": "display_data"
    },
    {
     "data": {
      "text/html": [],
      "text/latex": [],
      "text/markdown": [],
      "text/plain": [
       "character(0)"
      ]
     },
     "metadata": {},
     "output_type": "display_data"
    },
    {
     "data": {
      "text/html": [
       "'KAB TIMOR TENGAH SELATAN'"
      ],
      "text/latex": [
       "'KAB TIMOR TENGAH SELATAN'"
      ],
      "text/markdown": [
       "'KAB TIMOR TENGAH SELATAN'"
      ],
      "text/plain": [
       "[1] \"KAB TIMOR TENGAH SELATAN\""
      ]
     },
     "metadata": {},
     "output_type": "display_data"
    },
    {
     "data": {
      "text/html": [],
      "text/latex": [],
      "text/markdown": [],
      "text/plain": [
       "character(0)"
      ]
     },
     "metadata": {},
     "output_type": "display_data"
    },
    {
     "data": {
      "text/html": [],
      "text/latex": [],
      "text/markdown": [],
      "text/plain": [
       "character(0)"
      ]
     },
     "metadata": {},
     "output_type": "display_data"
    },
    {
     "data": {
      "text/html": [],
      "text/latex": [],
      "text/markdown": [],
      "text/plain": [
       "character(0)"
      ]
     },
     "metadata": {},
     "output_type": "display_data"
    },
    {
     "data": {
      "text/html": [],
      "text/latex": [],
      "text/markdown": [],
      "text/plain": [
       "character(0)"
      ]
     },
     "metadata": {},
     "output_type": "display_data"
    },
    {
     "data": {
      "text/html": [
       "'KEP. SIAU TAGULANDANG BIARO'"
      ],
      "text/latex": [
       "'KEP. SIAU TAGULANDANG BIARO'"
      ],
      "text/markdown": [
       "'KEP. SIAU TAGULANDANG BIARO'"
      ],
      "text/plain": [
       "[1] \"KEP. SIAU TAGULANDANG BIARO\""
      ]
     },
     "metadata": {},
     "output_type": "display_data"
    },
    {
     "data": {
      "text/html": [],
      "text/latex": [],
      "text/markdown": [],
      "text/plain": [
       "character(0)"
      ]
     },
     "metadata": {},
     "output_type": "display_data"
    },
    {
     "data": {
      "text/html": [],
      "text/latex": [],
      "text/markdown": [],
      "text/plain": [
       "character(0)"
      ]
     },
     "metadata": {},
     "output_type": "display_data"
    },
    {
     "data": {
      "text/html": [],
      "text/latex": [],
      "text/markdown": [],
      "text/plain": [
       "character(0)"
      ]
     },
     "metadata": {},
     "output_type": "display_data"
    },
    {
     "data": {
      "text/html": [],
      "text/latex": [],
      "text/markdown": [],
      "text/plain": [
       "character(0)"
      ]
     },
     "metadata": {},
     "output_type": "display_data"
    },
    {
     "data": {
      "text/html": [],
      "text/latex": [],
      "text/markdown": [],
      "text/plain": [
       "character(0)"
      ]
     },
     "metadata": {},
     "output_type": "display_data"
    },
    {
     "data": {
      "text/html": [],
      "text/latex": [],
      "text/markdown": [],
      "text/plain": [
       "character(0)"
      ]
     },
     "metadata": {},
     "output_type": "display_data"
    },
    {
     "data": {
      "text/html": [],
      "text/latex": [],
      "text/markdown": [],
      "text/plain": [
       "character(0)"
      ]
     },
     "metadata": {},
     "output_type": "display_data"
    },
    {
     "data": {
      "text/html": [],
      "text/latex": [],
      "text/markdown": [],
      "text/plain": [
       "character(0)"
      ]
     },
     "metadata": {},
     "output_type": "display_data"
    },
    {
     "data": {
      "text/html": [],
      "text/latex": [],
      "text/markdown": [],
      "text/plain": [
       "character(0)"
      ]
     },
     "metadata": {},
     "output_type": "display_data"
    },
    {
     "data": {
      "text/html": [],
      "text/latex": [],
      "text/markdown": [],
      "text/plain": [
       "character(0)"
      ]
     },
     "metadata": {},
     "output_type": "display_data"
    },
    {
     "data": {
      "text/html": [],
      "text/latex": [],
      "text/markdown": [],
      "text/plain": [
       "character(0)"
      ]
     },
     "metadata": {},
     "output_type": "display_data"
    },
    {
     "data": {
      "text/html": [],
      "text/latex": [],
      "text/markdown": [],
      "text/plain": [
       "character(0)"
      ]
     },
     "metadata": {},
     "output_type": "display_data"
    }
   ],
   "source": [
    "grep(\"KARANG ASEM\", bpskpwdn$kabkot, value = TRUE)\n",
    "grep(\"MUKOMUKO\", bpskpwdn$kabkot, value = TRUE)\n",
    "grep(\"GUNUNG KIDUL\", bpskpwdn$kabkot, value = TRUE)\n",
    "grep(\"KEPULAUAN SERIBU\", bpskpwdn$kabkot, value = TRUE) # Change to 'ADM. KEP. SERIBU\n",
    "grep(\"KOTA JAKARTA BARAT\", bpskpwdn$kabkot, value = FALSE) # Change to 'KOTA ADM. JAKARTA SELATAN'\n",
    "grep(\"KOTA JAKARTA PUSAT\", bpskpwdn$kabkot, value = TRUE) # Change to 'KOTA ADM. JAKARTA PUSAT'\n",
    "grep(\"KOTA JAKARTA SELATAN\", bpskpwdn$kabkot, value = TRUE) # Change to 'KOTA ADM. JAKARTA TIMUR'\n",
    "grep(\"KOTA JAKARTA TIMUR\", bpskpwdn$kabkot, value = TRUE) # Change to 'KOTA ADM. JAKARTA BARAT'\n",
    "grep(\"KOTA JAKARTA UTARA\", bpskpwdn$kabkot, value = TRUE) # Change to 'KOTA ADM. JAKARTA UTARA'\n",
    "grep(\"BATANG HARI\", bpskpwdn$kabkot, value = TRUE)\n",
    "grep(\"KOTA BANJAR BARU\", bpskpwdn$kabkot, value = TRUE)\n",
    "grep(\"KOTA BARU\", bpskpwdn$kabkot, value = TRUE)\n",
    "grep(\"KOTA PALANGKA RAYA\", bpskpwdn$kabkot, value = TRUE)\n",
    "grep(\"MAHAKAM HULU\", bpskpwdn$kabkot, value = TRUE)\n",
    "grep(\"TIMOR TENGAH SELATAN\", bpskpwdn$kabkot, value = TRUE)# Change to 'KAB TIMOR TENGAH SELATAN\n",
    "grep(\"FAKFAK\", bpskpwdn$kabkot, value = TRUE)\n",
    "grep(\"TOJO UNA-UNA\", bpskpwdn$kabkot, value = TRUE)\n",
    "grep(\"TOLI-TOLI\", bpskpwdn$kabkot, value = TRUE)\n",
    "grep(\"KOTA BAUBAU\", bpskpwdn$kabkot, value = TRUE)\n",
    "grep(\"SIAU TAGULANDANG BIARO\", bpskpwdn$kabkot, value = TRUE) # Change to 'KEP. SIAU TAGULANDANG BIARO'\n",
    "grep(\"KOTA SAWAH LUNTO\", bpskpwdn$kabkot, value = TRUE)\n",
    "grep(\"BANYU ASIN\", bpskpwdn$kabkot, value = TRUE)\n",
    "grep(\"KOTA LUBUKLINGGAU\", bpskpwdn$kabkot, value = TRUE)\n",
    "grep(\"MUSI BANYU ASIN\", bpskpwdn$kabkot, value = TRUE)\n",
    "grep(\"OGAN KOMERING ULU SELATAN\", bpskpwdn$kabkot, value = TRUE)\n",
    "grep(\"PENUKAL ABAB LEMATANG ILIR\", bpskpwdn$kabkot, value = TRUE)\n",
    "grep(\"KOTA PADANGSIDIMPUAN\", bpskpwdn$kabkot, value = TRUE)\n",
    "grep(\"KOTA PEMATANG SIANTAR\", bpskpwdn$kabkot, value = TRUE)\n",
    "grep(\"LABUHAN BATU\", bpskpwdn$kabkot, value = TRUE)\n",
    "grep(\"LABUHAN BATU SELATAN\", bpskpwdn$kabkot, value = TRUE)\n",
    "grep(\"LABUHAN BATU UTARA\", bpskpwdn$kabkot, value = TRUE)\n",
    "grep(\"TOBA SAMOSIR\", bpskpwdn$kabkot, value = TRUE)"
   ]
  },
  {
   "cell_type": "code",
   "execution_count": 8,
   "id": "fa1121b6",
   "metadata": {
    "vscode": {
     "languageId": "r"
    }
   },
   "outputs": [],
   "source": [
    "ps$kabkot <- gsub(\"KEPULAUAN SERIBU\", \"ADM. KEP. SERIBU\", ps$kabkot)\n",
    "ps$kabkot <- gsub(\"KOTA JAKARTA BARAT\", \"KOTA ADM. JAKARTA BARAT\", ps$kabkot)\n",
    "ps$kabkot <- gsub(\"KOTA JAKARTA PUSAT\", \"KOTA ADM. JAKARTA PUSAT\", ps$kabkot)\n",
    "ps$kabkot <- gsub(\"KOTA JAKARTA SELATAN\", \"KOTA ADM. JAKARTA SELATAN\", ps$kabkot)\n",
    "ps$kabkot <- gsub(\"KOTA JAKARTA TIMUR\", \"KOTA ADM. JAKARTA TIMUR\", ps$kabkot)\n",
    "ps$kabkot <- gsub(\"KOTA JAKARTA UTARA\", \"KOTA ADM. JAKARTA UTARA\", ps$kabkot)\n",
    "ps$kabkot <- gsub(\"TIMOR TENGAH SELATAN\", \"KAB TIMOR TENGAH SELATAN\", ps$kabkot)\n",
    "ps$kabkot <- gsub(\"SIAU TAGULANDANG BIARO\", \"KEP. SIAU TAGULANDANG BIARO\", ps$kabkot)"
   ]
  },
  {
   "cell_type": "code",
   "execution_count": 9,
   "id": "0f2606f1",
   "metadata": {
    "vscode": {
     "languageId": "r"
    }
   },
   "outputs": [
    {
     "data": {
      "text/html": [
       "<table class=\"dataframe\">\n",
       "<caption>A data.frame: 6 × 11</caption>\n",
       "<thead>\n",
       "\t<tr><th></th><th scope=col>prov</th><th scope=col>kabkot</th><th scope=col>kecamatan</th><th scope=col>code_prov</th><th scope=col>code_kab</th><th scope=col>code_kec</th><th scope=col>KPwDN</th><th scope=col>KPwDN_Code</th><th scope=col>jenis</th><th scope=col>bank</th><th scope=col>nps</th></tr>\n",
       "\t<tr><th></th><th scope=col>&lt;chr&gt;</th><th scope=col>&lt;chr&gt;</th><th scope=col>&lt;chr&gt;</th><th scope=col>&lt;int&gt;</th><th scope=col>&lt;int&gt;</th><th scope=col>&lt;int&gt;</th><th scope=col>&lt;chr&gt;</th><th scope=col>&lt;int&gt;</th><th scope=col>&lt;chr&gt;</th><th scope=col>&lt;chr&gt;</th><th scope=col>&lt;dbl&gt;</th></tr>\n",
       "</thead>\n",
       "<tbody>\n",
       "\t<tr><th scope=row>1</th><td>ACEH</td><td>ACEH BARAT     </td><td>KAWAY XVI         </td><td>11</td><td> 7</td><td>80</td><td>KPwDN Aceh</td><td>1</td><td>NON TUNAI</td><td>BSI</td><td>16426</td></tr>\n",
       "\t<tr><th scope=row>2</th><td>ACEH</td><td>ACEH BARAT DAYA</td><td>BLANG PIDIE       </td><td>11</td><td>12</td><td>30</td><td>KPwDN Aceh</td><td>1</td><td>NON TUNAI</td><td>BSI</td><td>17209</td></tr>\n",
       "\t<tr><th scope=row>3</th><td>ACEH</td><td>ACEH BESAR     </td><td>DARUSSALAM        </td><td>11</td><td> 8</td><td>60</td><td>KPwDN Aceh</td><td>1</td><td>NON TUNAI</td><td>BSI</td><td>35651</td></tr>\n",
       "\t<tr><th scope=row>4</th><td>ACEH</td><td>ACEH JAYA      </td><td>DARUL HIKMAH      </td><td>11</td><td>16</td><td>51</td><td>KPwDN Aceh</td><td>1</td><td>NON TUNAI</td><td>BSI</td><td> 7874</td></tr>\n",
       "\t<tr><th scope=row>5</th><td>ACEH</td><td>ACEH SELATAN   </td><td>KOTA BAHAGIA      </td><td>11</td><td> 3</td><td>22</td><td>KPwDN Aceh</td><td>1</td><td>NON TUNAI</td><td>BSI</td><td>22667</td></tr>\n",
       "\t<tr><th scope=row>6</th><td>ACEH</td><td>ACEH SINGKIL   </td><td>PULAU BANYAK BARAT</td><td>11</td><td> 2</td><td>11</td><td>KPwDN Aceh</td><td>1</td><td>NON TUNAI</td><td>BSI</td><td>12247</td></tr>\n",
       "</tbody>\n",
       "</table>\n"
      ],
      "text/latex": [
       "A data.frame: 6 × 11\n",
       "\\begin{tabular}{r|lllllllllll}\n",
       "  & prov & kabkot & kecamatan & code\\_prov & code\\_kab & code\\_kec & KPwDN & KPwDN\\_Code & jenis & bank & nps\\\\\n",
       "  & <chr> & <chr> & <chr> & <int> & <int> & <int> & <chr> & <int> & <chr> & <chr> & <dbl>\\\\\n",
       "\\hline\n",
       "\t1 & ACEH & ACEH BARAT      & KAWAY XVI          & 11 &  7 & 80 & KPwDN Aceh & 1 & NON TUNAI & BSI & 16426\\\\\n",
       "\t2 & ACEH & ACEH BARAT DAYA & BLANG PIDIE        & 11 & 12 & 30 & KPwDN Aceh & 1 & NON TUNAI & BSI & 17209\\\\\n",
       "\t3 & ACEH & ACEH BESAR      & DARUSSALAM         & 11 &  8 & 60 & KPwDN Aceh & 1 & NON TUNAI & BSI & 35651\\\\\n",
       "\t4 & ACEH & ACEH JAYA       & DARUL HIKMAH       & 11 & 16 & 51 & KPwDN Aceh & 1 & NON TUNAI & BSI &  7874\\\\\n",
       "\t5 & ACEH & ACEH SELATAN    & KOTA BAHAGIA       & 11 &  3 & 22 & KPwDN Aceh & 1 & NON TUNAI & BSI & 22667\\\\\n",
       "\t6 & ACEH & ACEH SINGKIL    & PULAU BANYAK BARAT & 11 &  2 & 11 & KPwDN Aceh & 1 & NON TUNAI & BSI & 12247\\\\\n",
       "\\end{tabular}\n"
      ],
      "text/markdown": [
       "\n",
       "A data.frame: 6 × 11\n",
       "\n",
       "| <!--/--> | prov &lt;chr&gt; | kabkot &lt;chr&gt; | kecamatan &lt;chr&gt; | code_prov &lt;int&gt; | code_kab &lt;int&gt; | code_kec &lt;int&gt; | KPwDN &lt;chr&gt; | KPwDN_Code &lt;int&gt; | jenis &lt;chr&gt; | bank &lt;chr&gt; | nps &lt;dbl&gt; |\n",
       "|---|---|---|---|---|---|---|---|---|---|---|---|\n",
       "| 1 | ACEH | ACEH BARAT      | KAWAY XVI          | 11 |  7 | 80 | KPwDN Aceh | 1 | NON TUNAI | BSI | 16426 |\n",
       "| 2 | ACEH | ACEH BARAT DAYA | BLANG PIDIE        | 11 | 12 | 30 | KPwDN Aceh | 1 | NON TUNAI | BSI | 17209 |\n",
       "| 3 | ACEH | ACEH BESAR      | DARUSSALAM         | 11 |  8 | 60 | KPwDN Aceh | 1 | NON TUNAI | BSI | 35651 |\n",
       "| 4 | ACEH | ACEH JAYA       | DARUL HIKMAH       | 11 | 16 | 51 | KPwDN Aceh | 1 | NON TUNAI | BSI |  7874 |\n",
       "| 5 | ACEH | ACEH SELATAN    | KOTA BAHAGIA       | 11 |  3 | 22 | KPwDN Aceh | 1 | NON TUNAI | BSI | 22667 |\n",
       "| 6 | ACEH | ACEH SINGKIL    | PULAU BANYAK BARAT | 11 |  2 | 11 | KPwDN Aceh | 1 | NON TUNAI | BSI | 12247 |\n",
       "\n"
      ],
      "text/plain": [
       "  prov kabkot          kecamatan          code_prov code_kab code_kec\n",
       "1 ACEH ACEH BARAT      KAWAY XVI          11         7       80      \n",
       "2 ACEH ACEH BARAT DAYA BLANG PIDIE        11        12       30      \n",
       "3 ACEH ACEH BESAR      DARUSSALAM         11         8       60      \n",
       "4 ACEH ACEH JAYA       DARUL HIKMAH       11        16       51      \n",
       "5 ACEH ACEH SELATAN    KOTA BAHAGIA       11         3       22      \n",
       "6 ACEH ACEH SINGKIL    PULAU BANYAK BARAT 11         2       11      \n",
       "  KPwDN      KPwDN_Code jenis     bank nps  \n",
       "1 KPwDN Aceh 1          NON TUNAI BSI  16426\n",
       "2 KPwDN Aceh 1          NON TUNAI BSI  17209\n",
       "3 KPwDN Aceh 1          NON TUNAI BSI  35651\n",
       "4 KPwDN Aceh 1          NON TUNAI BSI   7874\n",
       "5 KPwDN Aceh 1          NON TUNAI BSI  22667\n",
       "6 KPwDN Aceh 1          NON TUNAI BSI  12247"
      ]
     },
     "metadata": {},
     "output_type": "display_data"
    }
   ],
   "source": [
    "# Merge ps and bpskpwdn by prov and kabkot\n",
    "ps_m <- merge(bpskpwdn,ps, by.x = c(\"prov\", \"kabkot\"), \n",
    "    by.y = c(\"prov\", \"kabkot\"), all.x = TRUE)\n",
    "# Merge pkh and bpskpwdn by prov and kabkot\n",
    "head(ps_m)    "
   ]
  },
  {
   "cell_type": "code",
   "execution_count": 10,
   "id": "8d42c784",
   "metadata": {
    "vscode": {
     "languageId": "r"
    }
   },
   "outputs": [
    {
     "data": {
      "text/html": [
       "<table class=\"dataframe\">\n",
       "<caption>A data.frame: 6 × 2</caption>\n",
       "<thead>\n",
       "\t<tr><th></th><th scope=col>KPwDN</th><th scope=col>nps</th></tr>\n",
       "\t<tr><th></th><th scope=col>&lt;chr&gt;</th><th scope=col>&lt;dbl&gt;</th></tr>\n",
       "</thead>\n",
       "<tbody>\n",
       "\t<tr><th scope=row>1</th><td>KPwDN Aceh      </td><td>228562</td></tr>\n",
       "\t<tr><th scope=row>2</th><td>KPwDN Bali      </td><td> 89053</td></tr>\n",
       "\t<tr><th scope=row>3</th><td>KPwDN Balikpapan</td><td> 24534</td></tr>\n",
       "\t<tr><th scope=row>4</th><td>KPwDN Banten    </td><td>339476</td></tr>\n",
       "\t<tr><th scope=row>5</th><td>KPwDN Bengkulu  </td><td>117823</td></tr>\n",
       "\t<tr><th scope=row>6</th><td>KPwDN Cirebon   </td><td>639321</td></tr>\n",
       "</tbody>\n",
       "</table>\n"
      ],
      "text/latex": [
       "A data.frame: 6 × 2\n",
       "\\begin{tabular}{r|ll}\n",
       "  & KPwDN & nps\\\\\n",
       "  & <chr> & <dbl>\\\\\n",
       "\\hline\n",
       "\t1 & KPwDN Aceh       & 228562\\\\\n",
       "\t2 & KPwDN Bali       &  89053\\\\\n",
       "\t3 & KPwDN Balikpapan &  24534\\\\\n",
       "\t4 & KPwDN Banten     & 339476\\\\\n",
       "\t5 & KPwDN Bengkulu   & 117823\\\\\n",
       "\t6 & KPwDN Cirebon    & 639321\\\\\n",
       "\\end{tabular}\n"
      ],
      "text/markdown": [
       "\n",
       "A data.frame: 6 × 2\n",
       "\n",
       "| <!--/--> | KPwDN &lt;chr&gt; | nps &lt;dbl&gt; |\n",
       "|---|---|---|\n",
       "| 1 | KPwDN Aceh       | 228562 |\n",
       "| 2 | KPwDN Bali       |  89053 |\n",
       "| 3 | KPwDN Balikpapan |  24534 |\n",
       "| 4 | KPwDN Banten     | 339476 |\n",
       "| 5 | KPwDN Bengkulu   | 117823 |\n",
       "| 6 | KPwDN Cirebon    | 639321 |\n",
       "\n"
      ],
      "text/plain": [
       "  KPwDN            nps   \n",
       "1 KPwDN Aceh       228562\n",
       "2 KPwDN Bali        89053\n",
       "3 KPwDN Balikpapan  24534\n",
       "4 KPwDN Banten     339476\n",
       "5 KPwDN Bengkulu   117823\n",
       "6 KPwDN Cirebon    639321"
      ]
     },
     "metadata": {},
     "output_type": "display_data"
    },
    {
     "data": {
      "text/html": [
       "46"
      ],
      "text/latex": [
       "46"
      ],
      "text/markdown": [
       "46"
      ],
      "text/plain": [
       "[1] 46"
      ]
     },
     "metadata": {},
     "output_type": "display_data"
    },
    {
     "data": {
      "text/html": [
       "14878902"
      ],
      "text/latex": [
       "14878902"
      ],
      "text/markdown": [
       "14878902"
      ],
      "text/plain": [
       "[1] 14878902"
      ]
     },
     "metadata": {},
     "output_type": "display_data"
    }
   ],
   "source": [
    "# Agg ps_m by KPwDN\t sum nps\n",
    "ps_m_agg <- aggregate(nps ~ KPwDN, data = ps_m, FUN = sum)\n",
    "head(ps_m_agg)\n",
    "nrow(ps_m_agg)\n",
    "sum(ps_m_agg$nps)"
   ]
  },
  {
   "cell_type": "code",
   "execution_count": 11,
   "id": "4dcbb6c2",
   "metadata": {
    "vscode": {
     "languageId": "r"
    }
   },
   "outputs": [],
   "source": [
    "pkh$kabkot <- gsub(\"KEPULAUAN SERIBU\", \"ADM. KEP. SERIBU\", pkh$kabkot)\n",
    "pkh$kabkot <- gsub(\"KOTA JAKARTA BARAT\", \"KOTA ADM. JAKARTA BARAT\", pkh$kabkot)\n",
    "pkh$kabkot <- gsub(\"KOTA JAKARTA PUSAT\", \"KOTA ADM. JAKARTA PUSAT\", pkh$kabkot)\n",
    "pkh$kabkot <- gsub(\"KOTA JAKARTA SELATAN\", \"KOTA ADM. JAKARTA SELATAN\", pkh$kabkot)\n",
    "pkh$kabkot <- gsub(\"KOTA JAKARTA TIMUR\", \"KOTA ADM. JAKARTA TIMUR\", pkh$kabkot)\n",
    "pkh$kabkot <- gsub(\"KOTA JAKARTA UTARA\", \"KOTA ADM. JAKARTA UTARA\", pkh$kabkot)\n",
    "pkh$kabkot <- gsub(\"TIMOR TENGAH SELATAN\", \"KAB TIMOR TENGAH SELATAN\", pkh$kabkot)\n",
    "pkh$kabkot <- gsub(\"SIAU TAGULANDANG BIARO\", \"KEP. SIAU TAGULANDANG BIARO\", pkh$kabkot)"
   ]
  },
  {
   "cell_type": "code",
   "execution_count": 12,
   "id": "1f67cce5",
   "metadata": {
    "vscode": {
     "languageId": "r"
    }
   },
   "outputs": [
    {
     "data": {
      "text/html": [
       "<table class=\"dataframe\">\n",
       "<caption>A data.frame: 6 × 11</caption>\n",
       "<thead>\n",
       "\t<tr><th></th><th scope=col>prov</th><th scope=col>kabkot</th><th scope=col>kecamatan</th><th scope=col>code_prov</th><th scope=col>code_kab</th><th scope=col>code_kec</th><th scope=col>KPwDN</th><th scope=col>KPwDN_Code</th><th scope=col>bank</th><th scope=col>nkpm</th><th scope=col>jenis</th></tr>\n",
       "\t<tr><th></th><th scope=col>&lt;chr&gt;</th><th scope=col>&lt;chr&gt;</th><th scope=col>&lt;chr&gt;</th><th scope=col>&lt;int&gt;</th><th scope=col>&lt;int&gt;</th><th scope=col>&lt;int&gt;</th><th scope=col>&lt;chr&gt;</th><th scope=col>&lt;int&gt;</th><th scope=col>&lt;chr&gt;</th><th scope=col>&lt;dbl&gt;</th><th scope=col>&lt;chr&gt;</th></tr>\n",
       "</thead>\n",
       "<tbody>\n",
       "\t<tr><th scope=row>1</th><td>ACEH</td><td>ACEH BARAT     </td><td>KAWAY XVI         </td><td>11</td><td> 7</td><td>80</td><td>KPwDN Aceh</td><td>1</td><td>BSI</td><td>11293</td><td>NON TUNAI</td></tr>\n",
       "\t<tr><th scope=row>2</th><td>ACEH</td><td>ACEH BARAT DAYA</td><td>BLANG PIDIE       </td><td>11</td><td>12</td><td>30</td><td>KPwDN Aceh</td><td>1</td><td>BSI</td><td> 9792</td><td>NON TUNAI</td></tr>\n",
       "\t<tr><th scope=row>3</th><td>ACEH</td><td>ACEH BESAR     </td><td>DARUSSALAM        </td><td>11</td><td> 8</td><td>60</td><td>KPwDN Aceh</td><td>1</td><td>BSI</td><td>22795</td><td>NON TUNAI</td></tr>\n",
       "\t<tr><th scope=row>4</th><td>ACEH</td><td>ACEH JAYA      </td><td>DARUL HIKMAH      </td><td>11</td><td>16</td><td>51</td><td>KPwDN Aceh</td><td>1</td><td>BSI</td><td> 5471</td><td>NON TUNAI</td></tr>\n",
       "\t<tr><th scope=row>5</th><td>ACEH</td><td>ACEH SELATAN   </td><td>KOTA BAHAGIA      </td><td>11</td><td> 3</td><td>22</td><td>KPwDN Aceh</td><td>1</td><td>BSI</td><td>12050</td><td>NON TUNAI</td></tr>\n",
       "\t<tr><th scope=row>6</th><td>ACEH</td><td>ACEH SINGKIL   </td><td>PULAU BANYAK BARAT</td><td>11</td><td> 2</td><td>11</td><td>KPwDN Aceh</td><td>1</td><td>BSI</td><td> 8648</td><td>NON TUNAI</td></tr>\n",
       "</tbody>\n",
       "</table>\n"
      ],
      "text/latex": [
       "A data.frame: 6 × 11\n",
       "\\begin{tabular}{r|lllllllllll}\n",
       "  & prov & kabkot & kecamatan & code\\_prov & code\\_kab & code\\_kec & KPwDN & KPwDN\\_Code & bank & nkpm & jenis\\\\\n",
       "  & <chr> & <chr> & <chr> & <int> & <int> & <int> & <chr> & <int> & <chr> & <dbl> & <chr>\\\\\n",
       "\\hline\n",
       "\t1 & ACEH & ACEH BARAT      & KAWAY XVI          & 11 &  7 & 80 & KPwDN Aceh & 1 & BSI & 11293 & NON TUNAI\\\\\n",
       "\t2 & ACEH & ACEH BARAT DAYA & BLANG PIDIE        & 11 & 12 & 30 & KPwDN Aceh & 1 & BSI &  9792 & NON TUNAI\\\\\n",
       "\t3 & ACEH & ACEH BESAR      & DARUSSALAM         & 11 &  8 & 60 & KPwDN Aceh & 1 & BSI & 22795 & NON TUNAI\\\\\n",
       "\t4 & ACEH & ACEH JAYA       & DARUL HIKMAH       & 11 & 16 & 51 & KPwDN Aceh & 1 & BSI &  5471 & NON TUNAI\\\\\n",
       "\t5 & ACEH & ACEH SELATAN    & KOTA BAHAGIA       & 11 &  3 & 22 & KPwDN Aceh & 1 & BSI & 12050 & NON TUNAI\\\\\n",
       "\t6 & ACEH & ACEH SINGKIL    & PULAU BANYAK BARAT & 11 &  2 & 11 & KPwDN Aceh & 1 & BSI &  8648 & NON TUNAI\\\\\n",
       "\\end{tabular}\n"
      ],
      "text/markdown": [
       "\n",
       "A data.frame: 6 × 11\n",
       "\n",
       "| <!--/--> | prov &lt;chr&gt; | kabkot &lt;chr&gt; | kecamatan &lt;chr&gt; | code_prov &lt;int&gt; | code_kab &lt;int&gt; | code_kec &lt;int&gt; | KPwDN &lt;chr&gt; | KPwDN_Code &lt;int&gt; | bank &lt;chr&gt; | nkpm &lt;dbl&gt; | jenis &lt;chr&gt; |\n",
       "|---|---|---|---|---|---|---|---|---|---|---|---|\n",
       "| 1 | ACEH | ACEH BARAT      | KAWAY XVI          | 11 |  7 | 80 | KPwDN Aceh | 1 | BSI | 11293 | NON TUNAI |\n",
       "| 2 | ACEH | ACEH BARAT DAYA | BLANG PIDIE        | 11 | 12 | 30 | KPwDN Aceh | 1 | BSI |  9792 | NON TUNAI |\n",
       "| 3 | ACEH | ACEH BESAR      | DARUSSALAM         | 11 |  8 | 60 | KPwDN Aceh | 1 | BSI | 22795 | NON TUNAI |\n",
       "| 4 | ACEH | ACEH JAYA       | DARUL HIKMAH       | 11 | 16 | 51 | KPwDN Aceh | 1 | BSI |  5471 | NON TUNAI |\n",
       "| 5 | ACEH | ACEH SELATAN    | KOTA BAHAGIA       | 11 |  3 | 22 | KPwDN Aceh | 1 | BSI | 12050 | NON TUNAI |\n",
       "| 6 | ACEH | ACEH SINGKIL    | PULAU BANYAK BARAT | 11 |  2 | 11 | KPwDN Aceh | 1 | BSI |  8648 | NON TUNAI |\n",
       "\n"
      ],
      "text/plain": [
       "  prov kabkot          kecamatan          code_prov code_kab code_kec\n",
       "1 ACEH ACEH BARAT      KAWAY XVI          11         7       80      \n",
       "2 ACEH ACEH BARAT DAYA BLANG PIDIE        11        12       30      \n",
       "3 ACEH ACEH BESAR      DARUSSALAM         11         8       60      \n",
       "4 ACEH ACEH JAYA       DARUL HIKMAH       11        16       51      \n",
       "5 ACEH ACEH SELATAN    KOTA BAHAGIA       11         3       22      \n",
       "6 ACEH ACEH SINGKIL    PULAU BANYAK BARAT 11         2       11      \n",
       "  KPwDN      KPwDN_Code bank nkpm  jenis    \n",
       "1 KPwDN Aceh 1          BSI  11293 NON TUNAI\n",
       "2 KPwDN Aceh 1          BSI   9792 NON TUNAI\n",
       "3 KPwDN Aceh 1          BSI  22795 NON TUNAI\n",
       "4 KPwDN Aceh 1          BSI   5471 NON TUNAI\n",
       "5 KPwDN Aceh 1          BSI  12050 NON TUNAI\n",
       "6 KPwDN Aceh 1          BSI   8648 NON TUNAI"
      ]
     },
     "metadata": {},
     "output_type": "display_data"
    }
   ],
   "source": [
    "# Merge ps and bpskpwdn by prov and kabkot\n",
    "pkh_m <- merge(bpskpwdn,pkh, by.x = c(\"prov\", \"kabkot\"), \n",
    "    by.y = c(\"prov\", \"kabkot\"), all.x = TRUE)\n",
    "# Merge pkh and bpskpwdn by prov and kabkot\n",
    "head(pkh_m)    "
   ]
  },
  {
   "cell_type": "code",
   "execution_count": 13,
   "id": "43788fd4",
   "metadata": {
    "vscode": {
     "languageId": "r"
    }
   },
   "outputs": [
    {
     "data": {
      "text/html": [
       "<table class=\"dataframe\">\n",
       "<caption>A data.frame: 6 × 2</caption>\n",
       "<thead>\n",
       "\t<tr><th></th><th scope=col>KPwDN</th><th scope=col>nkpm</th></tr>\n",
       "\t<tr><th></th><th scope=col>&lt;chr&gt;</th><th scope=col>&lt;dbl&gt;</th></tr>\n",
       "</thead>\n",
       "<tbody>\n",
       "\t<tr><th scope=row>1</th><td>KPwDN Aceh      </td><td>148049</td></tr>\n",
       "\t<tr><th scope=row>2</th><td>KPwDN Bali      </td><td> 54123</td></tr>\n",
       "\t<tr><th scope=row>3</th><td>KPwDN Balikpapan</td><td> 14608</td></tr>\n",
       "\t<tr><th scope=row>4</th><td>KPwDN Banten    </td><td>168058</td></tr>\n",
       "\t<tr><th scope=row>5</th><td>KPwDN Bengkulu  </td><td> 79484</td></tr>\n",
       "\t<tr><th scope=row>6</th><td>KPwDN Cirebon   </td><td>261273</td></tr>\n",
       "</tbody>\n",
       "</table>\n"
      ],
      "text/latex": [
       "A data.frame: 6 × 2\n",
       "\\begin{tabular}{r|ll}\n",
       "  & KPwDN & nkpm\\\\\n",
       "  & <chr> & <dbl>\\\\\n",
       "\\hline\n",
       "\t1 & KPwDN Aceh       & 148049\\\\\n",
       "\t2 & KPwDN Bali       &  54123\\\\\n",
       "\t3 & KPwDN Balikpapan &  14608\\\\\n",
       "\t4 & KPwDN Banten     & 168058\\\\\n",
       "\t5 & KPwDN Bengkulu   &  79484\\\\\n",
       "\t6 & KPwDN Cirebon    & 261273\\\\\n",
       "\\end{tabular}\n"
      ],
      "text/markdown": [
       "\n",
       "A data.frame: 6 × 2\n",
       "\n",
       "| <!--/--> | KPwDN &lt;chr&gt; | nkpm &lt;dbl&gt; |\n",
       "|---|---|---|\n",
       "| 1 | KPwDN Aceh       | 148049 |\n",
       "| 2 | KPwDN Bali       |  54123 |\n",
       "| 3 | KPwDN Balikpapan |  14608 |\n",
       "| 4 | KPwDN Banten     | 168058 |\n",
       "| 5 | KPwDN Bengkulu   |  79484 |\n",
       "| 6 | KPwDN Cirebon    | 261273 |\n",
       "\n"
      ],
      "text/plain": [
       "  KPwDN            nkpm  \n",
       "1 KPwDN Aceh       148049\n",
       "2 KPwDN Bali        54123\n",
       "3 KPwDN Balikpapan  14608\n",
       "4 KPwDN Banten     168058\n",
       "5 KPwDN Bengkulu    79484\n",
       "6 KPwDN Cirebon    261273"
      ]
     },
     "metadata": {},
     "output_type": "display_data"
    },
    {
     "data": {
      "text/html": [
       "46"
      ],
      "text/latex": [
       "46"
      ],
      "text/markdown": [
       "46"
      ],
      "text/plain": [
       "[1] 46"
      ]
     },
     "metadata": {},
     "output_type": "display_data"
    },
    {
     "data": {
      "text/html": [
       "7964375"
      ],
      "text/latex": [
       "7964375"
      ],
      "text/markdown": [
       "7964375"
      ],
      "text/plain": [
       "[1] 7964375"
      ]
     },
     "metadata": {},
     "output_type": "display_data"
    }
   ],
   "source": [
    "# Agg ps_m by KPwDN\t sum nps\n",
    "pkh_m <- aggregate(nkpm ~ KPwDN, data = pkh_m, FUN = sum)\n",
    "head(pkh_m)\n",
    "nrow(pkh_m)\n",
    "sum(pkh_m$nkpm)"
   ]
  },
  {
   "cell_type": "code",
   "execution_count": 14,
   "id": "a78d84ce",
   "metadata": {
    "vscode": {
     "languageId": "r"
    }
   },
   "outputs": [
    {
     "data": {
      "text/html": [
       "<table class=\"dataframe\">\n",
       "<caption>A data.frame: 6 × 5</caption>\n",
       "<thead>\n",
       "\t<tr><th></th><th scope=col>KPwDN</th><th scope=col>nps</th><th scope=col>nkpm</th><th scope=col>ntotal</th><th scope=col>prop</th></tr>\n",
       "\t<tr><th></th><th scope=col>&lt;chr&gt;</th><th scope=col>&lt;dbl&gt;</th><th scope=col>&lt;dbl&gt;</th><th scope=col>&lt;dbl&gt;</th><th scope=col>&lt;dbl&gt;</th></tr>\n",
       "</thead>\n",
       "<tbody>\n",
       "\t<tr><th scope=row>1</th><td>KPwDN Aceh      </td><td>228562</td><td>148049</td><td>376611</td><td>1.6486733</td></tr>\n",
       "\t<tr><th scope=row>2</th><td>KPwDN Bali      </td><td> 89053</td><td> 54123</td><td>143176</td><td>0.6267752</td></tr>\n",
       "\t<tr><th scope=row>3</th><td>KPwDN Balikpapan</td><td> 24534</td><td> 14608</td><td> 39142</td><td>0.1713502</td></tr>\n",
       "\t<tr><th scope=row>4</th><td>KPwDN Banten    </td><td>339476</td><td>168058</td><td>507534</td><td>2.2218091</td></tr>\n",
       "\t<tr><th scope=row>5</th><td>KPwDN Bengkulu  </td><td>117823</td><td> 79484</td><td>197307</td><td>0.8637421</td></tr>\n",
       "\t<tr><th scope=row>6</th><td>KPwDN Cirebon   </td><td>639321</td><td>261273</td><td>900594</td><td>3.9424904</td></tr>\n",
       "</tbody>\n",
       "</table>\n"
      ],
      "text/latex": [
       "A data.frame: 6 × 5\n",
       "\\begin{tabular}{r|lllll}\n",
       "  & KPwDN & nps & nkpm & ntotal & prop\\\\\n",
       "  & <chr> & <dbl> & <dbl> & <dbl> & <dbl>\\\\\n",
       "\\hline\n",
       "\t1 & KPwDN Aceh       & 228562 & 148049 & 376611 & 1.6486733\\\\\n",
       "\t2 & KPwDN Bali       &  89053 &  54123 & 143176 & 0.6267752\\\\\n",
       "\t3 & KPwDN Balikpapan &  24534 &  14608 &  39142 & 0.1713502\\\\\n",
       "\t4 & KPwDN Banten     & 339476 & 168058 & 507534 & 2.2218091\\\\\n",
       "\t5 & KPwDN Bengkulu   & 117823 &  79484 & 197307 & 0.8637421\\\\\n",
       "\t6 & KPwDN Cirebon    & 639321 & 261273 & 900594 & 3.9424904\\\\\n",
       "\\end{tabular}\n"
      ],
      "text/markdown": [
       "\n",
       "A data.frame: 6 × 5\n",
       "\n",
       "| <!--/--> | KPwDN &lt;chr&gt; | nps &lt;dbl&gt; | nkpm &lt;dbl&gt; | ntotal &lt;dbl&gt; | prop &lt;dbl&gt; |\n",
       "|---|---|---|---|---|---|\n",
       "| 1 | KPwDN Aceh       | 228562 | 148049 | 376611 | 1.6486733 |\n",
       "| 2 | KPwDN Bali       |  89053 |  54123 | 143176 | 0.6267752 |\n",
       "| 3 | KPwDN Balikpapan |  24534 |  14608 |  39142 | 0.1713502 |\n",
       "| 4 | KPwDN Banten     | 339476 | 168058 | 507534 | 2.2218091 |\n",
       "| 5 | KPwDN Bengkulu   | 117823 |  79484 | 197307 | 0.8637421 |\n",
       "| 6 | KPwDN Cirebon    | 639321 | 261273 | 900594 | 3.9424904 |\n",
       "\n"
      ],
      "text/plain": [
       "  KPwDN            nps    nkpm   ntotal prop     \n",
       "1 KPwDN Aceh       228562 148049 376611 1.6486733\n",
       "2 KPwDN Bali        89053  54123 143176 0.6267752\n",
       "3 KPwDN Balikpapan  24534  14608  39142 0.1713502\n",
       "4 KPwDN Banten     339476 168058 507534 2.2218091\n",
       "5 KPwDN Bengkulu   117823  79484 197307 0.8637421\n",
       "6 KPwDN Cirebon    639321 261273 900594 3.9424904"
      ]
     },
     "metadata": {},
     "output_type": "display_data"
    }
   ],
   "source": [
    "# Merge pkh_m$nkpm and ps_m_agg$nps by KPwDN\n",
    "datakpm <- merge(ps_m_agg, pkh_m, by = \"KPwDN\")\n",
    "# Rename columns\n",
    "datakpm$ntotal <- datakpm$nps + datakpm$nkpm\n",
    "datakpm$prop <- datakpm$ntotal / sum(datakpm$ntotal) * 100\n",
    "# Display the first few rows of the final dataset\n",
    "head(datakpm)"
   ]
  },
  {
   "cell_type": "code",
   "execution_count": 15,
   "id": "d4194b17",
   "metadata": {
    "vscode": {
     "languageId": "r"
    }
   },
   "outputs": [
    {
     "data": {
      "image/png": "[encoded data removed]",
      "text/plain": [
       "Plot with title \"Histogram of datakpm$prop\""
      ]
     },
     "metadata": {
      "image/png": {
       "height": 420,
       "width": 420
      }
     },
     "output_type": "display_data"
    }
   ],
   "source": [
    "hist(datakpm$prop)"
   ]
  },
  {
   "cell_type": "code",
   "execution_count": 16,
   "id": "58c242c0",
   "metadata": {
    "vscode": {
     "languageId": "r"
    }
   },
   "outputs": [],
   "source": [
    "# Urutkan data berdasarkan ntotal\n",
    "datakpm <- datakpm[order(datakpm$ntotal, decreasing = TRUE), ]\n",
    "\n",
    "# Tetapkan strata berdasarkan urutan\n",
    "datakpm$kpm <- c(rep(\"Besar\", 15), \n",
    "                 rep(\"Sedang\", 16), \n",
    "                 rep(\"Kecil\", nrow(datakpm) - 31))\n",
    "\n",
    "# Konversi kolom kpm menjadi faktor dengan urutan\n",
    "datakpm$kpm <- factor(datakpm$kpm, levels = c(\"Kecil\", \"Sedang\", \"Besar\"), ordered = TRUE)"
   ]
  },
  {
   "cell_type": "code",
   "execution_count": 17,
   "id": "72f7a7e0",
   "metadata": {
    "vscode": {
     "languageId": "r"
    }
   },
   "outputs": [
    {
     "data": {
      "text/plain": [
       "\n",
       " Kecil Sedang  Besar \n",
       "    15     16     15 "
      ]
     },
     "metadata": {},
     "output_type": "display_data"
    }
   ],
   "source": [
    "# order kecil sedang besar\n",
    "datakpm$kpm <- factor(datakpm$kpm, \n",
    "    levels = c(\"Kecil\", \"Sedang\", \"Besar\"), \n",
    "    ordered = TRUE) \n",
    "# order by prop\n",
    "datakpm <- datakpm[order(datakpm$prop, decreasing = F), ]\n",
    "table(datakpm$kpm)"
   ]
  },
  {
   "cell_type": "code",
   "execution_count": 18,
   "id": "80c79fa3",
   "metadata": {
    "vscode": {
     "languageId": "r"
    }
   },
   "outputs": [],
   "source": [
    "datashowtype <- datakpm[,c(1,6)]\n",
    "datashowtype$Kategori <- datashowtype$kpm\n",
    " datashowtype$kpm <- NULL\n",
    "write.csv(datashowtype, \"datashowtype.csv\", row.names = FALSE) \n"
   ]
  },
  {
   "cell_type": "code",
   "execution_count": 19,
   "id": "ba702ac1",
   "metadata": {
    "vscode": {
     "languageId": "r"
    }
   },
   "outputs": [],
   "source": [
    "minumum_agen <- c(9, 13, 17)\n",
    "minumum_pkh <- c(18,26,34)\n",
    "minum_ps <- c(18,26,34)"
   ]
  },
  {
   "cell_type": "code",
   "execution_count": 20,
   "id": "fffb342c",
   "metadata": {
    "vscode": {
     "languageId": "r"
    }
   },
   "outputs": [
    {
     "data": {
      "text/html": [
       "<table class=\"dataframe\">\n",
       "<caption>A data.frame: 6 × 6</caption>\n",
       "<thead>\n",
       "\t<tr><th></th><th scope=col>KPwDN</th><th scope=col>Kategori</th><th scope=col>KPM PKH</th><th scope=col>KPM PS</th><th scope=col>Agen</th><th scope=col>Total</th></tr>\n",
       "\t<tr><th></th><th scope=col>&lt;chr&gt;</th><th scope=col>&lt;ord&gt;</th><th scope=col>&lt;dbl&gt;</th><th scope=col>&lt;dbl&gt;</th><th scope=col>&lt;dbl&gt;</th><th scope=col>&lt;dbl&gt;</th></tr>\n",
       "</thead>\n",
       "<tbody>\n",
       "\t<tr><th scope=row>31</th><td>KPwDN Papua Barat              </td><td>Kecil</td><td>9</td><td>18</td><td>18</td><td>45</td></tr>\n",
       "\t<tr><th scope=row>30</th><td>KPwDN Papua                    </td><td>Kecil</td><td>9</td><td>18</td><td>18</td><td>45</td></tr>\n",
       "\t<tr><th scope=row>19</th><td>KPwDN Kalimantan Utara         </td><td>Kecil</td><td>9</td><td>18</td><td>18</td><td>45</td></tr>\n",
       "\t<tr><th scope=row>3</th><td>KPwDN Balikpapan               </td><td>Kecil</td><td>9</td><td>18</td><td>18</td><td>45</td></tr>\n",
       "\t<tr><th scope=row>21</th><td>KPwDN Kepulauan Bangka Belitung</td><td>Kecil</td><td>9</td><td>18</td><td>18</td><td>45</td></tr>\n",
       "\t<tr><th scope=row>27</th><td>KPwDN Maluku Utara             </td><td>Kecil</td><td>9</td><td>18</td><td>18</td><td>45</td></tr>\n",
       "</tbody>\n",
       "</table>\n"
      ],
      "text/latex": [
       "A data.frame: 6 × 6\n",
       "\\begin{tabular}{r|llllll}\n",
       "  & KPwDN & Kategori & KPM PKH & KPM PS & Agen & Total\\\\\n",
       "  & <chr> & <ord> & <dbl> & <dbl> & <dbl> & <dbl>\\\\\n",
       "\\hline\n",
       "\t31 & KPwDN Papua Barat               & Kecil & 9 & 18 & 18 & 45\\\\\n",
       "\t30 & KPwDN Papua                     & Kecil & 9 & 18 & 18 & 45\\\\\n",
       "\t19 & KPwDN Kalimantan Utara          & Kecil & 9 & 18 & 18 & 45\\\\\n",
       "\t3 & KPwDN Balikpapan                & Kecil & 9 & 18 & 18 & 45\\\\\n",
       "\t21 & KPwDN Kepulauan Bangka Belitung & Kecil & 9 & 18 & 18 & 45\\\\\n",
       "\t27 & KPwDN Maluku Utara              & Kecil & 9 & 18 & 18 & 45\\\\\n",
       "\\end{tabular}\n"
      ],
      "text/markdown": [
       "\n",
       "A data.frame: 6 × 6\n",
       "\n",
       "| <!--/--> | KPwDN &lt;chr&gt; | Kategori &lt;ord&gt; | KPM PKH &lt;dbl&gt; | KPM PS &lt;dbl&gt; | Agen &lt;dbl&gt; | Total &lt;dbl&gt; |\n",
       "|---|---|---|---|---|---|---|\n",
       "| 31 | KPwDN Papua Barat               | Kecil | 9 | 18 | 18 | 45 |\n",
       "| 30 | KPwDN Papua                     | Kecil | 9 | 18 | 18 | 45 |\n",
       "| 19 | KPwDN Kalimantan Utara          | Kecil | 9 | 18 | 18 | 45 |\n",
       "| 3 | KPwDN Balikpapan                | Kecil | 9 | 18 | 18 | 45 |\n",
       "| 21 | KPwDN Kepulauan Bangka Belitung | Kecil | 9 | 18 | 18 | 45 |\n",
       "| 27 | KPwDN Maluku Utara              | Kecil | 9 | 18 | 18 | 45 |\n",
       "\n"
      ],
      "text/plain": [
       "   KPwDN                           Kategori KPM PKH KPM PS Agen Total\n",
       "31 KPwDN Papua Barat               Kecil    9       18     18   45   \n",
       "30 KPwDN Papua                     Kecil    9       18     18   45   \n",
       "19 KPwDN Kalimantan Utara          Kecil    9       18     18   45   \n",
       "3  KPwDN Balikpapan                Kecil    9       18     18   45   \n",
       "21 KPwDN Kepulauan Bangka Belitung Kecil    9       18     18   45   \n",
       "27 KPwDN Maluku Utara              Kecil    9       18     18   45   "
      ]
     },
     "metadata": {},
     "output_type": "display_data"
    }
   ],
   "source": [
    "# Tambahkan kolom jumlah minimum berdasarkan kategori\n",
    "datashowtype$min_agen <- ifelse(datashowtype$Kategori == \"Kecil\", minumum_agen[1],\n",
    "                         ifelse(datashowtype$Kategori == \"Sedang\", minumum_agen[2], minumum_agen[3]))\n",
    "\n",
    "datashowtype$min_pkh <- ifelse(datashowtype$Kategori == \"Kecil\", minumum_pkh[1],\n",
    "                        ifelse(datashowtype$Kategori == \"Sedang\", minumum_pkh[2], minumum_pkh[3]))\n",
    "\n",
    "datashowtype$min_ps <- ifelse(datashowtype$Kategori == \"Kecil\", minum_ps[1],\n",
    "                       ifelse(datashowtype$Kategori == \"Sedang\", minum_ps[2], minum_ps[3]))\n",
    "\n",
    "# Tambahkan kolom total\n",
    "datashowtype$total <- datashowtype$min_agen + datashowtype$min_pkh + datashowtype$min_ps\n",
    "\n",
    "# Tampilkan hasil\n",
    "# rename kolom KPM PKH\tKPM Program Sembako\tAgen Bank\tTotal\n",
    "colnames(datashowtype) <- c(\"KPwDN\", \"Kategori\", \"KPM PKH\", \"KPM PS\", \"Agen\", \"Total\")\n",
    "# Tampilkan hasil\n",
    "head(datashowtype)\n",
    "write.csv(datashowtype, \"datashowtype.csv\", row.names = FALSE) "
   ]
  }
 ],
 "metadata": {
  "kernelspec": {
   "display_name": "R",
   "language": "R",
   "name": "ir"
  },
  "language_info": {
   "codemirror_mode": "r",
   "file_extension": ".r",
   "mimetype": "text/x-r-source",
   "name": "R",
   "pygments_lexer": "r",
   "version": "4.4.2"
  }
 },
 "nbformat": 4,
 "nbformat_minor": 5
}
